{
 "cells": [
  {
   "cell_type": "code",
   "execution_count": 1,
   "id": "1c42965c",
   "metadata": {},
   "outputs": [],
   "source": [
    "import pandas as pd\n",
    "import math\n",
    "import numpy as np"
   ]
  },
  {
   "cell_type": "code",
   "execution_count": 2,
   "id": "3f769e08",
   "metadata": {},
   "outputs": [],
   "source": [
    "        test = pd.DataFrame()\n",
    "        test = pd.read_csv('/Users/39388/Downloads/psl_csv2/psl_csv_2020/1211655_info.csv',  on_bad_lines='skip')"
   ]
  },
  {
   "cell_type": "code",
   "execution_count": 3,
   "id": "967b6ace",
   "metadata": {},
   "outputs": [],
   "source": [
    "test =test.transpose()"
   ]
  },
  {
   "cell_type": "code",
   "execution_count": 4,
   "id": "64652acf",
   "metadata": {},
   "outputs": [],
   "source": [
    "test. columns=test. iloc[0]"
   ]
  },
  {
   "cell_type": "code",
   "execution_count": 5,
   "id": "631a0e62",
   "metadata": {},
   "outputs": [
    {
     "data": {
      "text/html": [
       "<div>\n",
       "<style scoped>\n",
       "    .dataframe tbody tr th:only-of-type {\n",
       "        vertical-align: middle;\n",
       "    }\n",
       "\n",
       "    .dataframe tbody tr th {\n",
       "        vertical-align: top;\n",
       "    }\n",
       "\n",
       "    .dataframe thead th {\n",
       "        text-align: right;\n",
       "    }\n",
       "</style>\n",
       "<table border=\"1\" class=\"dataframe\">\n",
       "  <thead>\n",
       "    <tr style=\"text-align: right;\">\n",
       "      <th>version</th>\n",
       "      <th>winner</th>\n",
       "      <th>match_number</th>\n",
       "    </tr>\n",
       "  </thead>\n",
       "  <tbody>\n",
       "    <tr>\n",
       "      <th>2.1.0</th>\n",
       "      <td>Karachi Kings</td>\n",
       "      <td>14</td>\n",
       "    </tr>\n",
       "  </tbody>\n",
       "</table>\n",
       "</div>"
      ],
      "text/plain": [
       "version         winner match_number\n",
       "2.1.0    Karachi Kings           14"
      ]
     },
     "execution_count": 5,
     "metadata": {},
     "output_type": "execute_result"
    }
   ],
   "source": [
    "test = test[['winner','match_number']]\n",
    "test = test.iloc[1:]\n",
    "test"
   ]
  },
  {
   "cell_type": "code",
   "execution_count": 6,
   "id": "acfa22e8",
   "metadata": {},
   "outputs": [],
   "source": [
    "        data_2020_temp = pd.DataFrame()\n",
    "        \n",
    "        data_2020_temp = pd.read_csv('/Users/39388/Downloads/psl_csv2/psl_csv_2020/1211655_info.csv', on_bad_lines='skip')\n",
    "                                     \n",
    "        data_2020_temp = data_2020_temp.transpose()   \n",
    "                                     \n",
    "        data_2020_temp.columns=  data_2020_temp. iloc[0]\n",
    "                                     \n",
    "        data_2020_temp = data_2020_temp[['winner','match_number']]\n",
    "                                     \n",
    "        data_2020_temp = data_2020_temp.iloc[1:]"
   ]
  },
  {
   "cell_type": "code",
   "execution_count": 7,
   "id": "4d80e488",
   "metadata": {},
   "outputs": [
    {
     "ename": "IndexError",
     "evalue": "Replacement index 1 out of range for positional args tuple",
     "output_type": "error",
     "traceback": [
      "\u001b[0;31m---------------------------------------------------------------------------\u001b[0m",
      "\u001b[0;31mIndexError\u001b[0m                                Traceback (most recent call last)",
      "Input \u001b[0;32mIn [7]\u001b[0m, in \u001b[0;36m<cell line: 15>\u001b[0;34m()\u001b[0m\n\u001b[1;32m     16\u001b[0m \u001b[38;5;28;01mif\u001b[39;00m file\u001b[38;5;241m.\u001b[39mendswith(\u001b[38;5;124m'\u001b[39m\u001b[38;5;124minfo.csv\u001b[39m\u001b[38;5;124m'\u001b[39m):\n\u001b[1;32m     17\u001b[0m     data_2020_temp \u001b[38;5;241m=\u001b[39m pd\u001b[38;5;241m.\u001b[39mDataFrame()\n\u001b[0;32m---> 18\u001b[0m     data_2020_temp \u001b[38;5;241m=\u001b[39m pd\u001b[38;5;241m.\u001b[39mread_csv(\u001b[38;5;124;43m'\u001b[39;49m\u001b[38;5;132;43;01m{}\u001b[39;49;00m\u001b[38;5;132;43;01m{}\u001b[39;49;00m\u001b[38;5;124;43m'\u001b[39;49m\u001b[38;5;241;43m.\u001b[39;49m\u001b[43mformat\u001b[49m\u001b[43m(\u001b[49m\u001b[43m(\u001b[49m\u001b[43m(\u001b[49m\u001b[43mpath\u001b[49m\u001b[43m,\u001b[49m\u001b[43mfile\u001b[49m\u001b[43m)\u001b[49m\u001b[43m)\u001b[49m\u001b[43m)\u001b[49m,ignore_index\u001b[38;5;241m=\u001b[39m\u001b[38;5;28;01mTrue\u001b[39;00m,on_bad_lines\u001b[38;5;241m=\u001b[39m\u001b[38;5;124m'\u001b[39m\u001b[38;5;124mskip\u001b[39m\u001b[38;5;124m'\u001b[39m)\n\u001b[1;32m     19\u001b[0m     data_2020_temp \u001b[38;5;241m=\u001b[39m data_2020_temp\u001b[38;5;241m.\u001b[39mtranspose()\n\u001b[1;32m     20\u001b[0m     data_2020_temp\u001b[38;5;241m.\u001b[39mcolumns\u001b[38;5;241m=\u001b[39m  data_2020_temp\u001b[38;5;241m.\u001b[39m iloc[\u001b[38;5;241m0\u001b[39m]\n",
      "\u001b[0;31mIndexError\u001b[0m: Replacement index 1 out of range for positional args tuple"
     ]
    }
   ],
   "source": [
    "import os\n",
    "\n",
    "path = '/Users/39388/Downloads/psl_csv2/psl_csv_2020/' #replace with the relative folder to where the files are contained\n",
    "\n",
    "cwd = os.path.relpath(path) \n",
    "files = os.listdir(cwd)  \n",
    "\n",
    "all_matches_list_2020 = pd.DataFrame()\n",
    "data = pd.DataFrame()\n",
    "all_data_2020_logReg = pd.DataFrame()\n",
    "\n",
    "\n",
    "data_2020_info = pd.DataFrame()\n",
    "\n",
    "for file in files:\n",
    "    if file.endswith('info.csv'):\n",
    "        data_2020_temp = pd.DataFrame()\n",
    "        data_2020_temp = pd.read_csv('{}{}'.format(((path,file))),ignore_index=True,on_bad_lines='skip')\n",
    "        data_2020_temp = data_2020_temp.transpose()\n",
    "        data_2020_temp.columns=  data_2020_temp. iloc[0]\n",
    "\n",
    "        data_2020_temp = data_2020_temp[['winner','match_number']]\n",
    "\n",
    "        data_2020_temp = data_2020_temp.iloc[1:]\n",
    "\n",
    "        data_2020_info = data_2020_info.append((data_2020_temp), ignore_index=True, on_bad_lines='skip')\n",
    "\n",
    "        data_2020_temp = pd.DataFrame()"
   ]
  },
  {
   "cell_type": "code",
   "execution_count": 2,
   "id": "380b8fa9",
   "metadata": {},
   "outputs": [],
   "source": [
    "import pandas as pd\n",
    "import statsmodels.formula.api as smf"
   ]
  },
  {
   "cell_type": "code",
   "execution_count": 10,
   "id": "7b2e7f13",
   "metadata": {},
   "outputs": [],
   "source": [
    "cricket_2020 = pd.read_csv(\"/Users/39388/Downloads/finalDelivery/ProcessedDataSet/2020ProcessedData.csv\")\n"
   ]
  },
  {
   "cell_type": "code",
   "execution_count": 6,
   "id": "c87cfe2b",
   "metadata": {},
   "outputs": [
    {
     "name": "stdout",
     "output_type": "stream",
     "text": [
      "Optimization terminated successfully.\n",
      "         Current function value: 0.477610\n",
      "         Iterations 7\n"
     ]
    }
   ],
   "source": [
    "# \n",
    "import statsmodels.api as sm\n",
    "import pandas as pd \n",
    "  \n",
    "# loading the training dataset \n",
    "df1 = pd.read_csv('/Users/39388/Downloads/2020ProcessedData1.csv', index_col = 0)\n",
    "df1 = df1.dropna()\n",
    "df1.drop(index = [55,56], inplace = True)\n",
    "df1[\"bowler_PCA\"] = df1[\"bowler_PCA\"]*-1\n",
    "# defining the dependent and independent variables\n",
    "Xtrain = df1[[\"runrate_first_six_over\",\"wickets_lost_first_six\",\"runrate_last_five_over\",\"wickets_lost_last_five\",\"batsman_PCA\",\"bowler_PCA\",\"toss_win\",\"stddev_batsman\",\"strike_rotation\",\"stddev_bowler\"]]\n",
    "ytrain = df1[['match_win']]\n",
    "   \n",
    "# building the model and fitting the data\n",
    "log_reg1 = sm.Logit(ytrain, Xtrain).fit()\n"
   ]
  },
  {
   "cell_type": "code",
   "execution_count": 7,
   "id": "ec41e21f",
   "metadata": {},
   "outputs": [
    {
     "data": {
      "text/html": [
       "<div>\n",
       "<style scoped>\n",
       "    .dataframe tbody tr th:only-of-type {\n",
       "        vertical-align: middle;\n",
       "    }\n",
       "\n",
       "    .dataframe tbody tr th {\n",
       "        vertical-align: top;\n",
       "    }\n",
       "\n",
       "    .dataframe thead th {\n",
       "        text-align: right;\n",
       "    }\n",
       "</style>\n",
       "<table border=\"1\" class=\"dataframe\">\n",
       "  <thead>\n",
       "    <tr style=\"text-align: right;\">\n",
       "      <th></th>\n",
       "      <th>team</th>\n",
       "      <th>match_id</th>\n",
       "      <th>runrate_first_six_over</th>\n",
       "      <th>wickets_lost_first_six</th>\n",
       "      <th>runrate_last_five_over</th>\n",
       "      <th>wickets_lost_last_five</th>\n",
       "      <th>batsman_PCA</th>\n",
       "      <th>bowler_PCA</th>\n",
       "      <th>toss_win</th>\n",
       "      <th>match_win</th>\n",
       "      <th>strike_rotation</th>\n",
       "      <th>stddev_batsman</th>\n",
       "      <th>stddev_bowler</th>\n",
       "    </tr>\n",
       "  </thead>\n",
       "  <tbody>\n",
       "    <tr>\n",
       "      <th>0</th>\n",
       "      <td>Islamabad United</td>\n",
       "      <td>1211642.0</td>\n",
       "      <td>9.0</td>\n",
       "      <td>2.0</td>\n",
       "      <td>9.0</td>\n",
       "      <td>6.0</td>\n",
       "      <td>0.112789</td>\n",
       "      <td>0.191240</td>\n",
       "      <td>0.0</td>\n",
       "      <td>0.0</td>\n",
       "      <td>79.0</td>\n",
       "      <td>1.613872</td>\n",
       "      <td>1.494731</td>\n",
       "    </tr>\n",
       "    <tr>\n",
       "      <th>1</th>\n",
       "      <td>Quetta Gladiators</td>\n",
       "      <td>1211642.0</td>\n",
       "      <td>6.0</td>\n",
       "      <td>3.0</td>\n",
       "      <td>9.0</td>\n",
       "      <td>3.0</td>\n",
       "      <td>-0.401480</td>\n",
       "      <td>-0.044789</td>\n",
       "      <td>1.0</td>\n",
       "      <td>1.0</td>\n",
       "      <td>67.0</td>\n",
       "      <td>1.712828</td>\n",
       "      <td>0.530870</td>\n",
       "    </tr>\n",
       "    <tr>\n",
       "      <th>2</th>\n",
       "      <td>Karachi Kings</td>\n",
       "      <td>1211643.0</td>\n",
       "      <td>8.0</td>\n",
       "      <td>1.0</td>\n",
       "      <td>11.0</td>\n",
       "      <td>2.0</td>\n",
       "      <td>2.358933</td>\n",
       "      <td>-0.275947</td>\n",
       "      <td>0.0</td>\n",
       "      <td>1.0</td>\n",
       "      <td>88.0</td>\n",
       "      <td>2.246046</td>\n",
       "      <td>0.419501</td>\n",
       "    </tr>\n",
       "    <tr>\n",
       "      <th>3</th>\n",
       "      <td>Peshawar Zalmi</td>\n",
       "      <td>1211643.0</td>\n",
       "      <td>8.0</td>\n",
       "      <td>2.0</td>\n",
       "      <td>13.0</td>\n",
       "      <td>2.0</td>\n",
       "      <td>0.865969</td>\n",
       "      <td>-0.232708</td>\n",
       "      <td>1.0</td>\n",
       "      <td>0.0</td>\n",
       "      <td>105.0</td>\n",
       "      <td>1.376433</td>\n",
       "      <td>0.759959</td>\n",
       "    </tr>\n",
       "    <tr>\n",
       "      <th>4</th>\n",
       "      <td>Lahore Qalandars</td>\n",
       "      <td>1211644.0</td>\n",
       "      <td>10.0</td>\n",
       "      <td>2.0</td>\n",
       "      <td>7.0</td>\n",
       "      <td>3.0</td>\n",
       "      <td>-0.328489</td>\n",
       "      <td>0.058016</td>\n",
       "      <td>0.0</td>\n",
       "      <td>0.0</td>\n",
       "      <td>54.0</td>\n",
       "      <td>1.109202</td>\n",
       "      <td>1.860303</td>\n",
       "    </tr>\n",
       "    <tr>\n",
       "      <th>5</th>\n",
       "      <td>Multan Sultans</td>\n",
       "      <td>1211644.0</td>\n",
       "      <td>9.0</td>\n",
       "      <td>2.0</td>\n",
       "      <td>9.0</td>\n",
       "      <td>2.0</td>\n",
       "      <td>-0.593562</td>\n",
       "      <td>0.853825</td>\n",
       "      <td>1.0</td>\n",
       "      <td>1.0</td>\n",
       "      <td>73.0</td>\n",
       "      <td>0.389422</td>\n",
       "      <td>2.177963</td>\n",
       "    </tr>\n",
       "    <tr>\n",
       "      <th>6</th>\n",
       "      <td>Quetta Gladiators</td>\n",
       "      <td>1211645.0</td>\n",
       "      <td>6.0</td>\n",
       "      <td>1.0</td>\n",
       "      <td>6.0</td>\n",
       "      <td>2.0</td>\n",
       "      <td>-0.401480</td>\n",
       "      <td>-0.468620</td>\n",
       "      <td>0.0</td>\n",
       "      <td>0.0</td>\n",
       "      <td>78.0</td>\n",
       "      <td>1.712828</td>\n",
       "      <td>0.493309</td>\n",
       "    </tr>\n",
       "    <tr>\n",
       "      <th>7</th>\n",
       "      <td>Peshawar Zalmi</td>\n",
       "      <td>1211645.0</td>\n",
       "      <td>12.0</td>\n",
       "      <td>1.0</td>\n",
       "      <td>5.0</td>\n",
       "      <td>2.0</td>\n",
       "      <td>0.865969</td>\n",
       "      <td>-0.143515</td>\n",
       "      <td>1.0</td>\n",
       "      <td>1.0</td>\n",
       "      <td>57.0</td>\n",
       "      <td>1.376433</td>\n",
       "      <td>1.241903</td>\n",
       "    </tr>\n",
       "    <tr>\n",
       "      <th>8</th>\n",
       "      <td>Multan Sultans</td>\n",
       "      <td>1211646.0</td>\n",
       "      <td>7.0</td>\n",
       "      <td>1.0</td>\n",
       "      <td>10.0</td>\n",
       "      <td>3.0</td>\n",
       "      <td>-0.593562</td>\n",
       "      <td>-0.044789</td>\n",
       "      <td>0.0</td>\n",
       "      <td>0.0</td>\n",
       "      <td>72.0</td>\n",
       "      <td>0.389422</td>\n",
       "      <td>0.530870</td>\n",
       "    </tr>\n",
       "    <tr>\n",
       "      <th>9</th>\n",
       "      <td>Islamabad United</td>\n",
       "      <td>1211646.0</td>\n",
       "      <td>10.0</td>\n",
       "      <td>0.0</td>\n",
       "      <td>10.0</td>\n",
       "      <td>1.0</td>\n",
       "      <td>1.992442</td>\n",
       "      <td>0.058016</td>\n",
       "      <td>1.0</td>\n",
       "      <td>1.0</td>\n",
       "      <td>59.0</td>\n",
       "      <td>0.000000</td>\n",
       "      <td>1.860303</td>\n",
       "    </tr>\n",
       "    <tr>\n",
       "      <th>10</th>\n",
       "      <td>Karachi Kings</td>\n",
       "      <td>1211647.0</td>\n",
       "      <td>6.0</td>\n",
       "      <td>1.0</td>\n",
       "      <td>10.0</td>\n",
       "      <td>4.0</td>\n",
       "      <td>1.562618</td>\n",
       "      <td>-0.062765</td>\n",
       "      <td>1.0</td>\n",
       "      <td>0.0</td>\n",
       "      <td>78.0</td>\n",
       "      <td>2.384512</td>\n",
       "      <td>1.146544</td>\n",
       "    </tr>\n",
       "    <tr>\n",
       "      <th>11</th>\n",
       "      <td>Quetta Gladiators</td>\n",
       "      <td>1211647.0</td>\n",
       "      <td>6.0</td>\n",
       "      <td>1.0</td>\n",
       "      <td>10.0</td>\n",
       "      <td>2.0</td>\n",
       "      <td>-0.401480</td>\n",
       "      <td>-0.232708</td>\n",
       "      <td>0.0</td>\n",
       "      <td>1.0</td>\n",
       "      <td>74.0</td>\n",
       "      <td>1.712828</td>\n",
       "      <td>0.759959</td>\n",
       "    </tr>\n",
       "    <tr>\n",
       "      <th>12</th>\n",
       "      <td>Lahore Qalandars</td>\n",
       "      <td>1211648.0</td>\n",
       "      <td>10.0</td>\n",
       "      <td>1.0</td>\n",
       "      <td>12.0</td>\n",
       "      <td>2.0</td>\n",
       "      <td>-0.026995</td>\n",
       "      <td>0.125500</td>\n",
       "      <td>0.0</td>\n",
       "      <td>0.0</td>\n",
       "      <td>68.0</td>\n",
       "      <td>1.129975</td>\n",
       "      <td>0.455288</td>\n",
       "    </tr>\n",
       "  </tbody>\n",
       "</table>\n",
       "</div>"
      ],
      "text/plain": [
       "                 team   match_id  runrate_first_six_over  \\\n",
       "0    Islamabad United  1211642.0                     9.0   \n",
       "1   Quetta Gladiators  1211642.0                     6.0   \n",
       "2       Karachi Kings  1211643.0                     8.0   \n",
       "3      Peshawar Zalmi  1211643.0                     8.0   \n",
       "4    Lahore Qalandars  1211644.0                    10.0   \n",
       "5      Multan Sultans  1211644.0                     9.0   \n",
       "6   Quetta Gladiators  1211645.0                     6.0   \n",
       "7      Peshawar Zalmi  1211645.0                    12.0   \n",
       "8      Multan Sultans  1211646.0                     7.0   \n",
       "9    Islamabad United  1211646.0                    10.0   \n",
       "10      Karachi Kings  1211647.0                     6.0   \n",
       "11  Quetta Gladiators  1211647.0                     6.0   \n",
       "12   Lahore Qalandars  1211648.0                    10.0   \n",
       "\n",
       "    wickets_lost_first_six  runrate_last_five_over  wickets_lost_last_five  \\\n",
       "0                      2.0                     9.0                     6.0   \n",
       "1                      3.0                     9.0                     3.0   \n",
       "2                      1.0                    11.0                     2.0   \n",
       "3                      2.0                    13.0                     2.0   \n",
       "4                      2.0                     7.0                     3.0   \n",
       "5                      2.0                     9.0                     2.0   \n",
       "6                      1.0                     6.0                     2.0   \n",
       "7                      1.0                     5.0                     2.0   \n",
       "8                      1.0                    10.0                     3.0   \n",
       "9                      0.0                    10.0                     1.0   \n",
       "10                     1.0                    10.0                     4.0   \n",
       "11                     1.0                    10.0                     2.0   \n",
       "12                     1.0                    12.0                     2.0   \n",
       "\n",
       "    batsman_PCA  bowler_PCA  toss_win  match_win  strike_rotation  \\\n",
       "0      0.112789    0.191240       0.0        0.0             79.0   \n",
       "1     -0.401480   -0.044789       1.0        1.0             67.0   \n",
       "2      2.358933   -0.275947       0.0        1.0             88.0   \n",
       "3      0.865969   -0.232708       1.0        0.0            105.0   \n",
       "4     -0.328489    0.058016       0.0        0.0             54.0   \n",
       "5     -0.593562    0.853825       1.0        1.0             73.0   \n",
       "6     -0.401480   -0.468620       0.0        0.0             78.0   \n",
       "7      0.865969   -0.143515       1.0        1.0             57.0   \n",
       "8     -0.593562   -0.044789       0.0        0.0             72.0   \n",
       "9      1.992442    0.058016       1.0        1.0             59.0   \n",
       "10     1.562618   -0.062765       1.0        0.0             78.0   \n",
       "11    -0.401480   -0.232708       0.0        1.0             74.0   \n",
       "12    -0.026995    0.125500       0.0        0.0             68.0   \n",
       "\n",
       "    stddev_batsman  stddev_bowler  \n",
       "0         1.613872       1.494731  \n",
       "1         1.712828       0.530870  \n",
       "2         2.246046       0.419501  \n",
       "3         1.376433       0.759959  \n",
       "4         1.109202       1.860303  \n",
       "5         0.389422       2.177963  \n",
       "6         1.712828       0.493309  \n",
       "7         1.376433       1.241903  \n",
       "8         0.389422       0.530870  \n",
       "9         0.000000       1.860303  \n",
       "10        2.384512       1.146544  \n",
       "11        1.712828       0.759959  \n",
       "12        1.129975       0.455288  "
      ]
     },
     "execution_count": 7,
     "metadata": {},
     "output_type": "execute_result"
    }
   ],
   "source": [
    "\n",
    "df1.head(13)"
   ]
  },
  {
   "cell_type": "code",
   "execution_count": 8,
   "id": "e18635d2",
   "metadata": {},
   "outputs": [
    {
     "name": "stdout",
     "output_type": "stream",
     "text": [
      "                           Logit Regression Results                           \n",
      "==============================================================================\n",
      "Dep. Variable:              match_win   No. Observations:                   61\n",
      "Model:                          Logit   Df Residuals:                       51\n",
      "Method:                           MLE   Df Model:                            9\n",
      "Date:                Tue, 20 Sep 2022   Pseudo R-squ.:                  0.3108\n",
      "Time:                        21:02:07   Log-Likelihood:                -29.134\n",
      "converged:                       True   LL-Null:                       -42.274\n",
      "Covariance Type:            nonrobust   LLR p-value:                  0.001839\n",
      "==========================================================================================\n",
      "                             coef    std err          z      P>|z|      [0.025      0.975]\n",
      "------------------------------------------------------------------------------------------\n",
      "runrate_first_six_over     0.1960      0.141      1.390      0.164      -0.080       0.472\n",
      "wickets_lost_first_six    -0.6126      0.391     -1.568      0.117      -1.378       0.153\n",
      "runrate_last_five_over     0.1810      0.123      1.475      0.140      -0.060       0.422\n",
      "wickets_lost_last_five    -0.7304      0.319     -2.292      0.022      -1.355      -0.106\n",
      "batsman_PCA               -0.3476      0.375     -0.928      0.354      -1.082       0.387\n",
      "bowler_PCA                 0.7860      0.642      1.224      0.221      -0.472       2.045\n",
      "toss_win                   1.2402      0.689      1.799      0.072      -0.111       2.591\n",
      "stddev_batsman             0.4418      0.587      0.753      0.452      -0.709       1.593\n",
      "strike_rotation           -0.0176      0.018     -0.957      0.338      -0.054       0.018\n",
      "stddev_bowler             -0.5752      0.516     -1.115      0.265      -1.586       0.436\n",
      "==========================================================================================\n"
     ]
    }
   ],
   "source": [
    "print(log_reg1.summary())\n"
   ]
  },
  {
   "cell_type": "code",
   "execution_count": 9,
   "id": "b0ad8287",
   "metadata": {},
   "outputs": [
    {
     "ename": "SyntaxError",
     "evalue": "invalid syntax (3948364287.py, line 3)",
     "output_type": "error",
     "traceback": [
      "\u001b[0;36m  Input \u001b[0;32mIn [9]\u001b[0;36m\u001b[0m\n\u001b[0;31m    df_test2 = log_reg.\u001b[0m\n\u001b[0m                       ^\u001b[0m\n\u001b[0;31mSyntaxError\u001b[0m\u001b[0;31m:\u001b[0m invalid syntax\n"
     ]
    }
   ],
   "source": [
    "df_test2 = pd.DataFrame()\n",
    "\n",
    "df_test2 = log_reg.\n",
    "\n",
    "df_test2"
   ]
  },
  {
   "cell_type": "code",
   "execution_count": null,
   "id": "74fd0783",
   "metadata": {
    "scrolled": true
   },
   "outputs": [],
   "source": [
    "LRresult = (log_reg1.summary2().tables[1])\n",
    "LRresult"
   ]
  },
  {
   "cell_type": "code",
   "execution_count": 10,
   "id": "9ae79933",
   "metadata": {},
   "outputs": [],
   "source": [
    "\n",
    "\n",
    "import statsmodels.api as sm\n",
    "import pandas as pd \n",
    "  \n",
    "# loading the training dataset \n",
    "df2 = pd.read_csv('/Users/39388/Downloads/2021ProcessedData1.csv', index_col = 0)\n",
    "df2 = df2.dropna()\n",
    "# defining the dependent and independent variables"
   ]
  },
  {
   "cell_type": "code",
   "execution_count": 11,
   "id": "ee9cac9e",
   "metadata": {},
   "outputs": [
    {
     "name": "stdout",
     "output_type": "stream",
     "text": [
      "Optimization terminated successfully.\n",
      "         Current function value: 0.399432\n",
      "         Iterations 7\n"
     ]
    }
   ],
   "source": [
    "\n",
    "Xtrain = df2[[\"runrate_first_six_over\",\"wickets_lost_first_six\",\"runrate_last_five_over\",\"wickets_lost_last_five\",\"batsman_PCA\",\"bowler_PCA\",\"toss_win\",\"stddev_batsman\",\"strike_rotation\",\"stddev_bowler\"]]\n",
    "ytrain = df2[['match_win']]\n",
    "\n",
    "\n",
    "df2[\"bowler_PCA\"] = [z for x, y in zip(df2[\"bowler_PCA\"].iloc[1::2], df2[\"bowler_PCA\"].iloc[::2]) for z in [x, y]]\n",
    "df2\n",
    "\n",
    "df2[\"stddev_bowler\"] = [z for x, y in zip(df2[\"stddev_bowler\"].iloc[1::2], df2[\"stddev_bowler\"].iloc[::2]) for z in [x, y]]\n",
    "df2\n",
    "   \n",
    "# building the model and fitting the data\n",
    "log_reg2 = sm.Logit(ytrain, Xtrain).fit()\n",
    "\n",
    "\n"
   ]
  },
  {
   "cell_type": "code",
   "execution_count": 14,
   "id": "6941064d",
   "metadata": {},
   "outputs": [
    {
     "name": "stdout",
     "output_type": "stream",
     "text": [
      "                           Logit Regression Results                           \n",
      "==============================================================================\n",
      "Dep. Variable:              match_win   No. Observations:                   68\n",
      "Model:                          Logit   Df Residuals:                       58\n",
      "Method:                           MLE   Df Model:                            9\n",
      "Date:                Tue, 20 Sep 2022   Pseudo R-squ.:                  0.4237\n",
      "Time:                        21:02:33   Log-Likelihood:                -27.161\n",
      "converged:                       True   LL-Null:                       -47.134\n",
      "Covariance Type:            nonrobust   LLR p-value:                 7.774e-06\n",
      "==========================================================================================\n",
      "                             coef    std err          z      P>|z|      [0.025      0.975]\n",
      "------------------------------------------------------------------------------------------\n",
      "runrate_first_six_over     0.1287      0.155      0.829      0.407      -0.176       0.433\n",
      "wickets_lost_first_six    -0.4077      0.320     -1.273      0.203      -1.035       0.220\n",
      "runrate_last_five_over     0.1172      0.126      0.933      0.351      -0.129       0.363\n",
      "wickets_lost_last_five    -0.9766      0.309     -3.160      0.002      -1.582      -0.371\n",
      "batsman_PCA               -0.3509      0.463     -0.757      0.449      -1.259       0.557\n",
      "bowler_PCA                -0.0178      0.567     -0.031      0.975      -1.129       1.094\n",
      "toss_win                   2.2573      0.735      3.073      0.002       0.817       3.697\n",
      "stddev_batsman             0.4849      0.755      0.642      0.521      -0.995       1.965\n",
      "strike_rotation           -0.0179      0.030     -0.593      0.553      -0.077       0.041\n",
      "stddev_bowler              0.3014      0.525      0.575      0.566      -0.727       1.329\n",
      "==========================================================================================\n"
     ]
    }
   ],
   "source": [
    "print(log_reg2.summary())"
   ]
  },
  {
   "cell_type": "code",
   "execution_count": 13,
   "id": "d74cb49b",
   "metadata": {},
   "outputs": [
    {
     "name": "stdout",
     "output_type": "stream",
     "text": [
      "Optimization terminated successfully.\n",
      "         Current function value: 0.308228\n",
      "         Iterations 8\n"
     ]
    },
    {
     "data": {
      "text/html": [
       "<div>\n",
       "<style scoped>\n",
       "    .dataframe tbody tr th:only-of-type {\n",
       "        vertical-align: middle;\n",
       "    }\n",
       "\n",
       "    .dataframe tbody tr th {\n",
       "        vertical-align: top;\n",
       "    }\n",
       "\n",
       "    .dataframe thead th {\n",
       "        text-align: right;\n",
       "    }\n",
       "</style>\n",
       "<table border=\"1\" class=\"dataframe\">\n",
       "  <thead>\n",
       "    <tr style=\"text-align: right;\">\n",
       "      <th></th>\n",
       "      <th>team</th>\n",
       "      <th>match_id</th>\n",
       "      <th>runrate_first_six_over</th>\n",
       "      <th>wickets_lost_first_six</th>\n",
       "      <th>runrate_last_five_over</th>\n",
       "      <th>wickets_lost_last_five</th>\n",
       "      <th>batsman_PCA</th>\n",
       "      <th>bowler_PCA</th>\n",
       "      <th>toss_win</th>\n",
       "      <th>match_win</th>\n",
       "      <th>strike_rotation</th>\n",
       "      <th>stddev_batsman</th>\n",
       "      <th>stddev_bowler</th>\n",
       "    </tr>\n",
       "  </thead>\n",
       "  <tbody>\n",
       "    <tr>\n",
       "      <th>0</th>\n",
       "      <td>Karachi Kings</td>\n",
       "      <td>1293000.0</td>\n",
       "      <td>6.0</td>\n",
       "      <td>0.0</td>\n",
       "      <td>5.0</td>\n",
       "      <td>3.0</td>\n",
       "      <td>-0.523907</td>\n",
       "      <td>-1.644674</td>\n",
       "      <td>0.0</td>\n",
       "      <td>0.0</td>\n",
       "      <td>83.0</td>\n",
       "      <td>1.401289</td>\n",
       "      <td>0.276902</td>\n",
       "    </tr>\n",
       "    <tr>\n",
       "      <th>1</th>\n",
       "      <td>Multan Sultans</td>\n",
       "      <td>1293000.0</td>\n",
       "      <td>7.0</td>\n",
       "      <td>1.0</td>\n",
       "      <td>7.0</td>\n",
       "      <td>2.0</td>\n",
       "      <td>1.714215</td>\n",
       "      <td>1.663632</td>\n",
       "      <td>1.0</td>\n",
       "      <td>1.0</td>\n",
       "      <td>70.0</td>\n",
       "      <td>2.252382</td>\n",
       "      <td>2.131236</td>\n",
       "    </tr>\n",
       "    <tr>\n",
       "      <th>2</th>\n",
       "      <td>Quetta Gladiators</td>\n",
       "      <td>1293001.0</td>\n",
       "      <td>10.0</td>\n",
       "      <td>0.0</td>\n",
       "      <td>8.0</td>\n",
       "      <td>4.0</td>\n",
       "      <td>-0.252665</td>\n",
       "      <td>0.100165</td>\n",
       "      <td>0.0</td>\n",
       "      <td>0.0</td>\n",
       "      <td>67.0</td>\n",
       "      <td>1.152055</td>\n",
       "      <td>0.100046</td>\n",
       "    </tr>\n",
       "    <tr>\n",
       "      <th>3</th>\n",
       "      <td>Peshawar Zalmi</td>\n",
       "      <td>1293001.0</td>\n",
       "      <td>10.0</td>\n",
       "      <td>2.0</td>\n",
       "      <td>10.0</td>\n",
       "      <td>2.0</td>\n",
       "      <td>-0.295003</td>\n",
       "      <td>0.814863</td>\n",
       "      <td>1.0</td>\n",
       "      <td>1.0</td>\n",
       "      <td>68.0</td>\n",
       "      <td>1.843524</td>\n",
       "      <td>2.280755</td>\n",
       "    </tr>\n",
       "    <tr>\n",
       "      <th>4</th>\n",
       "      <td>Lahore Qalandars</td>\n",
       "      <td>1293002.0</td>\n",
       "      <td>11.0</td>\n",
       "      <td>0.0</td>\n",
       "      <td>13.0</td>\n",
       "      <td>3.0</td>\n",
       "      <td>1.122250</td>\n",
       "      <td>-1.644674</td>\n",
       "      <td>0.0</td>\n",
       "      <td>0.0</td>\n",
       "      <td>80.0</td>\n",
       "      <td>2.311418</td>\n",
       "      <td>0.276902</td>\n",
       "    </tr>\n",
       "    <tr>\n",
       "      <th>5</th>\n",
       "      <td>Multan Sultans</td>\n",
       "      <td>1293002.0</td>\n",
       "      <td>10.0</td>\n",
       "      <td>0.0</td>\n",
       "      <td>12.0</td>\n",
       "      <td>4.0</td>\n",
       "      <td>1.236945</td>\n",
       "      <td>-0.499612</td>\n",
       "      <td>1.0</td>\n",
       "      <td>1.0</td>\n",
       "      <td>78.0</td>\n",
       "      <td>2.316596</td>\n",
       "      <td>1.894744</td>\n",
       "    </tr>\n",
       "    <tr>\n",
       "      <th>6</th>\n",
       "      <td>Karachi Kings</td>\n",
       "      <td>1293003.0</td>\n",
       "      <td>5.0</td>\n",
       "      <td>4.0</td>\n",
       "      <td>7.0</td>\n",
       "      <td>3.0</td>\n",
       "      <td>-0.705016</td>\n",
       "      <td>0.814863</td>\n",
       "      <td>0.0</td>\n",
       "      <td>0.0</td>\n",
       "      <td>52.0</td>\n",
       "      <td>1.304642</td>\n",
       "      <td>2.280755</td>\n",
       "    </tr>\n",
       "    <tr>\n",
       "      <th>7</th>\n",
       "      <td>Quetta Gladiators</td>\n",
       "      <td>1293003.0</td>\n",
       "      <td>9.0</td>\n",
       "      <td>0.0</td>\n",
       "      <td>7.0</td>\n",
       "      <td>2.0</td>\n",
       "      <td>-0.092610</td>\n",
       "      <td>1.788613</td>\n",
       "      <td>1.0</td>\n",
       "      <td>1.0</td>\n",
       "      <td>58.0</td>\n",
       "      <td>0.926618</td>\n",
       "      <td>2.030764</td>\n",
       "    </tr>\n",
       "    <tr>\n",
       "      <th>8</th>\n",
       "      <td>Peshawar Zalmi</td>\n",
       "      <td>1293004.0</td>\n",
       "      <td>5.0</td>\n",
       "      <td>3.0</td>\n",
       "      <td>12.0</td>\n",
       "      <td>2.0</td>\n",
       "      <td>-0.342543</td>\n",
       "      <td>0.141829</td>\n",
       "      <td>0.0</td>\n",
       "      <td>0.0</td>\n",
       "      <td>76.0</td>\n",
       "      <td>1.651637</td>\n",
       "      <td>1.608940</td>\n",
       "    </tr>\n",
       "    <tr>\n",
       "      <th>9</th>\n",
       "      <td>Islamabad United</td>\n",
       "      <td>1293004.0</td>\n",
       "      <td>13.0</td>\n",
       "      <td>0.0</td>\n",
       "      <td>10.0</td>\n",
       "      <td>0.0</td>\n",
       "      <td>0.415065</td>\n",
       "      <td>0.103686</td>\n",
       "      <td>1.0</td>\n",
       "      <td>1.0</td>\n",
       "      <td>53.0</td>\n",
       "      <td>1.449738</td>\n",
       "      <td>0.081839</td>\n",
       "    </tr>\n",
       "  </tbody>\n",
       "</table>\n",
       "</div>"
      ],
      "text/plain": [
       "                team   match_id  runrate_first_six_over  \\\n",
       "0      Karachi Kings  1293000.0                     6.0   \n",
       "1     Multan Sultans  1293000.0                     7.0   \n",
       "2  Quetta Gladiators  1293001.0                    10.0   \n",
       "3     Peshawar Zalmi  1293001.0                    10.0   \n",
       "4   Lahore Qalandars  1293002.0                    11.0   \n",
       "5     Multan Sultans  1293002.0                    10.0   \n",
       "6      Karachi Kings  1293003.0                     5.0   \n",
       "7  Quetta Gladiators  1293003.0                     9.0   \n",
       "8     Peshawar Zalmi  1293004.0                     5.0   \n",
       "9   Islamabad United  1293004.0                    13.0   \n",
       "\n",
       "   wickets_lost_first_six  runrate_last_five_over  wickets_lost_last_five  \\\n",
       "0                     0.0                     5.0                     3.0   \n",
       "1                     1.0                     7.0                     2.0   \n",
       "2                     0.0                     8.0                     4.0   \n",
       "3                     2.0                    10.0                     2.0   \n",
       "4                     0.0                    13.0                     3.0   \n",
       "5                     0.0                    12.0                     4.0   \n",
       "6                     4.0                     7.0                     3.0   \n",
       "7                     0.0                     7.0                     2.0   \n",
       "8                     3.0                    12.0                     2.0   \n",
       "9                     0.0                    10.0                     0.0   \n",
       "\n",
       "   batsman_PCA  bowler_PCA  toss_win  match_win  strike_rotation  \\\n",
       "0    -0.523907   -1.644674       0.0        0.0             83.0   \n",
       "1     1.714215    1.663632       1.0        1.0             70.0   \n",
       "2    -0.252665    0.100165       0.0        0.0             67.0   \n",
       "3    -0.295003    0.814863       1.0        1.0             68.0   \n",
       "4     1.122250   -1.644674       0.0        0.0             80.0   \n",
       "5     1.236945   -0.499612       1.0        1.0             78.0   \n",
       "6    -0.705016    0.814863       0.0        0.0             52.0   \n",
       "7    -0.092610    1.788613       1.0        1.0             58.0   \n",
       "8    -0.342543    0.141829       0.0        0.0             76.0   \n",
       "9     0.415065    0.103686       1.0        1.0             53.0   \n",
       "\n",
       "   stddev_batsman  stddev_bowler  \n",
       "0        1.401289       0.276902  \n",
       "1        2.252382       2.131236  \n",
       "2        1.152055       0.100046  \n",
       "3        1.843524       2.280755  \n",
       "4        2.311418       0.276902  \n",
       "5        2.316596       1.894744  \n",
       "6        1.304642       2.280755  \n",
       "7        0.926618       2.030764  \n",
       "8        1.651637       1.608940  \n",
       "9        1.449738       0.081839  "
      ]
     },
     "execution_count": 13,
     "metadata": {},
     "output_type": "execute_result"
    }
   ],
   "source": [
    "\n",
    "\n",
    "import statsmodels.api as sm\n",
    "import pandas as pd \n",
    "  \n",
    "# loading the training dataset \n",
    "df3 = pd.read_csv('/Users/39388/Downloads/2022ProcessedData1.csv', index_col = 0)\n",
    "df3 = df3.dropna()\n",
    "df3[\"bowler_PCA\"] = df3[\"bowler_PCA\"]*-1\n",
    "# defining the dependent and independent variables\n",
    "Xtrain = df3[[\"runrate_first_six_over\",\"wickets_lost_first_six\",\"runrate_last_five_over\",\"wickets_lost_last_five\",\"batsman_PCA\",\"bowler_PCA\",\"toss_win\",\"stddev_batsman\",\"strike_rotation\",\"stddev_bowler\"]]\n",
    "ytrain = df3[['match_win']]\n",
    "\n",
    "# building the model and fitting the data\n",
    "log_reg3 = sm.Logit(ytrain, Xtrain).fit()\n",
    "\n",
    "df3.head(10)\n"
   ]
  },
  {
   "cell_type": "code",
   "execution_count": 85,
   "id": "8a166a1d",
   "metadata": {},
   "outputs": [
    {
     "name": "stdout",
     "output_type": "stream",
     "text": [
      "                           Logit Regression Results                           \n",
      "==============================================================================\n",
      "Dep. Variable:              match_win   No. Observations:                   68\n",
      "Model:                          Logit   Df Residuals:                       58\n",
      "Method:                           MLE   Df Model:                            9\n",
      "Date:                Tue, 20 Sep 2022   Pseudo R-squ.:                  0.5550\n",
      "Time:                        20:14:01   Log-Likelihood:                -20.959\n",
      "converged:                       True   LL-Null:                       -47.105\n",
      "Covariance Type:            nonrobust   LLR p-value:                 3.984e-08\n",
      "==========================================================================================\n",
      "                             coef    std err          z      P>|z|      [0.025      0.975]\n",
      "------------------------------------------------------------------------------------------\n",
      "runrate_first_six_over     0.4868      0.224      2.176      0.030       0.048       0.925\n",
      "wickets_lost_first_six    -0.4469      0.482     -0.926      0.354      -1.393       0.499\n",
      "runrate_last_five_over    -0.1080      0.165     -0.656      0.512      -0.431       0.215\n",
      "wickets_lost_last_five    -0.9332      0.362     -2.576      0.010      -1.643      -0.223\n",
      "batsman_PCA                1.3738      0.864      1.591      0.112      -0.319       3.067\n",
      "bowler_PCA                 2.2148      1.004      2.206      0.027       0.247       4.182\n",
      "toss_win                   1.6208      1.008      1.608      0.108      -0.355       3.597\n",
      "stddev_batsman             0.8209      2.156      0.381      0.703      -3.406       5.048\n",
      "strike_rotation           -0.0107      0.037     -0.285      0.776      -0.084       0.063\n",
      "stddev_bowler             -0.5747      1.154     -0.498      0.618      -2.836       1.686\n",
      "==========================================================================================\n"
     ]
    }
   ],
   "source": [
    "print(log_reg3.summary())"
   ]
  },
  {
   "cell_type": "code",
   "execution_count": 22,
   "id": "02b6d32c",
   "metadata": {},
   "outputs": [
    {
     "ename": "AttributeError",
     "evalue": "'DataFrame' object has no attribute 'concat'",
     "output_type": "error",
     "traceback": [
      "\u001b[0;31m---------------------------------------------------------------------------\u001b[0m",
      "\u001b[0;31mAttributeError\u001b[0m                            Traceback (most recent call last)",
      "Input \u001b[0;32mIn [22]\u001b[0m, in \u001b[0;36m<cell line: 1>\u001b[0;34m()\u001b[0m\n\u001b[0;32m----> 1\u001b[0m \u001b[43mdf1\u001b[49m\u001b[38;5;241;43m.\u001b[39;49m\u001b[43mconcat\u001b[49m(df2)\n",
      "File \u001b[0;32m~/opt/anaconda3/lib/python3.9/site-packages/pandas/core/generic.py:5575\u001b[0m, in \u001b[0;36mNDFrame.__getattr__\u001b[0;34m(self, name)\u001b[0m\n\u001b[1;32m   5568\u001b[0m \u001b[38;5;28;01mif\u001b[39;00m (\n\u001b[1;32m   5569\u001b[0m     name \u001b[38;5;129;01mnot\u001b[39;00m \u001b[38;5;129;01min\u001b[39;00m \u001b[38;5;28mself\u001b[39m\u001b[38;5;241m.\u001b[39m_internal_names_set\n\u001b[1;32m   5570\u001b[0m     \u001b[38;5;129;01mand\u001b[39;00m name \u001b[38;5;129;01mnot\u001b[39;00m \u001b[38;5;129;01min\u001b[39;00m \u001b[38;5;28mself\u001b[39m\u001b[38;5;241m.\u001b[39m_metadata\n\u001b[1;32m   5571\u001b[0m     \u001b[38;5;129;01mand\u001b[39;00m name \u001b[38;5;129;01mnot\u001b[39;00m \u001b[38;5;129;01min\u001b[39;00m \u001b[38;5;28mself\u001b[39m\u001b[38;5;241m.\u001b[39m_accessors\n\u001b[1;32m   5572\u001b[0m     \u001b[38;5;129;01mand\u001b[39;00m \u001b[38;5;28mself\u001b[39m\u001b[38;5;241m.\u001b[39m_info_axis\u001b[38;5;241m.\u001b[39m_can_hold_identifiers_and_holds_name(name)\n\u001b[1;32m   5573\u001b[0m ):\n\u001b[1;32m   5574\u001b[0m     \u001b[38;5;28;01mreturn\u001b[39;00m \u001b[38;5;28mself\u001b[39m[name]\n\u001b[0;32m-> 5575\u001b[0m \u001b[38;5;28;01mreturn\u001b[39;00m \u001b[38;5;28;43mobject\u001b[39;49m\u001b[38;5;241;43m.\u001b[39;49m\u001b[38;5;21;43m__getattribute__\u001b[39;49m\u001b[43m(\u001b[49m\u001b[38;5;28;43mself\u001b[39;49m\u001b[43m,\u001b[49m\u001b[43m \u001b[49m\u001b[43mname\u001b[49m\u001b[43m)\u001b[49m\n",
      "\u001b[0;31mAttributeError\u001b[0m: 'DataFrame' object has no attribute 'concat'"
     ]
    }
   ],
   "source": [
    "df1.concat(df2)\n"
   ]
  },
  {
   "cell_type": "code",
   "execution_count": 43,
   "id": "55118701",
   "metadata": {},
   "outputs": [
    {
     "name": "stderr",
     "output_type": "stream",
     "text": [
      "/var/folders/z6/xbk9c3917w983ys4yhfxzkk9wvnf95/T/ipykernel_48011/3478716966.py:1: FutureWarning: The frame.append method is deprecated and will be removed from pandas in a future version. Use pandas.concat instead.\n",
      "  df4 = df1.append(df2)\n"
     ]
    }
   ],
   "source": [
    "df4 = df1.append(df2)"
   ]
  },
  {
   "cell_type": "code",
   "execution_count": 44,
   "id": "02600e93",
   "metadata": {},
   "outputs": [
    {
     "name": "stderr",
     "output_type": "stream",
     "text": [
      "/var/folders/z6/xbk9c3917w983ys4yhfxzkk9wvnf95/T/ipykernel_48011/2796519502.py:1: FutureWarning: The frame.append method is deprecated and will be removed from pandas in a future version. Use pandas.concat instead.\n",
      "  df5 = df4.append(df3)\n"
     ]
    }
   ],
   "source": [
    "df5 = df4.append(df3)"
   ]
  },
  {
   "cell_type": "code",
   "execution_count": 20,
   "id": "5a8d39a0",
   "metadata": {},
   "outputs": [
    {
     "data": {
      "text/plain": [
       "'/Users/39388/Documents'"
      ]
     },
     "execution_count": 20,
     "metadata": {},
     "output_type": "execute_result"
    }
   ],
   "source": [
    "import os\n",
    "os.getcwd()"
   ]
  },
  {
   "cell_type": "code",
   "execution_count": 21,
   "id": "249fccf4",
   "metadata": {},
   "outputs": [],
   "source": [
    "df5.to_csv(\"all_matches_combined_bbb.csv\")"
   ]
  },
  {
   "cell_type": "code",
   "execution_count": 88,
   "id": "c5dfaa99",
   "metadata": {},
   "outputs": [
    {
     "name": "stdout",
     "output_type": "stream",
     "text": [
      "Optimization terminated successfully.\n",
      "         Current function value: 0.433060\n",
      "         Iterations 7\n"
     ]
    }
   ],
   "source": [
    "df5 = df5.dropna()\n",
    "# defining the dependent and independent variables\n",
    "Xtrain = df5[[\"runrate_first_six_over\",\"wickets_lost_first_six\",\"runrate_last_five_over\",\"wickets_lost_last_five\",\"batsman_PCA\",\"toss_win\",\"bowler_PCA\",\"stddev_batsman\",\"strike_rotation\",\"stddev_bowler\"]]\n",
    "ytrain = df5[['match_win']]\n",
    "   \n",
    "# building the model and fitting the data\n",
    "log_reg4 = sm.Logit(ytrain, Xtrain).fit()"
   ]
  },
  {
   "cell_type": "code",
   "execution_count": 89,
   "id": "0961910b",
   "metadata": {},
   "outputs": [
    {
     "name": "stdout",
     "output_type": "stream",
     "text": [
      "                           Logit Regression Results                           \n",
      "==============================================================================\n",
      "Dep. Variable:              match_win   No. Observations:                  197\n",
      "Model:                          Logit   Df Residuals:                      187\n",
      "Method:                           MLE   Df Model:                            9\n",
      "Date:                Tue, 20 Sep 2022   Pseudo R-squ.:                  0.3751\n",
      "Time:                        20:15:36   Log-Likelihood:                -85.313\n",
      "converged:                       True   LL-Null:                       -136.53\n",
      "Covariance Type:            nonrobust   LLR p-value:                 5.072e-18\n",
      "==========================================================================================\n",
      "                             coef    std err          z      P>|z|      [0.025      0.975]\n",
      "------------------------------------------------------------------------------------------\n",
      "runrate_first_six_over     0.1827      0.081      2.247      0.025       0.023       0.342\n",
      "wickets_lost_first_six    -0.5670      0.192     -2.959      0.003      -0.942      -0.191\n",
      "runrate_last_five_over     0.0775      0.062      1.244      0.213      -0.045       0.200\n",
      "wickets_lost_last_five    -0.8165      0.157     -5.202      0.000      -1.124      -0.509\n",
      "batsman_PCA                0.1119      0.226      0.494      0.621      -0.332       0.556\n",
      "toss_win                   1.4244      0.402      3.539      0.000       0.636       2.213\n",
      "bowler_PCA                 1.1892      0.311      3.827      0.000       0.580       1.798\n",
      "stddev_batsman             0.5362      0.386      1.391      0.164      -0.220       1.292\n",
      "strike_rotation           -0.0097      0.012     -0.801      0.423      -0.033       0.014\n",
      "stddev_bowler             -0.1778      0.329     -0.541      0.589      -0.822       0.467\n",
      "==========================================================================================\n"
     ]
    }
   ],
   "source": [
    "print(log_reg4.summary())"
   ]
  },
  {
   "cell_type": "code",
   "execution_count": null,
   "id": "6b1e995a",
   "metadata": {},
   "outputs": [],
   "source": []
  },
  {
   "cell_type": "code",
   "execution_count": null,
   "id": "db0542bc",
   "metadata": {},
   "outputs": [],
   "source": []
  },
  {
   "cell_type": "code",
   "execution_count": 24,
   "id": "a9b6946f",
   "metadata": {},
   "outputs": [
    {
     "ename": "SyntaxError",
     "evalue": "invalid syntax (1950697293.py, line 1)",
     "output_type": "error",
     "traceback": [
      "\u001b[0;36m  Input \u001b[0;32mIn [24]\u001b[0;36m\u001b[0m\n\u001b[0;31m    all_matches =\u001b[0m\n\u001b[0m                  ^\u001b[0m\n\u001b[0;31mSyntaxError\u001b[0m\u001b[0;31m:\u001b[0m invalid syntax\n"
     ]
    }
   ],
   "source": [
    "all_matches = "
   ]
  },
  {
   "cell_type": "code",
   "execution_count": null,
   "id": "4a06ff36",
   "metadata": {},
   "outputs": [],
   "source": []
  },
  {
   "cell_type": "code",
   "execution_count": null,
   "id": "f4481862",
   "metadata": {},
   "outputs": [],
   "source": []
  },
  {
   "cell_type": "code",
   "execution_count": null,
   "id": "b384418d",
   "metadata": {},
   "outputs": [],
   "source": []
  },
  {
   "cell_type": "code",
   "execution_count": 25,
   "id": "84c7b55e",
   "metadata": {},
   "outputs": [],
   "source": [
    "import pandas as pd\n",
    "import numpy as np\n",
    "from sklearn import preprocessing\n",
    "import matplotlib.pyplot as plt \n",
    "plt.rc(\"font\", size=14)\n",
    "from sklearn.linear_model import LogisticRegression\n",
    "from sklearn.model_selection import train_test_split\n",
    "import seaborn as sns\n",
    "sns.set(style=\"white\")\n",
    "sns.set(style=\"whitegrid\", color_codes=True)"
   ]
  },
  {
   "cell_type": "code",
   "execution_count": 26,
   "id": "18dae281",
   "metadata": {},
   "outputs": [
    {
     "name": "stdout",
     "output_type": "stream",
     "text": [
      "percentage of no win is 50.76142131979695\n",
      "percentage of win is 49.23857868020304\n"
     ]
    }
   ],
   "source": [
    "count_no_win = len(df5[df5['match_win']==0])\n",
    "count_win = len(df5[df5['match_win']==1])\n",
    "pct_of_no_win = count_no_win/(count_no_win+count_win)\n",
    "print(\"percentage of no win is\", pct_of_no_win*100)\n",
    "pct_of_win = count_win/(count_no_win+count_win)\n",
    "print(\"percentage of win is\", pct_of_win*100)"
   ]
  },
  {
   "cell_type": "code",
   "execution_count": 27,
   "id": "58872926",
   "metadata": {},
   "outputs": [
    {
     "data": {
      "text/plain": [
       "<bound method DataFrame.items of                  team   match_id  runrate_first_six_over  \\\n",
       "0    Islamabad United  1211642.0                     9.0   \n",
       "1   Quetta Gladiators  1211642.0                     6.0   \n",
       "2       Karachi Kings  1211643.0                     8.0   \n",
       "3      Peshawar Zalmi  1211643.0                     8.0   \n",
       "4    Lahore Qalandars  1211644.0                    10.0   \n",
       "..                ...        ...                     ...   \n",
       "63   Islamabad United  1293031.0                     9.0   \n",
       "64   Lahore Qalandars  1293032.0                     6.0   \n",
       "65   Islamabad United  1293032.0                     8.0   \n",
       "66   Lahore Qalandars  1293033.0                     6.0   \n",
       "67     Multan Sultans  1293033.0                     8.0   \n",
       "\n",
       "    wickets_lost_first_six  runrate_last_five_over  wickets_lost_last_five  \\\n",
       "0                      2.0                     9.0                     6.0   \n",
       "1                      3.0                     9.0                     3.0   \n",
       "2                      1.0                    11.0                     2.0   \n",
       "3                      2.0                    13.0                     2.0   \n",
       "4                      2.0                     7.0                     3.0   \n",
       "..                     ...                     ...                     ...   \n",
       "63                     1.0                    12.0                     2.0   \n",
       "64                     2.0                    11.0                     2.0   \n",
       "65                     4.0                     6.0                     5.0   \n",
       "66                     3.0                    15.0                     1.0   \n",
       "67                     2.0                     8.0                     5.0   \n",
       "\n",
       "    batsman_PCA  bowler_PCA  toss_win  match_win  strike_rotation  \\\n",
       "0      0.112789   -0.191240       0.0        0.0             79.0   \n",
       "1     -0.401480    0.044789       1.0        1.0             67.0   \n",
       "2      2.358933    0.275947       0.0        1.0             88.0   \n",
       "3      0.865969    0.232708       1.0        0.0            105.0   \n",
       "4     -0.328489   -0.058016       0.0        0.0             54.0   \n",
       "..          ...         ...       ...        ...              ...   \n",
       "63    -0.294828    0.692007       0.0        1.0             74.0   \n",
       "64     1.136496    0.700885       1.0        1.0             83.0   \n",
       "65    -0.053311    0.366746       0.0        0.0             85.0   \n",
       "66     1.136496    1.074225       1.0        1.0             79.0   \n",
       "67     1.854690    0.366746       0.0        0.0             76.0   \n",
       "\n",
       "    stddev_batsman  stddev_bowler  \n",
       "0         1.613872       1.494731  \n",
       "1         1.712828       0.530870  \n",
       "2         2.246046       0.419501  \n",
       "3         1.376433       0.759959  \n",
       "4         1.109202       1.860303  \n",
       "..             ...            ...  \n",
       "63        1.681994       0.802737  \n",
       "64        2.110266       1.114360  \n",
       "65        1.626418       1.838088  \n",
       "66        2.110266       1.114771  \n",
       "67        2.037226       1.838088  \n",
       "\n",
       "[197 rows x 13 columns]>"
      ]
     },
     "execution_count": 27,
     "metadata": {},
     "output_type": "execute_result"
    }
   ],
   "source": [
    "df5.items"
   ]
  },
  {
   "cell_type": "code",
   "execution_count": 28,
   "id": "d5158823",
   "metadata": {},
   "outputs": [],
   "source": [
    "boundaries = pd.DataFrame()\n",
    "boundaries =df3.groupby(['team']).agg(\n",
    "    wickets_lost = ('batsman_PCA','mean'),\n",
    "    matches = ('match_id','count')\n",
    "    \n",
    ")\n"
   ]
  },
  {
   "cell_type": "code",
   "execution_count": 119,
   "id": "146ab645",
   "metadata": {},
   "outputs": [],
   "source": [
    "boundaries[\"team\"] = [\"Islamabad United\",\"Karachi Kings\",\"Lahore Qalandars\",\"Multan Sultans\",\"Peshawar Zalmi\",\"Quetta Gladiators\"]\n",
    "                      "
   ]
  },
  {
   "cell_type": "code",
   "execution_count": 29,
   "id": "e329483e",
   "metadata": {},
   "outputs": [
    {
     "data": {
      "text/html": [
       "<div>\n",
       "<style scoped>\n",
       "    .dataframe tbody tr th:only-of-type {\n",
       "        vertical-align: middle;\n",
       "    }\n",
       "\n",
       "    .dataframe tbody tr th {\n",
       "        vertical-align: top;\n",
       "    }\n",
       "\n",
       "    .dataframe thead th {\n",
       "        text-align: right;\n",
       "    }\n",
       "</style>\n",
       "<table border=\"1\" class=\"dataframe\">\n",
       "  <thead>\n",
       "    <tr style=\"text-align: right;\">\n",
       "      <th></th>\n",
       "      <th>wickets_lost</th>\n",
       "      <th>matches</th>\n",
       "    </tr>\n",
       "    <tr>\n",
       "      <th>team</th>\n",
       "      <th></th>\n",
       "      <th></th>\n",
       "    </tr>\n",
       "  </thead>\n",
       "  <tbody>\n",
       "    <tr>\n",
       "      <th>Islamabad United</th>\n",
       "      <td>-0.315504</td>\n",
       "      <td>12</td>\n",
       "    </tr>\n",
       "    <tr>\n",
       "      <th>Karachi Kings</th>\n",
       "      <td>-0.597565</td>\n",
       "      <td>10</td>\n",
       "    </tr>\n",
       "    <tr>\n",
       "      <th>Lahore Qalandars</th>\n",
       "      <td>1.295076</td>\n",
       "      <td>13</td>\n",
       "    </tr>\n",
       "    <tr>\n",
       "      <th>Multan Sultans</th>\n",
       "      <td>1.668563</td>\n",
       "      <td>12</td>\n",
       "    </tr>\n",
       "    <tr>\n",
       "      <th>Peshawar Zalmi</th>\n",
       "      <td>-0.381574</td>\n",
       "      <td>11</td>\n",
       "    </tr>\n",
       "    <tr>\n",
       "      <th>Quetta Gladiators</th>\n",
       "      <td>-0.576489</td>\n",
       "      <td>10</td>\n",
       "    </tr>\n",
       "  </tbody>\n",
       "</table>\n",
       "</div>"
      ],
      "text/plain": [
       "                   wickets_lost  matches\n",
       "team                                    \n",
       "Islamabad United      -0.315504       12\n",
       "Karachi Kings         -0.597565       10\n",
       "Lahore Qalandars       1.295076       13\n",
       "Multan Sultans         1.668563       12\n",
       "Peshawar Zalmi        -0.381574       11\n",
       "Quetta Gladiators     -0.576489       10"
      ]
     },
     "execution_count": 29,
     "metadata": {},
     "output_type": "execute_result"
    }
   ],
   "source": [
    "boundaries"
   ]
  },
  {
   "cell_type": "code",
   "execution_count": 31,
   "id": "99e9f06f",
   "metadata": {},
   "outputs": [
    {
     "data": {
      "image/png": "[encoded data removed]",
      "text/plain": [
       "<Figure size 432x288 with 1 Axes>"
      ]
     },
     "metadata": {},
     "output_type": "display_data"
    }
   ],
   "source": [
    "ax =boundaries.plot('team', 'wickets_lost', kind='bar')\n"
   ]
  },
  {
   "cell_type": "code",
   "execution_count": 122,
   "id": "36dfe7c6",
   "metadata": {},
   "outputs": [],
   "source": [
    "fig = ax.get_figure()\n",
    "fig.savefig('toss_win_2022.jpg',dpi=200,bbox_inches='tight')"
   ]
  },
  {
   "cell_type": "code",
   "execution_count": 1,
   "id": "afd4a559",
   "metadata": {},
   "outputs": [
    {
     "ename": "NameError",
     "evalue": "name 'team_runrate' is not defined",
     "output_type": "error",
     "traceback": [
      "\u001b[0;31m---------------------------------------------------------------------------\u001b[0m",
      "\u001b[0;31mNameError\u001b[0m                                 Traceback (most recent call last)",
      "Input \u001b[0;32mIn [1]\u001b[0m, in \u001b[0;36m<cell line: 1>\u001b[0;34m()\u001b[0m\n\u001b[0;32m----> 1\u001b[0m \u001b[43mteam_runrate\u001b[49m\n",
      "\u001b[0;31mNameError\u001b[0m: name 'team_runrate' is not defined"
     ]
    }
   ],
   "source": [
    "team_runrate"
   ]
  },
  {
   "cell_type": "code",
   "execution_count": 40,
   "id": "47b2dabe",
   "metadata": {},
   "outputs": [
    {
     "data": {
      "text/html": [
       "<div>\n",
       "<style scoped>\n",
       "    .dataframe tbody tr th:only-of-type {\n",
       "        vertical-align: middle;\n",
       "    }\n",
       "\n",
       "    .dataframe tbody tr th {\n",
       "        vertical-align: top;\n",
       "    }\n",
       "\n",
       "    .dataframe thead th {\n",
       "        text-align: right;\n",
       "    }\n",
       "</style>\n",
       "<table border=\"1\" class=\"dataframe\">\n",
       "  <thead>\n",
       "    <tr style=\"text-align: right;\">\n",
       "      <th></th>\n",
       "      <th>team</th>\n",
       "      <th>team_wins</th>\n",
       "    </tr>\n",
       "  </thead>\n",
       "  <tbody>\n",
       "    <tr>\n",
       "      <th>2</th>\n",
       "      <td>Lahore Qalandars</td>\n",
       "      <td>13</td>\n",
       "    </tr>\n",
       "    <tr>\n",
       "      <th>1</th>\n",
       "      <td>Karachi Kings</td>\n",
       "      <td>10</td>\n",
       "    </tr>\n",
       "    <tr>\n",
       "      <th>3</th>\n",
       "      <td>Multan Sultans</td>\n",
       "      <td>10</td>\n",
       "    </tr>\n",
       "    <tr>\n",
       "      <th>4</th>\n",
       "      <td>Peshawar Zalmi</td>\n",
       "      <td>10</td>\n",
       "    </tr>\n",
       "    <tr>\n",
       "      <th>0</th>\n",
       "      <td>Islamabad United</td>\n",
       "      <td>9</td>\n",
       "    </tr>\n",
       "    <tr>\n",
       "      <th>5</th>\n",
       "      <td>Quetta Gladiators</td>\n",
       "      <td>9</td>\n",
       "    </tr>\n",
       "  </tbody>\n",
       "</table>\n",
       "</div>"
      ],
      "text/plain": [
       "                team  team_wins\n",
       "2   Lahore Qalandars         13\n",
       "1      Karachi Kings         10\n",
       "3     Multan Sultans         10\n",
       "4     Peshawar Zalmi         10\n",
       "0   Islamabad United          9\n",
       "5  Quetta Gladiators          9"
      ]
     },
     "execution_count": 40,
     "metadata": {},
     "output_type": "execute_result"
    }
   ],
   "source": [
    "team_games"
   ]
  },
  {
   "cell_type": "code",
   "execution_count": 4,
   "id": "b40eabba",
   "metadata": {},
   "outputs": [],
   "source": [
    "import numpy as np\n",
    "import matplotlib.pyplot as plt\n",
    " \n",
    "\n",
    "  \n"
   ]
  },
  {
   "cell_type": "code",
   "execution_count": null,
   "id": "5182cc52",
   "metadata": {},
   "outputs": [],
   "source": [
    "df1['2020'] = 1\n",
    "df1['2021'] = 0\n",
    "df1['2022'] = 0\n",
    "\n"
   ]
  },
  {
   "cell_type": "code",
   "execution_count": null,
   "id": "578e7782",
   "metadata": {},
   "outputs": [],
   "source": [
    "df1"
   ]
  },
  {
   "cell_type": "code",
   "execution_count": null,
   "id": "97863529",
   "metadata": {},
   "outputs": [],
   "source": [
    "df2['2020'] = 0\n",
    "df2['2021'] = 1\n",
    "df2['2022'] = 0\n"
   ]
  },
  {
   "cell_type": "code",
   "execution_count": null,
   "id": "aa35b162",
   "metadata": {},
   "outputs": [],
   "source": [
    "df3['2020'] = 0\n",
    "df3['2021'] = 0\n",
    "df3['2022'] = 1\n"
   ]
  },
  {
   "cell_type": "code",
   "execution_count": null,
   "id": "dc6473c0",
   "metadata": {},
   "outputs": [],
   "source": [
    "df3"
   ]
  },
  {
   "cell_type": "code",
   "execution_count": 33,
   "id": "51f0d0f9",
   "metadata": {},
   "outputs": [
    {
     "data": {
      "text/html": [
       "<div>\n",
       "<style scoped>\n",
       "    .dataframe tbody tr th:only-of-type {\n",
       "        vertical-align: middle;\n",
       "    }\n",
       "\n",
       "    .dataframe tbody tr th {\n",
       "        vertical-align: top;\n",
       "    }\n",
       "\n",
       "    .dataframe thead th {\n",
       "        text-align: right;\n",
       "    }\n",
       "</style>\n",
       "<table border=\"1\" class=\"dataframe\">\n",
       "  <thead>\n",
       "    <tr style=\"text-align: right;\">\n",
       "      <th></th>\n",
       "      <th>team</th>\n",
       "      <th>match_id</th>\n",
       "      <th>runrate_first_six_over</th>\n",
       "      <th>wickets_lost_first_six</th>\n",
       "      <th>runrate_last_five_over</th>\n",
       "      <th>wickets_lost_last_five</th>\n",
       "      <th>batsman_PCA</th>\n",
       "      <th>bowler_PCA</th>\n",
       "      <th>toss_win</th>\n",
       "      <th>match_win</th>\n",
       "      <th>strike_rotation</th>\n",
       "      <th>stddev_batsman</th>\n",
       "      <th>stddev_bowler</th>\n",
       "    </tr>\n",
       "  </thead>\n",
       "  <tbody>\n",
       "    <tr>\n",
       "      <th>0</th>\n",
       "      <td>Islamabad United</td>\n",
       "      <td>1211642.0</td>\n",
       "      <td>9.0</td>\n",
       "      <td>2.0</td>\n",
       "      <td>9.0</td>\n",
       "      <td>6.0</td>\n",
       "      <td>0.112789</td>\n",
       "      <td>-0.191240</td>\n",
       "      <td>0.0</td>\n",
       "      <td>0.0</td>\n",
       "      <td>79.0</td>\n",
       "      <td>1.613872</td>\n",
       "      <td>1.494731</td>\n",
       "    </tr>\n",
       "    <tr>\n",
       "      <th>1</th>\n",
       "      <td>Quetta Gladiators</td>\n",
       "      <td>1211642.0</td>\n",
       "      <td>6.0</td>\n",
       "      <td>3.0</td>\n",
       "      <td>9.0</td>\n",
       "      <td>3.0</td>\n",
       "      <td>-0.401480</td>\n",
       "      <td>0.044789</td>\n",
       "      <td>1.0</td>\n",
       "      <td>1.0</td>\n",
       "      <td>67.0</td>\n",
       "      <td>1.712828</td>\n",
       "      <td>0.530870</td>\n",
       "    </tr>\n",
       "    <tr>\n",
       "      <th>2</th>\n",
       "      <td>Karachi Kings</td>\n",
       "      <td>1211643.0</td>\n",
       "      <td>8.0</td>\n",
       "      <td>1.0</td>\n",
       "      <td>11.0</td>\n",
       "      <td>2.0</td>\n",
       "      <td>2.358933</td>\n",
       "      <td>0.275947</td>\n",
       "      <td>0.0</td>\n",
       "      <td>1.0</td>\n",
       "      <td>88.0</td>\n",
       "      <td>2.246046</td>\n",
       "      <td>0.419501</td>\n",
       "    </tr>\n",
       "    <tr>\n",
       "      <th>3</th>\n",
       "      <td>Peshawar Zalmi</td>\n",
       "      <td>1211643.0</td>\n",
       "      <td>8.0</td>\n",
       "      <td>2.0</td>\n",
       "      <td>13.0</td>\n",
       "      <td>2.0</td>\n",
       "      <td>0.865969</td>\n",
       "      <td>0.232708</td>\n",
       "      <td>1.0</td>\n",
       "      <td>0.0</td>\n",
       "      <td>105.0</td>\n",
       "      <td>1.376433</td>\n",
       "      <td>0.759959</td>\n",
       "    </tr>\n",
       "    <tr>\n",
       "      <th>4</th>\n",
       "      <td>Lahore Qalandars</td>\n",
       "      <td>1211644.0</td>\n",
       "      <td>10.0</td>\n",
       "      <td>2.0</td>\n",
       "      <td>7.0</td>\n",
       "      <td>3.0</td>\n",
       "      <td>-0.328489</td>\n",
       "      <td>-0.058016</td>\n",
       "      <td>0.0</td>\n",
       "      <td>0.0</td>\n",
       "      <td>54.0</td>\n",
       "      <td>1.109202</td>\n",
       "      <td>1.860303</td>\n",
       "    </tr>\n",
       "    <tr>\n",
       "      <th>...</th>\n",
       "      <td>...</td>\n",
       "      <td>...</td>\n",
       "      <td>...</td>\n",
       "      <td>...</td>\n",
       "      <td>...</td>\n",
       "      <td>...</td>\n",
       "      <td>...</td>\n",
       "      <td>...</td>\n",
       "      <td>...</td>\n",
       "      <td>...</td>\n",
       "      <td>...</td>\n",
       "      <td>...</td>\n",
       "      <td>...</td>\n",
       "    </tr>\n",
       "    <tr>\n",
       "      <th>63</th>\n",
       "      <td>Islamabad United</td>\n",
       "      <td>1293031.0</td>\n",
       "      <td>9.0</td>\n",
       "      <td>1.0</td>\n",
       "      <td>12.0</td>\n",
       "      <td>2.0</td>\n",
       "      <td>-0.294828</td>\n",
       "      <td>0.692007</td>\n",
       "      <td>0.0</td>\n",
       "      <td>1.0</td>\n",
       "      <td>74.0</td>\n",
       "      <td>1.681994</td>\n",
       "      <td>0.802737</td>\n",
       "    </tr>\n",
       "    <tr>\n",
       "      <th>64</th>\n",
       "      <td>Lahore Qalandars</td>\n",
       "      <td>1293032.0</td>\n",
       "      <td>6.0</td>\n",
       "      <td>2.0</td>\n",
       "      <td>11.0</td>\n",
       "      <td>2.0</td>\n",
       "      <td>1.136496</td>\n",
       "      <td>0.700885</td>\n",
       "      <td>1.0</td>\n",
       "      <td>1.0</td>\n",
       "      <td>83.0</td>\n",
       "      <td>2.110266</td>\n",
       "      <td>1.114360</td>\n",
       "    </tr>\n",
       "    <tr>\n",
       "      <th>65</th>\n",
       "      <td>Islamabad United</td>\n",
       "      <td>1293032.0</td>\n",
       "      <td>8.0</td>\n",
       "      <td>4.0</td>\n",
       "      <td>6.0</td>\n",
       "      <td>5.0</td>\n",
       "      <td>-0.053311</td>\n",
       "      <td>0.366746</td>\n",
       "      <td>0.0</td>\n",
       "      <td>0.0</td>\n",
       "      <td>85.0</td>\n",
       "      <td>1.626418</td>\n",
       "      <td>1.838088</td>\n",
       "    </tr>\n",
       "    <tr>\n",
       "      <th>66</th>\n",
       "      <td>Lahore Qalandars</td>\n",
       "      <td>1293033.0</td>\n",
       "      <td>6.0</td>\n",
       "      <td>3.0</td>\n",
       "      <td>15.0</td>\n",
       "      <td>1.0</td>\n",
       "      <td>1.136496</td>\n",
       "      <td>1.074225</td>\n",
       "      <td>1.0</td>\n",
       "      <td>1.0</td>\n",
       "      <td>79.0</td>\n",
       "      <td>2.110266</td>\n",
       "      <td>1.114771</td>\n",
       "    </tr>\n",
       "    <tr>\n",
       "      <th>67</th>\n",
       "      <td>Multan Sultans</td>\n",
       "      <td>1293033.0</td>\n",
       "      <td>8.0</td>\n",
       "      <td>2.0</td>\n",
       "      <td>8.0</td>\n",
       "      <td>5.0</td>\n",
       "      <td>1.854690</td>\n",
       "      <td>0.366746</td>\n",
       "      <td>0.0</td>\n",
       "      <td>0.0</td>\n",
       "      <td>76.0</td>\n",
       "      <td>2.037226</td>\n",
       "      <td>1.838088</td>\n",
       "    </tr>\n",
       "  </tbody>\n",
       "</table>\n",
       "<p>197 rows × 13 columns</p>\n",
       "</div>"
      ],
      "text/plain": [
       "                 team   match_id  runrate_first_six_over  \\\n",
       "0    Islamabad United  1211642.0                     9.0   \n",
       "1   Quetta Gladiators  1211642.0                     6.0   \n",
       "2       Karachi Kings  1211643.0                     8.0   \n",
       "3      Peshawar Zalmi  1211643.0                     8.0   \n",
       "4    Lahore Qalandars  1211644.0                    10.0   \n",
       "..                ...        ...                     ...   \n",
       "63   Islamabad United  1293031.0                     9.0   \n",
       "64   Lahore Qalandars  1293032.0                     6.0   \n",
       "65   Islamabad United  1293032.0                     8.0   \n",
       "66   Lahore Qalandars  1293033.0                     6.0   \n",
       "67     Multan Sultans  1293033.0                     8.0   \n",
       "\n",
       "    wickets_lost_first_six  runrate_last_five_over  wickets_lost_last_five  \\\n",
       "0                      2.0                     9.0                     6.0   \n",
       "1                      3.0                     9.0                     3.0   \n",
       "2                      1.0                    11.0                     2.0   \n",
       "3                      2.0                    13.0                     2.0   \n",
       "4                      2.0                     7.0                     3.0   \n",
       "..                     ...                     ...                     ...   \n",
       "63                     1.0                    12.0                     2.0   \n",
       "64                     2.0                    11.0                     2.0   \n",
       "65                     4.0                     6.0                     5.0   \n",
       "66                     3.0                    15.0                     1.0   \n",
       "67                     2.0                     8.0                     5.0   \n",
       "\n",
       "    batsman_PCA  bowler_PCA  toss_win  match_win  strike_rotation  \\\n",
       "0      0.112789   -0.191240       0.0        0.0             79.0   \n",
       "1     -0.401480    0.044789       1.0        1.0             67.0   \n",
       "2      2.358933    0.275947       0.0        1.0             88.0   \n",
       "3      0.865969    0.232708       1.0        0.0            105.0   \n",
       "4     -0.328489   -0.058016       0.0        0.0             54.0   \n",
       "..          ...         ...       ...        ...              ...   \n",
       "63    -0.294828    0.692007       0.0        1.0             74.0   \n",
       "64     1.136496    0.700885       1.0        1.0             83.0   \n",
       "65    -0.053311    0.366746       0.0        0.0             85.0   \n",
       "66     1.136496    1.074225       1.0        1.0             79.0   \n",
       "67     1.854690    0.366746       0.0        0.0             76.0   \n",
       "\n",
       "    stddev_batsman  stddev_bowler  \n",
       "0         1.613872       1.494731  \n",
       "1         1.712828       0.530870  \n",
       "2         2.246046       0.419501  \n",
       "3         1.376433       0.759959  \n",
       "4         1.109202       1.860303  \n",
       "..             ...            ...  \n",
       "63        1.681994       0.802737  \n",
       "64        2.110266       1.114360  \n",
       "65        1.626418       1.838088  \n",
       "66        2.110266       1.114771  \n",
       "67        2.037226       1.838088  \n",
       "\n",
       "[197 rows x 13 columns]"
      ]
     },
     "execution_count": 33,
     "metadata": {},
     "output_type": "execute_result"
    }
   ],
   "source": [
    "df5"
   ]
  },
  {
   "cell_type": "code",
   "execution_count": 56,
   "id": "40b3ee3e",
   "metadata": {},
   "outputs": [
    {
     "name": "stdout",
     "output_type": "stream",
     "text": [
      "Optimization terminated successfully.\n",
      "         Current function value: 0.433060\n",
      "         Iterations 7\n"
     ]
    }
   ],
   "source": [
    "df5 = df5.dropna()\n",
    "# defining the dependent and independent variables\n",
    "Xtrain = df5[[\"runrate_first_six_over\",\"wickets_lost_first_six\",\"runrate_last_five_over\",\"wickets_lost_last_five\",\"batsman_PCA\",\"bowler_PCA\",\"toss_win\",\"stddev_batsman\",\"strike_rotation\",\"stddev_bowler\"\n",
    "             ]]\n",
    "ytrain = df5[['match_win']]\n",
    "   \n",
    "# building the model and fitting the data\n",
    "log_reg = sm.Logit(ytrain, Xtrain).fit()"
   ]
  },
  {
   "cell_type": "code",
   "execution_count": 297,
   "id": "5e5df3cc",
   "metadata": {},
   "outputs": [
    {
     "data": {
      "text/plain": [
       "runrate_first_six_over    0.182662\n",
       "wickets_lost_first_six   -0.566972\n",
       "runrate_last_five_over    0.077478\n",
       "wickets_lost_last_five   -0.816548\n",
       "batsman_PCA               0.111883\n",
       "toss_win                  1.424362\n",
       "bowler_PCA                1.189219\n",
       "stddev_batsman            0.536226\n",
       "strike_rotation          -0.009654\n",
       "stddev_bowler            -0.177788\n",
       "dtype: float64"
      ]
     },
     "execution_count": 297,
     "metadata": {},
     "output_type": "execute_result"
    }
   ],
   "source": [
    "df_test2 = pd.DataFrame()\n",
    "\n",
    "df_test2 = log_reg.params\n",
    "\n",
    "df_test2"
   ]
  },
  {
   "cell_type": "code",
   "execution_count": 57,
   "id": "2e09fd7c",
   "metadata": {},
   "outputs": [
    {
     "name": "stdout",
     "output_type": "stream",
     "text": [
      "                           Logit Regression Results                           \n",
      "==============================================================================\n",
      "Dep. Variable:              match_win   No. Observations:                  197\n",
      "Model:                          Logit   Df Residuals:                      187\n",
      "Method:                           MLE   Df Model:                            9\n",
      "Date:                Tue, 20 Sep 2022   Pseudo R-squ.:                  0.3751\n",
      "Time:                        19:58:05   Log-Likelihood:                -85.313\n",
      "converged:                       True   LL-Null:                       -136.53\n",
      "Covariance Type:            nonrobust   LLR p-value:                 5.072e-18\n",
      "==========================================================================================\n",
      "                             coef    std err          z      P>|z|      [0.025      0.975]\n",
      "------------------------------------------------------------------------------------------\n",
      "runrate_first_six_over     0.1827      0.081      2.247      0.025       0.023       0.342\n",
      "wickets_lost_first_six    -0.5670      0.192     -2.959      0.003      -0.942      -0.191\n",
      "runrate_last_five_over     0.0775      0.062      1.244      0.213      -0.045       0.200\n",
      "wickets_lost_last_five    -0.8165      0.157     -5.202      0.000      -1.124      -0.509\n",
      "batsman_PCA                0.1119      0.226      0.494      0.621      -0.332       0.556\n",
      "bowler_PCA                 1.1892      0.311      3.827      0.000       0.580       1.798\n",
      "toss_win                   1.4244      0.402      3.539      0.000       0.636       2.213\n",
      "stddev_batsman             0.5362      0.386      1.391      0.164      -0.220       1.292\n",
      "strike_rotation           -0.0097      0.012     -0.801      0.423      -0.033       0.014\n",
      "stddev_bowler             -0.1778      0.329     -0.541      0.589      -0.822       0.467\n",
      "==========================================================================================\n"
     ]
    }
   ],
   "source": [
    "print(log_reg.summary())"
   ]
  },
  {
   "cell_type": "code",
   "execution_count": null,
   "id": "b4fc60cc",
   "metadata": {},
   "outputs": [],
   "source": [
    "np.asarray(df5)"
   ]
  },
  {
   "cell_type": "code",
   "execution_count": 48,
   "id": "4a8c639a",
   "metadata": {},
   "outputs": [
    {
     "name": "stdout",
     "output_type": "stream",
     "text": [
      "Actual values [0.0, 1.0, 1.0, 0.0, 0.0, 1.0, 0.0, 1.0, 0.0, 1.0, 0.0, 1.0, 0.0, 1.0, 0.0, 1.0, 0.0, 1.0, 1.0, 0.0, 1.0, 0.0, 1.0, 0.0, 0.0, 1.0, 0.0, 1.0, 1.0, 0.0, 1.0, 0.0, 1.0, 0.0, 0.0, 0.0, 1.0, 0.0, 1.0, 0.0, 1.0, 0.0, 1.0, 0.0, 1.0, 0.0, 1.0, 1.0, 0.0, 0.0, 1.0, 0.0, 1.0, 0.0, 1.0, 0.0, 1.0, 1.0, 0.0, 0.0, 1.0, 0.0, 1.0, 0.0, 1.0, 0.0, 1.0, 0.0, 1.0, 0.0, 1.0, 0.0, 1.0, 0.0, 1.0, 0.0, 1.0, 0.0, 1.0, 0.0, 1.0, 0.0, 1.0, 0.0, 1.0, 0.0, 1.0, 1.0, 0.0, 0.0, 1.0, 1.0, 0.0, 1.0, 0.0, 0.0, 1.0, 1.0, 0.0, 1.0, 0.0, 0.0, 1.0, 0.0, 1.0, 1.0, 0.0, 0.0, 1.0, 1.0, 0.0, 1.0, 0.0, 1.0, 0.0, 1.0, 0.0, 1.0, 0.0, 0.0, 1.0, 1.0, 0.0, 0.0, 1.0, 0.0, 1.0, 1.0, 0.0, 0.0, 1.0, 0.0, 1.0, 0.0, 1.0, 0.0, 1.0, 0.0, 1.0, 0.0, 1.0, 1.0, 0.0, 1.0, 0.0, 1.0, 0.0, 1.0, 0.0, 1.0, 0.0, 1.0, 0.0, 1.0, 0.0, 1.0, 0.0, 0.0, 1.0, 1.0, 0.0, 1.0, 0.0, 0.0, 1.0, 1.0, 0.0, 0.0, 1.0, 1.0, 0.0, 1.0, 0.0, 0.0, 1.0, 1.0, 0.0, 1.0, 0.0, 1.0, 0.0, 1.0, 0.0, 1.0, 0.0, 0.0, 1.0, 0.0, 0.0, 1.0, 0.0, 0.0, 1.0, 1.0, 0.0, 1.0, 0.0]\n",
      "Predictions : [0, 0, 1, 1, 0, 1, 0, 1, 0, 1, 0, 0, 1, 1, 0, 1, 0, 1, 0, 0, 1, 0, 1, 0, 1, 1, 0, 1, 0, 1, 1, 0, 0, 0, 0, 0, 1, 0, 1, 0, 1, 1, 1, 0, 0, 1, 1, 0, 0, 0, 1, 0, 1, 1, 0, 0, 1, 1, 0, 0, 1, 0, 1, 0, 1, 0, 1, 0, 1, 0, 1, 0, 1, 0, 1, 0, 1, 0, 1, 0, 1, 0, 1, 0, 1, 0, 1, 0, 0, 0, 1, 1, 0, 0, 1, 0, 1, 0, 0, 0, 1, 1, 1, 1, 1, 1, 0, 0, 1, 1, 0, 1, 1, 1, 1, 0, 0, 1, 1, 0, 1, 1, 0, 0, 1, 1, 1, 1, 0, 0, 1, 0, 1, 0, 1, 0, 1, 0, 1, 0, 1, 1, 0, 1, 0, 1, 0, 1, 1, 1, 1, 0, 0, 1, 0, 1, 0, 1, 1, 0, 0, 1, 0, 1, 1, 0, 0, 0, 1, 0, 0, 1, 0, 0, 1, 0, 0, 1, 0, 0, 0, 1, 0, 1, 0, 0, 1, 0, 0, 1, 0, 1, 0, 1, 0, 1, 0]\n"
     ]
    }
   ],
   "source": [
    "\n",
    "  \n",
    "# defining the dependent and independent variables\n",
    "Xtest = df5[[\"runrate_first_six_over\",\"wickets_lost_first_six\",\"runrate_last_five_over\",\"wickets_lost_last_five\",\"batsman_PCA\",\"toss_win\",\"bowler_PCA\",\"stddev_batsman\",\"strike_rotation\",\"stddev_bowler\"]]\n",
    "ytest = df5['match_win']\n",
    "  \n",
    "# performing predictions on the test datdaset\n",
    "yhat = log_reg.predict(Xtest)\n",
    "prediction = list(map(round, yhat))\n",
    "  \n",
    "# comparing original and predicted values of y\n",
    "print('Actual values', list(ytest.values))\n",
    "print('Predictions :', prediction)"
   ]
  },
  {
   "cell_type": "code",
   "execution_count": null,
   "id": "951b094e",
   "metadata": {},
   "outputs": [],
   "source": [
    "\n",
    "  \n",
    "# defining the dependent and independent variables\n",
    "Xtest = df2[[\"runrate_first_six_over\",\"wickets_lost_first_six\",\"runrate_last_five_over\",\"wickets_lost_last_five\",\"batsman_PCA\",\"toss_win\",\"bowler_PCA\",\"stddev_batsman\",\"strike_rotation\",\"stddev_bowler\"]]\n",
    "ytest = df2['match_win']\n",
    "  \n",
    "# performing predictions on the test datdaset\n",
    "yhat = log_reg.predict(Xtest)\n",
    "prediction = list(map(round, yhat))\n",
    "  \n",
    "# comparing original and predicted values of y\n",
    "print('Actual values', list(ytest.values))\n",
    "print('Predictions :', prediction)"
   ]
  },
  {
   "cell_type": "code",
   "execution_count": 49,
   "id": "d0da180b",
   "metadata": {},
   "outputs": [
    {
     "name": "stdout",
     "output_type": "stream",
     "text": [
      "Confusion Matrix : \n",
      " [[80 20]\n",
      " [20 77]]\n",
      "Test accuracy =  0.7969543147208121\n"
     ]
    }
   ],
   "source": [
    "\n",
    "from sklearn.metrics import (confusion_matrix, \n",
    "                           accuracy_score)\n",
    "  \n",
    "# confusion matrix\n",
    "cm = confusion_matrix(ytest, prediction) \n",
    "print (\"Confusion Matrix : \\n\", cm) \n",
    "  \n",
    "# accuracy score of the model\n",
    "print('Test accuracy = ', accuracy_score(ytest, prediction))"
   ]
  },
  {
   "cell_type": "code",
   "execution_count": 59,
   "id": "4a2d229b",
   "metadata": {},
   "outputs": [],
   "source": [
    "df8 = df5[(df5['team'] != 'Karachi Kings') & (df5['team'] != 'Karachi Kings')]\n",
    "df7 = df5[(df5['team'] == 'Karachi Kings') & (df5['team'] == 'Karachi Kings')]\n",
    "df8 = df8.dropna()\n",
    "# defining the dependent and independent variables\n",
    "Xtrain = df8[[\"runrate_first_six_over\",\"wickets_lost_first_six\",\"runrate_last_five_over\",\"wickets_lost_last_five\",\"batsman_PCA\",\"toss_win\",\"bowler_PCA\",\"stddev_batsman\",\"strike_rotation\",\"stddev_bowler\"]]\n",
    "ytrain = df8[['match_win']]\n",
    "   \n",
    "# building the model and fitting the data\n",
    "log_reg = sm.Logit(ytrain, Xtrain).fit()\n",
    "\n",
    "  \n",
    "# defining the dependent and independent variables\n",
    "Xtest = df7[[\"runrate_first_six_over\",\"wickets_lost_first_six\",\"runrate_last_five_over\",\"wickets_lost_last_five\",\"batsman_PCA\",\"toss_win\",\"bowler_PCA\",\"stddev_batsman\",\"strike_rotation\",\"stddev_bowler\"]]\n",
    "ytest = df7['match_win']\n",
    "  \n",
    "# performing predictions on the test datdaset\n",
    "yhat = log_reg.predict(Xtest)\n",
    "prediction = list(map(round, yhat))\n",
    "  \n",
    "# comparing original and predicted values of y\n",
    "print('Actual values', list(ytest.values))\n",
    "print('Predictions :', prediction)\n",
    "\n",
    "\n",
    "from sklearn.metrics import (confusion_matrix, \n",
    "                           accuracy_score)\n",
    "  \n",
    "# confusion matrix\n",
    "cm = confusion_matrix(ytest, prediction) \n",
    "print (\"Confusion Matrix : \\n\", cm) \n",
    "  \n",
    "# accuracy score of the model\n",
    "print('Test accuracy = ', accuracy_score(ytest, prediction))"
   ]
  },
  {
   "cell_type": "code",
   "execution_count": 60,
   "id": "07524002",
   "metadata": {},
   "outputs": [],
   "source": [
    "df7 = df5[(df5['team'] == 'Karachi Kings') & (df5['team'] == 'Karachi Kings')]"
   ]
  },
  {
   "cell_type": "code",
   "execution_count": 61,
   "id": "43881ad1",
   "metadata": {},
   "outputs": [
    {
     "data": {
      "text/html": [
       "<div>\n",
       "<style scoped>\n",
       "    .dataframe tbody tr th:only-of-type {\n",
       "        vertical-align: middle;\n",
       "    }\n",
       "\n",
       "    .dataframe tbody tr th {\n",
       "        vertical-align: top;\n",
       "    }\n",
       "\n",
       "    .dataframe thead th {\n",
       "        text-align: right;\n",
       "    }\n",
       "</style>\n",
       "<table border=\"1\" class=\"dataframe\">\n",
       "  <thead>\n",
       "    <tr style=\"text-align: right;\">\n",
       "      <th></th>\n",
       "      <th>team</th>\n",
       "      <th>match_id</th>\n",
       "      <th>runrate_first_six_over</th>\n",
       "      <th>wickets_lost_first_six</th>\n",
       "      <th>runrate_last_five_over</th>\n",
       "      <th>wickets_lost_last_five</th>\n",
       "      <th>batsman_PCA</th>\n",
       "      <th>bowler_PCA</th>\n",
       "      <th>toss_win</th>\n",
       "      <th>match_win</th>\n",
       "      <th>strike_rotation</th>\n",
       "      <th>stddev_batsman</th>\n",
       "      <th>stddev_bowler</th>\n",
       "    </tr>\n",
       "  </thead>\n",
       "  <tbody>\n",
       "    <tr>\n",
       "      <th>0</th>\n",
       "      <td>Islamabad United</td>\n",
       "      <td>1211642.0</td>\n",
       "      <td>9.0</td>\n",
       "      <td>2.0</td>\n",
       "      <td>9.0</td>\n",
       "      <td>6.0</td>\n",
       "      <td>0.112789</td>\n",
       "      <td>0.191240</td>\n",
       "      <td>0.0</td>\n",
       "      <td>0.0</td>\n",
       "      <td>79.0</td>\n",
       "      <td>1.613872</td>\n",
       "      <td>1.494731</td>\n",
       "    </tr>\n",
       "    <tr>\n",
       "      <th>1</th>\n",
       "      <td>Quetta Gladiators</td>\n",
       "      <td>1211642.0</td>\n",
       "      <td>6.0</td>\n",
       "      <td>3.0</td>\n",
       "      <td>9.0</td>\n",
       "      <td>3.0</td>\n",
       "      <td>-0.401480</td>\n",
       "      <td>-0.044789</td>\n",
       "      <td>1.0</td>\n",
       "      <td>1.0</td>\n",
       "      <td>67.0</td>\n",
       "      <td>1.712828</td>\n",
       "      <td>0.530870</td>\n",
       "    </tr>\n",
       "    <tr>\n",
       "      <th>3</th>\n",
       "      <td>Peshawar Zalmi</td>\n",
       "      <td>1211643.0</td>\n",
       "      <td>8.0</td>\n",
       "      <td>2.0</td>\n",
       "      <td>13.0</td>\n",
       "      <td>2.0</td>\n",
       "      <td>0.865969</td>\n",
       "      <td>-0.232708</td>\n",
       "      <td>1.0</td>\n",
       "      <td>0.0</td>\n",
       "      <td>105.0</td>\n",
       "      <td>1.376433</td>\n",
       "      <td>0.759959</td>\n",
       "    </tr>\n",
       "    <tr>\n",
       "      <th>4</th>\n",
       "      <td>Lahore Qalandars</td>\n",
       "      <td>1211644.0</td>\n",
       "      <td>10.0</td>\n",
       "      <td>2.0</td>\n",
       "      <td>7.0</td>\n",
       "      <td>3.0</td>\n",
       "      <td>-0.328489</td>\n",
       "      <td>0.058016</td>\n",
       "      <td>0.0</td>\n",
       "      <td>0.0</td>\n",
       "      <td>54.0</td>\n",
       "      <td>1.109202</td>\n",
       "      <td>1.860303</td>\n",
       "    </tr>\n",
       "    <tr>\n",
       "      <th>5</th>\n",
       "      <td>Multan Sultans</td>\n",
       "      <td>1211644.0</td>\n",
       "      <td>9.0</td>\n",
       "      <td>2.0</td>\n",
       "      <td>9.0</td>\n",
       "      <td>2.0</td>\n",
       "      <td>-0.593562</td>\n",
       "      <td>0.853825</td>\n",
       "      <td>1.0</td>\n",
       "      <td>1.0</td>\n",
       "      <td>73.0</td>\n",
       "      <td>0.389422</td>\n",
       "      <td>2.177963</td>\n",
       "    </tr>\n",
       "    <tr>\n",
       "      <th>...</th>\n",
       "      <td>...</td>\n",
       "      <td>...</td>\n",
       "      <td>...</td>\n",
       "      <td>...</td>\n",
       "      <td>...</td>\n",
       "      <td>...</td>\n",
       "      <td>...</td>\n",
       "      <td>...</td>\n",
       "      <td>...</td>\n",
       "      <td>...</td>\n",
       "      <td>...</td>\n",
       "      <td>...</td>\n",
       "      <td>...</td>\n",
       "    </tr>\n",
       "    <tr>\n",
       "      <th>63</th>\n",
       "      <td>Islamabad United</td>\n",
       "      <td>1293031.0</td>\n",
       "      <td>9.0</td>\n",
       "      <td>1.0</td>\n",
       "      <td>12.0</td>\n",
       "      <td>2.0</td>\n",
       "      <td>-0.294828</td>\n",
       "      <td>-0.692007</td>\n",
       "      <td>0.0</td>\n",
       "      <td>1.0</td>\n",
       "      <td>74.0</td>\n",
       "      <td>1.681994</td>\n",
       "      <td>0.802737</td>\n",
       "    </tr>\n",
       "    <tr>\n",
       "      <th>64</th>\n",
       "      <td>Lahore Qalandars</td>\n",
       "      <td>1293032.0</td>\n",
       "      <td>6.0</td>\n",
       "      <td>2.0</td>\n",
       "      <td>11.0</td>\n",
       "      <td>2.0</td>\n",
       "      <td>1.136496</td>\n",
       "      <td>-0.700885</td>\n",
       "      <td>1.0</td>\n",
       "      <td>1.0</td>\n",
       "      <td>83.0</td>\n",
       "      <td>2.110266</td>\n",
       "      <td>1.114360</td>\n",
       "    </tr>\n",
       "    <tr>\n",
       "      <th>65</th>\n",
       "      <td>Islamabad United</td>\n",
       "      <td>1293032.0</td>\n",
       "      <td>8.0</td>\n",
       "      <td>4.0</td>\n",
       "      <td>6.0</td>\n",
       "      <td>5.0</td>\n",
       "      <td>-0.053311</td>\n",
       "      <td>-0.366746</td>\n",
       "      <td>0.0</td>\n",
       "      <td>0.0</td>\n",
       "      <td>85.0</td>\n",
       "      <td>1.626418</td>\n",
       "      <td>1.838088</td>\n",
       "    </tr>\n",
       "    <tr>\n",
       "      <th>66</th>\n",
       "      <td>Lahore Qalandars</td>\n",
       "      <td>1293033.0</td>\n",
       "      <td>6.0</td>\n",
       "      <td>3.0</td>\n",
       "      <td>15.0</td>\n",
       "      <td>1.0</td>\n",
       "      <td>1.136496</td>\n",
       "      <td>-1.074225</td>\n",
       "      <td>1.0</td>\n",
       "      <td>1.0</td>\n",
       "      <td>79.0</td>\n",
       "      <td>2.110266</td>\n",
       "      <td>1.114771</td>\n",
       "    </tr>\n",
       "    <tr>\n",
       "      <th>67</th>\n",
       "      <td>Multan Sultans</td>\n",
       "      <td>1293033.0</td>\n",
       "      <td>8.0</td>\n",
       "      <td>2.0</td>\n",
       "      <td>8.0</td>\n",
       "      <td>5.0</td>\n",
       "      <td>1.854690</td>\n",
       "      <td>-0.366746</td>\n",
       "      <td>0.0</td>\n",
       "      <td>0.0</td>\n",
       "      <td>76.0</td>\n",
       "      <td>2.037226</td>\n",
       "      <td>1.838088</td>\n",
       "    </tr>\n",
       "  </tbody>\n",
       "</table>\n",
       "<p>166 rows × 13 columns</p>\n",
       "</div>"
      ],
      "text/plain": [
       "                 team   match_id  runrate_first_six_over  \\\n",
       "0    Islamabad United  1211642.0                     9.0   \n",
       "1   Quetta Gladiators  1211642.0                     6.0   \n",
       "3      Peshawar Zalmi  1211643.0                     8.0   \n",
       "4    Lahore Qalandars  1211644.0                    10.0   \n",
       "5      Multan Sultans  1211644.0                     9.0   \n",
       "..                ...        ...                     ...   \n",
       "63   Islamabad United  1293031.0                     9.0   \n",
       "64   Lahore Qalandars  1293032.0                     6.0   \n",
       "65   Islamabad United  1293032.0                     8.0   \n",
       "66   Lahore Qalandars  1293033.0                     6.0   \n",
       "67     Multan Sultans  1293033.0                     8.0   \n",
       "\n",
       "    wickets_lost_first_six  runrate_last_five_over  wickets_lost_last_five  \\\n",
       "0                      2.0                     9.0                     6.0   \n",
       "1                      3.0                     9.0                     3.0   \n",
       "3                      2.0                    13.0                     2.0   \n",
       "4                      2.0                     7.0                     3.0   \n",
       "5                      2.0                     9.0                     2.0   \n",
       "..                     ...                     ...                     ...   \n",
       "63                     1.0                    12.0                     2.0   \n",
       "64                     2.0                    11.0                     2.0   \n",
       "65                     4.0                     6.0                     5.0   \n",
       "66                     3.0                    15.0                     1.0   \n",
       "67                     2.0                     8.0                     5.0   \n",
       "\n",
       "    batsman_PCA  bowler_PCA  toss_win  match_win  strike_rotation  \\\n",
       "0      0.112789    0.191240       0.0        0.0             79.0   \n",
       "1     -0.401480   -0.044789       1.0        1.0             67.0   \n",
       "3      0.865969   -0.232708       1.0        0.0            105.0   \n",
       "4     -0.328489    0.058016       0.0        0.0             54.0   \n",
       "5     -0.593562    0.853825       1.0        1.0             73.0   \n",
       "..          ...         ...       ...        ...              ...   \n",
       "63    -0.294828   -0.692007       0.0        1.0             74.0   \n",
       "64     1.136496   -0.700885       1.0        1.0             83.0   \n",
       "65    -0.053311   -0.366746       0.0        0.0             85.0   \n",
       "66     1.136496   -1.074225       1.0        1.0             79.0   \n",
       "67     1.854690   -0.366746       0.0        0.0             76.0   \n",
       "\n",
       "    stddev_batsman  stddev_bowler  \n",
       "0         1.613872       1.494731  \n",
       "1         1.712828       0.530870  \n",
       "3         1.376433       0.759959  \n",
       "4         1.109202       1.860303  \n",
       "5         0.389422       2.177963  \n",
       "..             ...            ...  \n",
       "63        1.681994       0.802737  \n",
       "64        2.110266       1.114360  \n",
       "65        1.626418       1.838088  \n",
       "66        2.110266       1.114771  \n",
       "67        2.037226       1.838088  \n",
       "\n",
       "[166 rows x 13 columns]"
      ]
     },
     "execution_count": 61,
     "metadata": {},
     "output_type": "execute_result"
    }
   ],
   "source": [
    "df8"
   ]
  },
  {
   "cell_type": "code",
   "execution_count": 62,
   "id": "327f2ad2",
   "metadata": {},
   "outputs": [
    {
     "name": "stdout",
     "output_type": "stream",
     "text": [
      "Optimization terminated successfully.\n",
      "         Current function value: 0.414205\n",
      "         Iterations 7\n"
     ]
    }
   ],
   "source": [
    "df8 = df8.dropna()\n",
    "# defining the dependent and independent variables\n",
    "Xtrain = df8[[\"runrate_first_six_over\",\"wickets_lost_first_six\",\"runrate_last_five_over\",\"wickets_lost_last_five\",\"batsman_PCA\",\"toss_win\",\"bowler_PCA\",\"stddev_batsman\",\"strike_rotation\",\"stddev_bowler\"]]\n",
    "ytrain = df8[['match_win']]\n",
    "   \n",
    "# building the model and fitting the data\n",
    "log_reg = sm.Logit(ytrain, Xtrain).fit()"
   ]
  },
  {
   "cell_type": "code",
   "execution_count": 63,
   "id": "867bc9d4",
   "metadata": {
    "scrolled": true
   },
   "outputs": [
    {
     "name": "stdout",
     "output_type": "stream",
     "text": [
      "                           Logit Regression Results                           \n",
      "==============================================================================\n",
      "Dep. Variable:              match_win   No. Observations:                  166\n",
      "Model:                          Logit   Df Residuals:                      156\n",
      "Method:                           MLE   Df Model:                            9\n",
      "Date:                Tue, 20 Sep 2022   Pseudo R-squ.:                  0.4022\n",
      "Time:                        20:04:08   Log-Likelihood:                -68.758\n",
      "converged:                       True   LL-Null:                       -115.01\n",
      "Covariance Type:            nonrobust   LLR p-value:                 5.094e-16\n",
      "==========================================================================================\n",
      "                             coef    std err          z      P>|z|      [0.025      0.975]\n",
      "------------------------------------------------------------------------------------------\n",
      "runrate_first_six_over     0.1246      0.086      1.444      0.149      -0.045       0.294\n",
      "wickets_lost_first_six    -0.6181      0.209     -2.957      0.003      -1.028      -0.208\n",
      "runrate_last_five_over     0.1162      0.064      1.810      0.070      -0.010       0.242\n",
      "wickets_lost_last_five    -0.8187      0.166     -4.919      0.000      -1.145      -0.492\n",
      "batsman_PCA                0.1743      0.291      0.599      0.549      -0.396       0.745\n",
      "toss_win                   1.4477      0.456      3.178      0.001       0.555       2.340\n",
      "bowler_PCA                 1.2134      0.340      3.573      0.000       0.548       1.879\n",
      "stddev_batsman             0.7707      0.444      1.735      0.083      -0.100       1.641\n",
      "strike_rotation           -0.0153      0.014     -1.131      0.258      -0.042       0.011\n",
      "stddev_bowler              0.1054      0.358      0.294      0.768      -0.596       0.807\n",
      "==========================================================================================\n"
     ]
    }
   ],
   "source": [
    "print(log_reg.summary())"
   ]
  },
  {
   "cell_type": "code",
   "execution_count": 64,
   "id": "5d48e12c",
   "metadata": {},
   "outputs": [
    {
     "name": "stdout",
     "output_type": "stream",
     "text": [
      "Actual values [1.0, 0.0, 0.0, 1.0, 1.0, 0.0, 1.0, 1.0, 0.0, 1.0, 1.0, 0.0, 1.0, 0.0, 1.0, 0.0, 0.0, 0.0, 1.0, 1.0, 0.0, 0.0, 0.0, 0.0, 0.0, 0.0, 0.0, 0.0, 0.0, 1.0, 0.0]\n",
      "Predictions : [1, 1, 1, 1, 1, 1, 1, 1, 1, 1, 1, 0, 1, 0, 1, 1, 1, 0, 1, 1, 0, 0, 0, 0, 1, 0, 0, 0, 0, 0, 0]\n"
     ]
    }
   ],
   "source": [
    "\n",
    "  \n",
    "# defining the dependent and independent variables\n",
    "Xtest = df7[[\"runrate_first_six_over\",\"wickets_lost_first_six\",\"runrate_last_five_over\",\"wickets_lost_last_five\",\"batsman_PCA\",\"toss_win\",\"bowler_PCA\",\"stddev_batsman\",\"strike_rotation\",\"stddev_bowler\"]]\n",
    "ytest = df7['match_win']\n",
    "  \n",
    "# performing predictions on the test datdaset\n",
    "yhat = log_reg.predict(Xtest)\n",
    "prediction = list(map(round, yhat))\n",
    "  \n",
    "# comparing original and predicted values of y\n",
    "print('Actual values', list(ytest.values))\n",
    "print('Predictions :', prediction)"
   ]
  },
  {
   "cell_type": "code",
   "execution_count": 65,
   "id": "0a4fa050",
   "metadata": {},
   "outputs": [
    {
     "name": "stdout",
     "output_type": "stream",
     "text": [
      "Confusion Matrix : \n",
      " [[12  7]\n",
      " [ 1 11]]\n",
      "Test accuracy =  0.7419354838709677\n"
     ]
    }
   ],
   "source": [
    "\n",
    "from sklearn.metrics import (confusion_matrix, \n",
    "                           accuracy_score)\n",
    "  \n",
    "# confusion matrix\n",
    "cm = confusion_matrix(ytest, prediction) \n",
    "print (\"Confusion Matrix : \\n\", cm) \n",
    "  \n",
    "# accuracy score of the model\n",
    "print('Test accuracy = ', accuracy_score(ytest, prediction))"
   ]
  },
  {
   "cell_type": "code",
   "execution_count": 11,
   "id": "39e185e3",
   "metadata": {},
   "outputs": [
    {
     "data": {
      "text/html": [
       "<div>\n",
       "<style scoped>\n",
       "    .dataframe tbody tr th:only-of-type {\n",
       "        vertical-align: middle;\n",
       "    }\n",
       "\n",
       "    .dataframe tbody tr th {\n",
       "        vertical-align: top;\n",
       "    }\n",
       "\n",
       "    .dataframe thead th {\n",
       "        text-align: right;\n",
       "    }\n",
       "</style>\n",
       "<table border=\"1\" class=\"dataframe\">\n",
       "  <thead>\n",
       "    <tr style=\"text-align: right;\">\n",
       "      <th></th>\n",
       "      <th>team</th>\n",
       "      <th>match_id</th>\n",
       "      <th>runrate_first_six_over</th>\n",
       "      <th>wickets_lost_first_six</th>\n",
       "      <th>runrate_last_five_over</th>\n",
       "      <th>wickets_lost_last_five</th>\n",
       "      <th>batsman_PCA</th>\n",
       "      <th>bowler_PCA</th>\n",
       "      <th>toss_win</th>\n",
       "      <th>match_win</th>\n",
       "      <th>strike_rotation</th>\n",
       "      <th>stddev_batsman</th>\n",
       "      <th>stddev_bowler</th>\n",
       "    </tr>\n",
       "  </thead>\n",
       "  <tbody>\n",
       "    <tr>\n",
       "      <th>0</th>\n",
       "      <td>Quetta Gladiators</td>\n",
       "      <td>1247011.0</td>\n",
       "      <td>8.0</td>\n",
       "      <td>2.0</td>\n",
       "      <td>6.0</td>\n",
       "      <td>4.0</td>\n",
       "      <td>-0.864182</td>\n",
       "      <td>-0.752828</td>\n",
       "      <td>0.0</td>\n",
       "      <td>0.0</td>\n",
       "      <td>55.0</td>\n",
       "      <td>1.506192</td>\n",
       "      <td>1.036453</td>\n",
       "    </tr>\n",
       "    <tr>\n",
       "      <th>1</th>\n",
       "      <td>Karachi Kings</td>\n",
       "      <td>1247011.0</td>\n",
       "      <td>10.0</td>\n",
       "      <td>2.0</td>\n",
       "      <td>9.0</td>\n",
       "      <td>1.0</td>\n",
       "      <td>1.741547</td>\n",
       "      <td>-0.216844</td>\n",
       "      <td>1.0</td>\n",
       "      <td>1.0</td>\n",
       "      <td>42.0</td>\n",
       "      <td>2.270903</td>\n",
       "      <td>0.328431</td>\n",
       "    </tr>\n",
       "    <tr>\n",
       "      <th>2</th>\n",
       "      <td>Peshawar Zalmi</td>\n",
       "      <td>1247012.0</td>\n",
       "      <td>6.0</td>\n",
       "      <td>3.0</td>\n",
       "      <td>9.0</td>\n",
       "      <td>2.0</td>\n",
       "      <td>0.118151</td>\n",
       "      <td>0.780972</td>\n",
       "      <td>0.0</td>\n",
       "      <td>0.0</td>\n",
       "      <td>71.0</td>\n",
       "      <td>1.556299</td>\n",
       "      <td>1.764375</td>\n",
       "    </tr>\n",
       "    <tr>\n",
       "      <th>3</th>\n",
       "      <td>Lahore Qalandars</td>\n",
       "      <td>1247012.0</td>\n",
       "      <td>6.0</td>\n",
       "      <td>2.0</td>\n",
       "      <td>8.0</td>\n",
       "      <td>2.0</td>\n",
       "      <td>-0.328489</td>\n",
       "      <td>-0.722540</td>\n",
       "      <td>1.0</td>\n",
       "      <td>1.0</td>\n",
       "      <td>57.0</td>\n",
       "      <td>1.109202</td>\n",
       "      <td>2.404662</td>\n",
       "    </tr>\n",
       "    <tr>\n",
       "      <th>4</th>\n",
       "      <td>Multan Sultans</td>\n",
       "      <td>1247013.0</td>\n",
       "      <td>6.0</td>\n",
       "      <td>1.0</td>\n",
       "      <td>8.0</td>\n",
       "      <td>3.0</td>\n",
       "      <td>1.229734</td>\n",
       "      <td>0.849902</td>\n",
       "      <td>0.0</td>\n",
       "      <td>0.0</td>\n",
       "      <td>63.0</td>\n",
       "      <td>2.499481</td>\n",
       "      <td>0.644663</td>\n",
       "    </tr>\n",
       "    <tr>\n",
       "      <th>...</th>\n",
       "      <td>...</td>\n",
       "      <td>...</td>\n",
       "      <td>...</td>\n",
       "      <td>...</td>\n",
       "      <td>...</td>\n",
       "      <td>...</td>\n",
       "      <td>...</td>\n",
       "      <td>...</td>\n",
       "      <td>...</td>\n",
       "      <td>...</td>\n",
       "      <td>...</td>\n",
       "      <td>...</td>\n",
       "      <td>...</td>\n",
       "    </tr>\n",
       "    <tr>\n",
       "      <th>63</th>\n",
       "      <td>Peshawar Zalmi</td>\n",
       "      <td>1247042.0</td>\n",
       "      <td>9.0</td>\n",
       "      <td>1.0</td>\n",
       "      <td>9.0</td>\n",
       "      <td>2.0</td>\n",
       "      <td>0.669683</td>\n",
       "      <td>-0.493554</td>\n",
       "      <td>1.0</td>\n",
       "      <td>1.0</td>\n",
       "      <td>68.0</td>\n",
       "      <td>1.576264</td>\n",
       "      <td>1.136070</td>\n",
       "    </tr>\n",
       "    <tr>\n",
       "      <th>64</th>\n",
       "      <td>Islamabad United</td>\n",
       "      <td>1247043.0</td>\n",
       "      <td>9.0</td>\n",
       "      <td>2.0</td>\n",
       "      <td>12.0</td>\n",
       "      <td>2.0</td>\n",
       "      <td>0.703351</td>\n",
       "      <td>-0.452121</td>\n",
       "      <td>0.0</td>\n",
       "      <td>0.0</td>\n",
       "      <td>59.0</td>\n",
       "      <td>0.837696</td>\n",
       "      <td>1.952520</td>\n",
       "    </tr>\n",
       "    <tr>\n",
       "      <th>65</th>\n",
       "      <td>Peshawar Zalmi</td>\n",
       "      <td>1247043.0</td>\n",
       "      <td>8.0</td>\n",
       "      <td>1.0</td>\n",
       "      <td>13.0</td>\n",
       "      <td>1.0</td>\n",
       "      <td>1.560586</td>\n",
       "      <td>0.722089</td>\n",
       "      <td>1.0</td>\n",
       "      <td>1.0</td>\n",
       "      <td>58.0</td>\n",
       "      <td>0.573043</td>\n",
       "      <td>0.630727</td>\n",
       "    </tr>\n",
       "    <tr>\n",
       "      <th>66</th>\n",
       "      <td>Multan Sultans</td>\n",
       "      <td>1247044.0</td>\n",
       "      <td>7.0</td>\n",
       "      <td>0.0</td>\n",
       "      <td>13.0</td>\n",
       "      <td>2.0</td>\n",
       "      <td>0.918980</td>\n",
       "      <td>-0.423624</td>\n",
       "      <td>0.0</td>\n",
       "      <td>1.0</td>\n",
       "      <td>82.0</td>\n",
       "      <td>2.423435</td>\n",
       "      <td>2.182054</td>\n",
       "    </tr>\n",
       "    <tr>\n",
       "      <th>67</th>\n",
       "      <td>Peshawar Zalmi</td>\n",
       "      <td>1247044.0</td>\n",
       "      <td>7.0</td>\n",
       "      <td>1.0</td>\n",
       "      <td>6.0</td>\n",
       "      <td>5.0</td>\n",
       "      <td>1.417788</td>\n",
       "      <td>1.329346</td>\n",
       "      <td>1.0</td>\n",
       "      <td>0.0</td>\n",
       "      <td>65.0</td>\n",
       "      <td>0.554489</td>\n",
       "      <td>1.350955</td>\n",
       "    </tr>\n",
       "  </tbody>\n",
       "</table>\n",
       "<p>68 rows × 13 columns</p>\n",
       "</div>"
      ],
      "text/plain": [
       "                 team   match_id  runrate_first_six_over  \\\n",
       "0   Quetta Gladiators  1247011.0                     8.0   \n",
       "1       Karachi Kings  1247011.0                    10.0   \n",
       "2      Peshawar Zalmi  1247012.0                     6.0   \n",
       "3    Lahore Qalandars  1247012.0                     6.0   \n",
       "4      Multan Sultans  1247013.0                     6.0   \n",
       "..                ...        ...                     ...   \n",
       "63     Peshawar Zalmi  1247042.0                     9.0   \n",
       "64   Islamabad United  1247043.0                     9.0   \n",
       "65     Peshawar Zalmi  1247043.0                     8.0   \n",
       "66     Multan Sultans  1247044.0                     7.0   \n",
       "67     Peshawar Zalmi  1247044.0                     7.0   \n",
       "\n",
       "    wickets_lost_first_six  runrate_last_five_over  wickets_lost_last_five  \\\n",
       "0                      2.0                     6.0                     4.0   \n",
       "1                      2.0                     9.0                     1.0   \n",
       "2                      3.0                     9.0                     2.0   \n",
       "3                      2.0                     8.0                     2.0   \n",
       "4                      1.0                     8.0                     3.0   \n",
       "..                     ...                     ...                     ...   \n",
       "63                     1.0                     9.0                     2.0   \n",
       "64                     2.0                    12.0                     2.0   \n",
       "65                     1.0                    13.0                     1.0   \n",
       "66                     0.0                    13.0                     2.0   \n",
       "67                     1.0                     6.0                     5.0   \n",
       "\n",
       "    batsman_PCA  bowler_PCA  toss_win  match_win  strike_rotation  \\\n",
       "0     -0.864182   -0.752828       0.0        0.0             55.0   \n",
       "1      1.741547   -0.216844       1.0        1.0             42.0   \n",
       "2      0.118151    0.780972       0.0        0.0             71.0   \n",
       "3     -0.328489   -0.722540       1.0        1.0             57.0   \n",
       "4      1.229734    0.849902       0.0        0.0             63.0   \n",
       "..          ...         ...       ...        ...              ...   \n",
       "63     0.669683   -0.493554       1.0        1.0             68.0   \n",
       "64     0.703351   -0.452121       0.0        0.0             59.0   \n",
       "65     1.560586    0.722089       1.0        1.0             58.0   \n",
       "66     0.918980   -0.423624       0.0        1.0             82.0   \n",
       "67     1.417788    1.329346       1.0        0.0             65.0   \n",
       "\n",
       "    stddev_batsman  stddev_bowler  \n",
       "0         1.506192       1.036453  \n",
       "1         2.270903       0.328431  \n",
       "2         1.556299       1.764375  \n",
       "3         1.109202       2.404662  \n",
       "4         2.499481       0.644663  \n",
       "..             ...            ...  \n",
       "63        1.576264       1.136070  \n",
       "64        0.837696       1.952520  \n",
       "65        0.573043       0.630727  \n",
       "66        2.423435       2.182054  \n",
       "67        0.554489       1.350955  \n",
       "\n",
       "[68 rows x 13 columns]"
      ]
     },
     "execution_count": 11,
     "metadata": {},
     "output_type": "execute_result"
    }
   ],
   "source": [
    "df2"
   ]
  },
  {
   "cell_type": "code",
   "execution_count": 13,
   "id": "2f64512b",
   "metadata": {},
   "outputs": [
    {
     "data": {
      "text/html": [
       "<div>\n",
       "<style scoped>\n",
       "    .dataframe tbody tr th:only-of-type {\n",
       "        vertical-align: middle;\n",
       "    }\n",
       "\n",
       "    .dataframe tbody tr th {\n",
       "        vertical-align: top;\n",
       "    }\n",
       "\n",
       "    .dataframe thead th {\n",
       "        text-align: right;\n",
       "    }\n",
       "</style>\n",
       "<table border=\"1\" class=\"dataframe\">\n",
       "  <thead>\n",
       "    <tr style=\"text-align: right;\">\n",
       "      <th></th>\n",
       "      <th>team</th>\n",
       "      <th>match_id</th>\n",
       "      <th>runrate_first_six_over</th>\n",
       "      <th>wickets_lost_first_six</th>\n",
       "      <th>runrate_last_five_over</th>\n",
       "      <th>wickets_lost_last_five</th>\n",
       "      <th>batsman_PCA</th>\n",
       "      <th>bowler_PCA</th>\n",
       "      <th>toss_win</th>\n",
       "      <th>match_win</th>\n",
       "      <th>strike_rotation</th>\n",
       "      <th>stddev_batsman</th>\n",
       "      <th>stddev_bowler</th>\n",
       "    </tr>\n",
       "  </thead>\n",
       "  <tbody>\n",
       "    <tr>\n",
       "      <th>0</th>\n",
       "      <td>Quetta Gladiators</td>\n",
       "      <td>1247011.0</td>\n",
       "      <td>8.0</td>\n",
       "      <td>2.0</td>\n",
       "      <td>6.0</td>\n",
       "      <td>4.0</td>\n",
       "      <td>-0.864182</td>\n",
       "      <td>-0.216844</td>\n",
       "      <td>0.0</td>\n",
       "      <td>0.0</td>\n",
       "      <td>55.0</td>\n",
       "      <td>1.506192</td>\n",
       "      <td>0.328431</td>\n",
       "    </tr>\n",
       "    <tr>\n",
       "      <th>1</th>\n",
       "      <td>Karachi Kings</td>\n",
       "      <td>1247011.0</td>\n",
       "      <td>10.0</td>\n",
       "      <td>2.0</td>\n",
       "      <td>9.0</td>\n",
       "      <td>1.0</td>\n",
       "      <td>1.741547</td>\n",
       "      <td>-0.752828</td>\n",
       "      <td>1.0</td>\n",
       "      <td>1.0</td>\n",
       "      <td>42.0</td>\n",
       "      <td>2.270903</td>\n",
       "      <td>1.036453</td>\n",
       "    </tr>\n",
       "    <tr>\n",
       "      <th>2</th>\n",
       "      <td>Peshawar Zalmi</td>\n",
       "      <td>1247012.0</td>\n",
       "      <td>6.0</td>\n",
       "      <td>3.0</td>\n",
       "      <td>9.0</td>\n",
       "      <td>2.0</td>\n",
       "      <td>0.118151</td>\n",
       "      <td>-0.722540</td>\n",
       "      <td>0.0</td>\n",
       "      <td>0.0</td>\n",
       "      <td>71.0</td>\n",
       "      <td>1.556299</td>\n",
       "      <td>2.404662</td>\n",
       "    </tr>\n",
       "    <tr>\n",
       "      <th>3</th>\n",
       "      <td>Lahore Qalandars</td>\n",
       "      <td>1247012.0</td>\n",
       "      <td>6.0</td>\n",
       "      <td>2.0</td>\n",
       "      <td>8.0</td>\n",
       "      <td>2.0</td>\n",
       "      <td>-0.328489</td>\n",
       "      <td>0.780972</td>\n",
       "      <td>1.0</td>\n",
       "      <td>1.0</td>\n",
       "      <td>57.0</td>\n",
       "      <td>1.109202</td>\n",
       "      <td>1.764375</td>\n",
       "    </tr>\n",
       "    <tr>\n",
       "      <th>4</th>\n",
       "      <td>Multan Sultans</td>\n",
       "      <td>1247013.0</td>\n",
       "      <td>6.0</td>\n",
       "      <td>1.0</td>\n",
       "      <td>8.0</td>\n",
       "      <td>3.0</td>\n",
       "      <td>1.229734</td>\n",
       "      <td>-1.698963</td>\n",
       "      <td>0.0</td>\n",
       "      <td>0.0</td>\n",
       "      <td>63.0</td>\n",
       "      <td>2.499481</td>\n",
       "      <td>0.893751</td>\n",
       "    </tr>\n",
       "    <tr>\n",
       "      <th>...</th>\n",
       "      <td>...</td>\n",
       "      <td>...</td>\n",
       "      <td>...</td>\n",
       "      <td>...</td>\n",
       "      <td>...</td>\n",
       "      <td>...</td>\n",
       "      <td>...</td>\n",
       "      <td>...</td>\n",
       "      <td>...</td>\n",
       "      <td>...</td>\n",
       "      <td>...</td>\n",
       "      <td>...</td>\n",
       "      <td>...</td>\n",
       "    </tr>\n",
       "    <tr>\n",
       "      <th>63</th>\n",
       "      <td>Peshawar Zalmi</td>\n",
       "      <td>1247042.0</td>\n",
       "      <td>9.0</td>\n",
       "      <td>1.0</td>\n",
       "      <td>9.0</td>\n",
       "      <td>2.0</td>\n",
       "      <td>0.669683</td>\n",
       "      <td>0.439696</td>\n",
       "      <td>1.0</td>\n",
       "      <td>1.0</td>\n",
       "      <td>68.0</td>\n",
       "      <td>1.576264</td>\n",
       "      <td>0.888107</td>\n",
       "    </tr>\n",
       "    <tr>\n",
       "      <th>64</th>\n",
       "      <td>Islamabad United</td>\n",
       "      <td>1247043.0</td>\n",
       "      <td>9.0</td>\n",
       "      <td>2.0</td>\n",
       "      <td>12.0</td>\n",
       "      <td>2.0</td>\n",
       "      <td>0.703351</td>\n",
       "      <td>0.722089</td>\n",
       "      <td>0.0</td>\n",
       "      <td>0.0</td>\n",
       "      <td>59.0</td>\n",
       "      <td>0.837696</td>\n",
       "      <td>0.630727</td>\n",
       "    </tr>\n",
       "    <tr>\n",
       "      <th>65</th>\n",
       "      <td>Peshawar Zalmi</td>\n",
       "      <td>1247043.0</td>\n",
       "      <td>8.0</td>\n",
       "      <td>1.0</td>\n",
       "      <td>13.0</td>\n",
       "      <td>1.0</td>\n",
       "      <td>1.560586</td>\n",
       "      <td>-0.452121</td>\n",
       "      <td>1.0</td>\n",
       "      <td>1.0</td>\n",
       "      <td>58.0</td>\n",
       "      <td>0.573043</td>\n",
       "      <td>1.952520</td>\n",
       "    </tr>\n",
       "    <tr>\n",
       "      <th>66</th>\n",
       "      <td>Multan Sultans</td>\n",
       "      <td>1247044.0</td>\n",
       "      <td>7.0</td>\n",
       "      <td>0.0</td>\n",
       "      <td>13.0</td>\n",
       "      <td>2.0</td>\n",
       "      <td>0.918980</td>\n",
       "      <td>1.329346</td>\n",
       "      <td>0.0</td>\n",
       "      <td>1.0</td>\n",
       "      <td>82.0</td>\n",
       "      <td>2.423435</td>\n",
       "      <td>1.350955</td>\n",
       "    </tr>\n",
       "    <tr>\n",
       "      <th>67</th>\n",
       "      <td>Peshawar Zalmi</td>\n",
       "      <td>1247044.0</td>\n",
       "      <td>7.0</td>\n",
       "      <td>1.0</td>\n",
       "      <td>6.0</td>\n",
       "      <td>5.0</td>\n",
       "      <td>1.417788</td>\n",
       "      <td>-0.423624</td>\n",
       "      <td>1.0</td>\n",
       "      <td>0.0</td>\n",
       "      <td>65.0</td>\n",
       "      <td>0.554489</td>\n",
       "      <td>2.182054</td>\n",
       "    </tr>\n",
       "  </tbody>\n",
       "</table>\n",
       "<p>68 rows × 13 columns</p>\n",
       "</div>"
      ],
      "text/plain": [
       "                 team   match_id  runrate_first_six_over  \\\n",
       "0   Quetta Gladiators  1247011.0                     8.0   \n",
       "1       Karachi Kings  1247011.0                    10.0   \n",
       "2      Peshawar Zalmi  1247012.0                     6.0   \n",
       "3    Lahore Qalandars  1247012.0                     6.0   \n",
       "4      Multan Sultans  1247013.0                     6.0   \n",
       "..                ...        ...                     ...   \n",
       "63     Peshawar Zalmi  1247042.0                     9.0   \n",
       "64   Islamabad United  1247043.0                     9.0   \n",
       "65     Peshawar Zalmi  1247043.0                     8.0   \n",
       "66     Multan Sultans  1247044.0                     7.0   \n",
       "67     Peshawar Zalmi  1247044.0                     7.0   \n",
       "\n",
       "    wickets_lost_first_six  runrate_last_five_over  wickets_lost_last_five  \\\n",
       "0                      2.0                     6.0                     4.0   \n",
       "1                      2.0                     9.0                     1.0   \n",
       "2                      3.0                     9.0                     2.0   \n",
       "3                      2.0                     8.0                     2.0   \n",
       "4                      1.0                     8.0                     3.0   \n",
       "..                     ...                     ...                     ...   \n",
       "63                     1.0                     9.0                     2.0   \n",
       "64                     2.0                    12.0                     2.0   \n",
       "65                     1.0                    13.0                     1.0   \n",
       "66                     0.0                    13.0                     2.0   \n",
       "67                     1.0                     6.0                     5.0   \n",
       "\n",
       "    batsman_PCA  bowler_PCA  toss_win  match_win  strike_rotation  \\\n",
       "0     -0.864182   -0.216844       0.0        0.0             55.0   \n",
       "1      1.741547   -0.752828       1.0        1.0             42.0   \n",
       "2      0.118151   -0.722540       0.0        0.0             71.0   \n",
       "3     -0.328489    0.780972       1.0        1.0             57.0   \n",
       "4      1.229734   -1.698963       0.0        0.0             63.0   \n",
       "..          ...         ...       ...        ...              ...   \n",
       "63     0.669683    0.439696       1.0        1.0             68.0   \n",
       "64     0.703351    0.722089       0.0        0.0             59.0   \n",
       "65     1.560586   -0.452121       1.0        1.0             58.0   \n",
       "66     0.918980    1.329346       0.0        1.0             82.0   \n",
       "67     1.417788   -0.423624       1.0        0.0             65.0   \n",
       "\n",
       "    stddev_batsman  stddev_bowler  \n",
       "0         1.506192       0.328431  \n",
       "1         2.270903       1.036453  \n",
       "2         1.556299       2.404662  \n",
       "3         1.109202       1.764375  \n",
       "4         2.499481       0.893751  \n",
       "..             ...            ...  \n",
       "63        1.576264       0.888107  \n",
       "64        0.837696       0.630727  \n",
       "65        0.573043       1.952520  \n",
       "66        2.423435       1.350955  \n",
       "67        0.554489       2.182054  \n",
       "\n",
       "[68 rows x 13 columns]"
      ]
     },
     "execution_count": 13,
     "metadata": {},
     "output_type": "execute_result"
    }
   ],
   "source": [
    "\n",
    "df2[\"bowler_PCA\"] = [z for x, y in zip(df2[\"bowler_PCA\"].iloc[1::2], df2[\"bowler_PCA\"].iloc[::2]) for z in [x, y]]\n",
    "df2\n",
    "\n",
    "df2[\"stddev_bowler\"] = [z for x, y in zip(df2[\"stddev_bowler\"].iloc[1::2], df2[\"stddev_bowler\"].iloc[::2]) for z in [x, y]]\n",
    "df2"
   ]
  },
  {
   "cell_type": "code",
   "execution_count": 252,
   "id": "f1d78332",
   "metadata": {},
   "outputs": [
    {
     "data": {
      "text/html": [
       "<div>\n",
       "<style scoped>\n",
       "    .dataframe tbody tr th:only-of-type {\n",
       "        vertical-align: middle;\n",
       "    }\n",
       "\n",
       "    .dataframe tbody tr th {\n",
       "        vertical-align: top;\n",
       "    }\n",
       "\n",
       "    .dataframe thead th {\n",
       "        text-align: right;\n",
       "    }\n",
       "</style>\n",
       "<table border=\"1\" class=\"dataframe\">\n",
       "  <thead>\n",
       "    <tr style=\"text-align: right;\">\n",
       "      <th></th>\n",
       "      <th>team</th>\n",
       "      <th>match_id</th>\n",
       "      <th>runrate_first_six_over</th>\n",
       "      <th>wickets_lost_first_six</th>\n",
       "      <th>runrate_last_five_over</th>\n",
       "      <th>wickets_lost_last_five</th>\n",
       "      <th>batsman_PCA</th>\n",
       "      <th>bowler_PCA</th>\n",
       "      <th>toss_win</th>\n",
       "      <th>match_win</th>\n",
       "      <th>strike_rotation</th>\n",
       "      <th>stddev_batsman</th>\n",
       "      <th>stddev_bowler</th>\n",
       "    </tr>\n",
       "  </thead>\n",
       "  <tbody>\n",
       "    <tr>\n",
       "      <th>58</th>\n",
       "      <td>Multan Sultans</td>\n",
       "      <td>1247040.0</td>\n",
       "      <td>10.0</td>\n",
       "      <td>0.0</td>\n",
       "      <td>5.0</td>\n",
       "      <td>6.0</td>\n",
       "      <td>1.302356</td>\n",
       "      <td>0.122316</td>\n",
       "      <td>0.0</td>\n",
       "      <td>0.0</td>\n",
       "      <td>74.0</td>\n",
       "      <td>2.483099</td>\n",
       "      <td>0.652679</td>\n",
       "    </tr>\n",
       "    <tr>\n",
       "      <th>59</th>\n",
       "      <td>Islamabad United</td>\n",
       "      <td>1247040.0</td>\n",
       "      <td>9.0</td>\n",
       "      <td>1.0</td>\n",
       "      <td>4.0</td>\n",
       "      <td>3.0</td>\n",
       "      <td>-0.644699</td>\n",
       "      <td>0.568270</td>\n",
       "      <td>1.0</td>\n",
       "      <td>1.0</td>\n",
       "      <td>70.0</td>\n",
       "      <td>0.951067</td>\n",
       "      <td>1.134380</td>\n",
       "    </tr>\n",
       "    <tr>\n",
       "      <th>60</th>\n",
       "      <td>Multan Sultans</td>\n",
       "      <td>1247041.0</td>\n",
       "      <td>7.0</td>\n",
       "      <td>1.0</td>\n",
       "      <td>11.0</td>\n",
       "      <td>1.0</td>\n",
       "      <td>0.918980</td>\n",
       "      <td>0.913552</td>\n",
       "      <td>1.0</td>\n",
       "      <td>1.0</td>\n",
       "      <td>54.0</td>\n",
       "      <td>2.423435</td>\n",
       "      <td>1.559653</td>\n",
       "    </tr>\n",
       "    <tr>\n",
       "      <th>61</th>\n",
       "      <td>Islamabad United</td>\n",
       "      <td>1247041.0</td>\n",
       "      <td>6.0</td>\n",
       "      <td>3.0</td>\n",
       "      <td>8.0</td>\n",
       "      <td>5.0</td>\n",
       "      <td>0.173037</td>\n",
       "      <td>0.913552</td>\n",
       "      <td>0.0</td>\n",
       "      <td>0.0</td>\n",
       "      <td>68.0</td>\n",
       "      <td>1.298584</td>\n",
       "      <td>1.559653</td>\n",
       "    </tr>\n",
       "    <tr>\n",
       "      <th>62</th>\n",
       "      <td>Karachi Kings</td>\n",
       "      <td>1247042.0</td>\n",
       "      <td>6.0</td>\n",
       "      <td>1.0</td>\n",
       "      <td>14.0</td>\n",
       "      <td>3.0</td>\n",
       "      <td>3.678410</td>\n",
       "      <td>1.139798</td>\n",
       "      <td>0.0</td>\n",
       "      <td>0.0</td>\n",
       "      <td>81.0</td>\n",
       "      <td>1.531023</td>\n",
       "      <td>0.000000</td>\n",
       "    </tr>\n",
       "    <tr>\n",
       "      <th>63</th>\n",
       "      <td>Peshawar Zalmi</td>\n",
       "      <td>1247042.0</td>\n",
       "      <td>9.0</td>\n",
       "      <td>1.0</td>\n",
       "      <td>9.0</td>\n",
       "      <td>2.0</td>\n",
       "      <td>0.669683</td>\n",
       "      <td>0.457682</td>\n",
       "      <td>1.0</td>\n",
       "      <td>1.0</td>\n",
       "      <td>68.0</td>\n",
       "      <td>1.576264</td>\n",
       "      <td>0.510331</td>\n",
       "    </tr>\n",
       "    <tr>\n",
       "      <th>64</th>\n",
       "      <td>Islamabad United</td>\n",
       "      <td>1247043.0</td>\n",
       "      <td>9.0</td>\n",
       "      <td>2.0</td>\n",
       "      <td>12.0</td>\n",
       "      <td>2.0</td>\n",
       "      <td>0.703351</td>\n",
       "      <td>0.722089</td>\n",
       "      <td>0.0</td>\n",
       "      <td>0.0</td>\n",
       "      <td>59.0</td>\n",
       "      <td>0.837696</td>\n",
       "      <td>0.630727</td>\n",
       "    </tr>\n",
       "    <tr>\n",
       "      <th>65</th>\n",
       "      <td>Peshawar Zalmi</td>\n",
       "      <td>1247043.0</td>\n",
       "      <td>8.0</td>\n",
       "      <td>1.0</td>\n",
       "      <td>13.0</td>\n",
       "      <td>1.0</td>\n",
       "      <td>1.560586</td>\n",
       "      <td>0.439696</td>\n",
       "      <td>1.0</td>\n",
       "      <td>1.0</td>\n",
       "      <td>58.0</td>\n",
       "      <td>0.573043</td>\n",
       "      <td>0.888107</td>\n",
       "    </tr>\n",
       "    <tr>\n",
       "      <th>66</th>\n",
       "      <td>Multan Sultans</td>\n",
       "      <td>1247044.0</td>\n",
       "      <td>7.0</td>\n",
       "      <td>0.0</td>\n",
       "      <td>13.0</td>\n",
       "      <td>2.0</td>\n",
       "      <td>0.918980</td>\n",
       "      <td>-0.452121</td>\n",
       "      <td>0.0</td>\n",
       "      <td>1.0</td>\n",
       "      <td>82.0</td>\n",
       "      <td>2.423435</td>\n",
       "      <td>1.952520</td>\n",
       "    </tr>\n",
       "    <tr>\n",
       "      <th>67</th>\n",
       "      <td>Peshawar Zalmi</td>\n",
       "      <td>1247044.0</td>\n",
       "      <td>7.0</td>\n",
       "      <td>1.0</td>\n",
       "      <td>6.0</td>\n",
       "      <td>5.0</td>\n",
       "      <td>1.417788</td>\n",
       "      <td>-0.423624</td>\n",
       "      <td>1.0</td>\n",
       "      <td>0.0</td>\n",
       "      <td>65.0</td>\n",
       "      <td>0.554489</td>\n",
       "      <td>2.182054</td>\n",
       "    </tr>\n",
       "  </tbody>\n",
       "</table>\n",
       "</div>"
      ],
      "text/plain": [
       "                team   match_id  runrate_first_six_over  \\\n",
       "58    Multan Sultans  1247040.0                    10.0   \n",
       "59  Islamabad United  1247040.0                     9.0   \n",
       "60    Multan Sultans  1247041.0                     7.0   \n",
       "61  Islamabad United  1247041.0                     6.0   \n",
       "62     Karachi Kings  1247042.0                     6.0   \n",
       "63    Peshawar Zalmi  1247042.0                     9.0   \n",
       "64  Islamabad United  1247043.0                     9.0   \n",
       "65    Peshawar Zalmi  1247043.0                     8.0   \n",
       "66    Multan Sultans  1247044.0                     7.0   \n",
       "67    Peshawar Zalmi  1247044.0                     7.0   \n",
       "\n",
       "    wickets_lost_first_six  runrate_last_five_over  wickets_lost_last_five  \\\n",
       "58                     0.0                     5.0                     6.0   \n",
       "59                     1.0                     4.0                     3.0   \n",
       "60                     1.0                    11.0                     1.0   \n",
       "61                     3.0                     8.0                     5.0   \n",
       "62                     1.0                    14.0                     3.0   \n",
       "63                     1.0                     9.0                     2.0   \n",
       "64                     2.0                    12.0                     2.0   \n",
       "65                     1.0                    13.0                     1.0   \n",
       "66                     0.0                    13.0                     2.0   \n",
       "67                     1.0                     6.0                     5.0   \n",
       "\n",
       "    batsman_PCA  bowler_PCA  toss_win  match_win  strike_rotation  \\\n",
       "58     1.302356    0.122316       0.0        0.0             74.0   \n",
       "59    -0.644699    0.568270       1.0        1.0             70.0   \n",
       "60     0.918980    0.913552       1.0        1.0             54.0   \n",
       "61     0.173037    0.913552       0.0        0.0             68.0   \n",
       "62     3.678410    1.139798       0.0        0.0             81.0   \n",
       "63     0.669683    0.457682       1.0        1.0             68.0   \n",
       "64     0.703351    0.722089       0.0        0.0             59.0   \n",
       "65     1.560586    0.439696       1.0        1.0             58.0   \n",
       "66     0.918980   -0.452121       0.0        1.0             82.0   \n",
       "67     1.417788   -0.423624       1.0        0.0             65.0   \n",
       "\n",
       "    stddev_batsman  stddev_bowler  \n",
       "58        2.483099       0.652679  \n",
       "59        0.951067       1.134380  \n",
       "60        2.423435       1.559653  \n",
       "61        1.298584       1.559653  \n",
       "62        1.531023       0.000000  \n",
       "63        1.576264       0.510331  \n",
       "64        0.837696       0.630727  \n",
       "65        0.573043       0.888107  \n",
       "66        2.423435       1.952520  \n",
       "67        0.554489       2.182054  "
      ]
     },
     "execution_count": 252,
     "metadata": {},
     "output_type": "execute_result"
    }
   ],
   "source": [
    "df2.tail(10)"
   ]
  },
  {
   "cell_type": "code",
   "execution_count": null,
   "id": "5d640bb0",
   "metadata": {},
   "outputs": [],
   "source": []
  },
  {
   "cell_type": "code",
   "execution_count": 97,
   "id": "e189a1d9",
   "metadata": {},
   "outputs": [
    {
     "data": {
      "text/html": [
       "<div>\n",
       "<style scoped>\n",
       "    .dataframe tbody tr th:only-of-type {\n",
       "        vertical-align: middle;\n",
       "    }\n",
       "\n",
       "    .dataframe tbody tr th {\n",
       "        vertical-align: top;\n",
       "    }\n",
       "\n",
       "    .dataframe thead th {\n",
       "        text-align: right;\n",
       "    }\n",
       "</style>\n",
       "<table border=\"1\" class=\"dataframe\">\n",
       "  <thead>\n",
       "    <tr style=\"text-align: right;\">\n",
       "      <th></th>\n",
       "      <th>Team</th>\n",
       "      <th>Average Bowler Rating</th>\n",
       "      <th>matches</th>\n",
       "    </tr>\n",
       "  </thead>\n",
       "  <tbody>\n",
       "    <tr>\n",
       "      <th>0</th>\n",
       "      <td>Islamabad United</td>\n",
       "      <td>-0.260979</td>\n",
       "      <td>12</td>\n",
       "    </tr>\n",
       "    <tr>\n",
       "      <th>1</th>\n",
       "      <td>Karachi Kings</td>\n",
       "      <td>-0.569144</td>\n",
       "      <td>10</td>\n",
       "    </tr>\n",
       "    <tr>\n",
       "      <th>2</th>\n",
       "      <td>Lahore Qalandars</td>\n",
       "      <td>-0.245190</td>\n",
       "      <td>13</td>\n",
       "    </tr>\n",
       "    <tr>\n",
       "      <th>3</th>\n",
       "      <td>Multan Sultans</td>\n",
       "      <td>0.165710</td>\n",
       "      <td>12</td>\n",
       "    </tr>\n",
       "    <tr>\n",
       "      <th>4</th>\n",
       "      <td>Peshawar Zalmi</td>\n",
       "      <td>-0.120050</td>\n",
       "      <td>11</td>\n",
       "    </tr>\n",
       "    <tr>\n",
       "      <th>5</th>\n",
       "      <td>Quetta Gladiators</td>\n",
       "      <td>-0.310096</td>\n",
       "      <td>10</td>\n",
       "    </tr>\n",
       "  </tbody>\n",
       "</table>\n",
       "</div>"
      ],
      "text/plain": [
       "                Team  Average Bowler Rating  matches\n",
       "0   Islamabad United              -0.260979       12\n",
       "1      Karachi Kings              -0.569144       10\n",
       "2   Lahore Qalandars              -0.245190       13\n",
       "3     Multan Sultans               0.165710       12\n",
       "4     Peshawar Zalmi              -0.120050       11\n",
       "5  Quetta Gladiators              -0.310096       10"
      ]
     },
     "execution_count": 97,
     "metadata": {},
     "output_type": "execute_result"
    }
   ],
   "source": [
    "boundaries"
   ]
  },
  {
   "cell_type": "code",
   "execution_count": 92,
   "id": "c7361c3f",
   "metadata": {},
   "outputs": [
    {
     "data": {
      "text/plain": [
       "<AxesSubplot:title={'center':'Average Bowler Ratings 2020'}, xlabel='Teams', ylabel='Average Bowler Rating'>"
      ]
     },
     "execution_count": 92,
     "metadata": {},
     "output_type": "execute_result"
    },
    {
     "data": {
      "image/png": "[encoded data removed]",
      "text/plain": [
       "<Figure size 720x288 with 1 Axes>"
      ]
     },
     "metadata": {
      "needs_background": "light"
     },
     "output_type": "display_data"
    }
   ],
   "source": [
    "boundaries = pd.DataFrame()\n",
    "boundaries =df1.groupby(['team']).agg(\n",
    "    bowler_pca = ('bowler_PCA','mean'),\n",
    "    matches = ('match_id','count')\n",
    "    \n",
    ")\n",
    "boundaries = boundaries.reset_index() \n",
    "boundaries\n",
    "boundaries[\"team\"] = [\"Islamabad United\",\"Karachi Kings\",\"Lahore Qalandars\",\"Multan Sultans\",\"Peshawar Zalmi\",\"Quetta Gladiators\"]\n",
    "boundaries = boundaries.rename(columns={'team': 'Team', 'bowler_pca': 'Average Bowler Rating'})\n",
    "\n",
    "ax =boundaries.plot(x = 'Team', y = 'Average Bowler Rating', kind='bar', rot=0,\n",
    "                figsize=(10,4), # Figsize to make the plot larger\n",
    "            title='Average Bowler Ratings 2020', # Adding a title to the top\n",
    "            xlabel=\"Teams\", # Adding a label on the xaxis\n",
    "            ylabel=\"Average Bowler Rating\", # Adding a label on y axis\n",
    "            fontsize='medium')\n",
    "ax"
   ]
  },
  {
   "cell_type": "code",
   "execution_count": 286,
   "id": "92efdb61",
   "metadata": {},
   "outputs": [],
   "source": [
    "fig = ax.get_figure()\n",
    "fig.savefig('bowler_pca_2020.jpg',dpi=200,bbox_inches='tight')"
   ]
  },
  {
   "cell_type": "code",
   "execution_count": 94,
   "id": "7358bfb8",
   "metadata": {},
   "outputs": [
    {
     "data": {
      "text/plain": [
       "<AxesSubplot:title={'center':'Average Bowler Ratings 2021'}, xlabel='Teams', ylabel='Average Bowler Rating'>"
      ]
     },
     "execution_count": 94,
     "metadata": {},
     "output_type": "execute_result"
    },
    {
     "data": {
      "image/png": "[encoded data removed]",
      "text/plain": [
       "<Figure size 720x288 with 1 Axes>"
      ]
     },
     "metadata": {
      "needs_background": "light"
     },
     "output_type": "display_data"
    }
   ],
   "source": [
    "boundaries = pd.DataFrame()\n",
    "boundaries =df2.groupby(['team']).agg(\n",
    "    bowler_pca = ('bowler_PCA','mean'),\n",
    "    matches = ('match_id','count')\n",
    "    \n",
    ")\n",
    "boundaries = boundaries.reset_index() \n",
    "boundaries\n",
    "boundaries[\"team\"] = [\"Islamabad United\",\"Karachi Kings\",\"Lahore Qalandars\",\"Multan Sultans\",\"Peshawar Zalmi\",\"Quetta Gladiators\"]\n",
    "boundaries = boundaries.rename(columns={'team': 'Team', 'bowler_pca': 'Average Bowler Rating'})\n",
    "\n",
    "ax =boundaries.plot(x = 'Team', y = 'Average Bowler Rating', kind='bar', rot=0,\n",
    "                figsize=(10,4), # Figsize to make the plot larger\n",
    "            title='Average Bowler Ratings 2021', # Adding a title to the top\n",
    "            xlabel=\"Teams\", # Adding a label on the xaxis\n",
    "            ylabel=\"Average Bowler Rating\", # Adding a label on y axis\n",
    "            fontsize='medium')\n",
    "ax"
   ]
  },
  {
   "cell_type": "code",
   "execution_count": 20,
   "id": "45cb9407",
   "metadata": {},
   "outputs": [],
   "source": [
    "fig = ax.get_figure()\n",
    "fig.savefig('bowler_pca_2021.jpg',dpi=200,bbox_inches='tight')"
   ]
  },
  {
   "cell_type": "code",
   "execution_count": 96,
   "id": "b1d8da64",
   "metadata": {},
   "outputs": [
    {
     "data": {
      "text/plain": [
       "<AxesSubplot:title={'center':'Average Bowler Ratings 2022'}, xlabel='Teams', ylabel='Average Bowler Rating'>"
      ]
     },
     "execution_count": 96,
     "metadata": {},
     "output_type": "execute_result"
    },
    {
     "data": {
      "image/png": "[encoded data removed]",
      "text/plain": [
       "<Figure size 720x288 with 1 Axes>"
      ]
     },
     "metadata": {
      "needs_background": "light"
     },
     "output_type": "display_data"
    }
   ],
   "source": [
    "boundaries = pd.DataFrame()\n",
    "boundaries =df3.groupby(['team']).agg(\n",
    "    bowler_pca = ('bowler_PCA','mean'),\n",
    "    matches = ('match_id','count')\n",
    "    \n",
    ")\n",
    "boundaries = boundaries.reset_index() \n",
    "boundaries\n",
    "boundaries[\"team\"] = [\"Islamabad United\",\"Karachi Kings\",\"Lahore Qalandars\",\"Multan Sultans\",\"Peshawar Zalmi\",\"Quetta Gladiators\"]\n",
    "boundaries = boundaries.rename(columns={'team': 'Team', 'bowler_pca': 'Average Bowler Rating'})\n",
    "\n",
    "ax =boundaries.plot(x = 'Team', y = 'Average Bowler Rating', kind='bar', rot=0,\n",
    "                figsize=(10,4), # Figsize to make the plot larger\n",
    "            title='Average Bowler Ratings 2022', # Adding a title to the top\n",
    "            xlabel=\"Teams\", # Adding a label on the xaxis\n",
    "            ylabel=\"Average Bowler Rating\", # Adding a label on y axis\n",
    "            fontsize='medium')\n",
    "ax"
   ]
  },
  {
   "cell_type": "code",
   "execution_count": 280,
   "id": "202712b1",
   "metadata": {},
   "outputs": [],
   "source": [
    "fig = ax.get_figure()\n",
    "fig.savefig('bowler_pca_2022.jpg',dpi=200,bbox_inches='tight')"
   ]
  },
  {
   "cell_type": "code",
   "execution_count": 22,
   "id": "f1947cdb",
   "metadata": {},
   "outputs": [
    {
     "data": {
      "text/html": [
       "<div>\n",
       "<style scoped>\n",
       "    .dataframe tbody tr th:only-of-type {\n",
       "        vertical-align: middle;\n",
       "    }\n",
       "\n",
       "    .dataframe tbody tr th {\n",
       "        vertical-align: top;\n",
       "    }\n",
       "\n",
       "    .dataframe thead th {\n",
       "        text-align: right;\n",
       "    }\n",
       "</style>\n",
       "<table border=\"1\" class=\"dataframe\">\n",
       "  <thead>\n",
       "    <tr style=\"text-align: right;\">\n",
       "      <th></th>\n",
       "      <th>Team</th>\n",
       "      <th>Average Batter Rating</th>\n",
       "      <th>matches</th>\n",
       "    </tr>\n",
       "  </thead>\n",
       "  <tbody>\n",
       "    <tr>\n",
       "      <th>0</th>\n",
       "      <td>Islamabad United</td>\n",
       "      <td>-0.315504</td>\n",
       "      <td>12</td>\n",
       "    </tr>\n",
       "    <tr>\n",
       "      <th>1</th>\n",
       "      <td>Karachi Kings</td>\n",
       "      <td>-0.597565</td>\n",
       "      <td>10</td>\n",
       "    </tr>\n",
       "    <tr>\n",
       "      <th>2</th>\n",
       "      <td>Lahore Qalandars</td>\n",
       "      <td>1.295076</td>\n",
       "      <td>13</td>\n",
       "    </tr>\n",
       "    <tr>\n",
       "      <th>3</th>\n",
       "      <td>Multan Sultans</td>\n",
       "      <td>1.668563</td>\n",
       "      <td>12</td>\n",
       "    </tr>\n",
       "    <tr>\n",
       "      <th>4</th>\n",
       "      <td>Peshawar Zalmi</td>\n",
       "      <td>-0.381574</td>\n",
       "      <td>11</td>\n",
       "    </tr>\n",
       "    <tr>\n",
       "      <th>5</th>\n",
       "      <td>Quetta Gladiators</td>\n",
       "      <td>-0.576489</td>\n",
       "      <td>10</td>\n",
       "    </tr>\n",
       "  </tbody>\n",
       "</table>\n",
       "</div>"
      ],
      "text/plain": [
       "                Team  Average Batter Rating  matches\n",
       "0   Islamabad United              -0.315504       12\n",
       "1      Karachi Kings              -0.597565       10\n",
       "2   Lahore Qalandars               1.295076       13\n",
       "3     Multan Sultans               1.668563       12\n",
       "4     Peshawar Zalmi              -0.381574       11\n",
       "5  Quetta Gladiators              -0.576489       10"
      ]
     },
     "execution_count": 22,
     "metadata": {},
     "output_type": "execute_result"
    }
   ],
   "source": [
    "boundaries"
   ]
  },
  {
   "cell_type": "code",
   "execution_count": 15,
   "id": "8c08dc5a",
   "metadata": {},
   "outputs": [
    {
     "data": {
      "text/plain": [
       "<AxesSubplot:title={'center':'Average Batter Ratings 2020'}, xlabel='Teams', ylabel='Average Batter Rating'>"
      ]
     },
     "execution_count": 15,
     "metadata": {},
     "output_type": "execute_result"
    },
    {
     "data": {
      "image/png": "[encoded data removed]",
      "text/plain": [
       "<Figure size 720x288 with 1 Axes>"
      ]
     },
     "metadata": {
      "needs_background": "light"
     },
     "output_type": "display_data"
    }
   ],
   "source": [
    "boundaries = pd.DataFrame()\n",
    "boundaries =df1.groupby(['team']).agg(\n",
    "    batsman_pca = ('batsman_PCA','mean'),\n",
    "    matches = ('match_id','count')\n",
    "    \n",
    ")\n",
    "boundaries = boundaries.reset_index() \n",
    "boundaries\n",
    "boundaries[\"team\"] = [\"Islamabad United\",\"Karachi Kings\",\"Lahore Qalandars\",\"Multan Sultans\",\"Peshawar Zalmi\",\"Quetta Gladiators\"]\n",
    "boundaries = boundaries.rename(columns={'team': 'Team', 'batsman_pca': 'Average Batter Rating'})\n",
    "\n",
    "ax =boundaries.plot(x = 'Team', y = 'Average Batter Rating', kind='bar', rot=0,\n",
    "                figsize=(10,4), # Figsize to make the plot larger\n",
    "            title='Average Batter Ratings 2020', # Adding a title to the top\n",
    "            xlabel=\"Teams\", # Adding a label on the xaxis\n",
    "            ylabel=\"Average Batter Rating\", # Adding a label on y axis\n",
    "            fontsize='medium')\n",
    "ax"
   ]
  },
  {
   "cell_type": "code",
   "execution_count": 282,
   "id": "20a316d1",
   "metadata": {},
   "outputs": [],
   "source": [
    "fig = ax.get_figure()\n",
    "fig.savefig('batsman_pca_2020.jpg',dpi=200,bbox_inches='tight')"
   ]
  },
  {
   "cell_type": "code",
   "execution_count": 17,
   "id": "9b07147c",
   "metadata": {},
   "outputs": [
    {
     "data": {
      "text/plain": [
       "<AxesSubplot:title={'center':'Average Batter Ratings 2021'}, xlabel='Teams', ylabel='Average Batter Rating'>"
      ]
     },
     "execution_count": 17,
     "metadata": {},
     "output_type": "execute_result"
    },
    {
     "data": {
      "image/png": "[encoded data removed]",
      "text/plain": [
       "<Figure size 720x288 with 1 Axes>"
      ]
     },
     "metadata": {
      "needs_background": "light"
     },
     "output_type": "display_data"
    }
   ],
   "source": [
    "boundaries = pd.DataFrame()\n",
    "boundaries =df2.groupby(['team']).agg(\n",
    "    batsman_pca = ('batsman_PCA','mean'),\n",
    "    matches = ('match_id','count')\n",
    "    \n",
    ")\n",
    "boundaries = boundaries.reset_index() \n",
    "boundaries\n",
    "boundaries[\"team\"] = [\"Islamabad United\",\"Karachi Kings\",\"Lahore Qalandars\",\"Multan Sultans\",\"Peshawar Zalmi\",\"Quetta Gladiators\"]\n",
    "boundaries = boundaries.rename(columns={'team': 'Team', 'batsman_pca': 'Average Batter Rating'})\n",
    "\n",
    "ax =boundaries.plot(x = 'Team', y = 'Average Batter Rating', kind='bar', rot=0,\n",
    "                figsize=(10,4), # Figsize to make the plot larger\n",
    "            title='Average Batter Ratings 2021', # Adding a title to the top\n",
    "            xlabel=\"Teams\", # Adding a label on the xaxis\n",
    "            ylabel=\"Average Batter Rating\", # Adding a label on y axis\n",
    "            fontsize='medium')\n",
    "ax"
   ]
  },
  {
   "cell_type": "code",
   "execution_count": 284,
   "id": "7c0e5fab",
   "metadata": {},
   "outputs": [],
   "source": [
    "fig = ax.get_figure()\n",
    "fig.savefig('batsman_pca_2021.jpg',dpi=200,bbox_inches='tight')"
   ]
  },
  {
   "cell_type": "code",
   "execution_count": 19,
   "id": "b87c3ee9",
   "metadata": {},
   "outputs": [
    {
     "data": {
      "text/plain": [
       "<AxesSubplot:title={'center':'Average Batter Ratings 2022'}, xlabel='Teams', ylabel='Average Batter Rating'>"
      ]
     },
     "execution_count": 19,
     "metadata": {},
     "output_type": "execute_result"
    },
    {
     "data": {
      "image/png": "[encoded data removed]",
      "text/plain": [
       "<Figure size 720x288 with 1 Axes>"
      ]
     },
     "metadata": {
      "needs_background": "light"
     },
     "output_type": "display_data"
    }
   ],
   "source": [
    "boundaries = pd.DataFrame()\n",
    "boundaries =df3.groupby(['team']).agg(\n",
    "    batsman_pca = ('batsman_PCA','mean'),\n",
    "    matches = ('match_id','count')\n",
    "    \n",
    ")\n",
    "boundaries = boundaries.reset_index() \n",
    "boundaries\n",
    "boundaries[\"team\"] = [\"Islamabad United\",\"Karachi Kings\",\"Lahore Qalandars\",\"Multan Sultans\",\"Peshawar Zalmi\",\"Quetta Gladiators\"]\n",
    "boundaries = boundaries.rename(columns={'team': 'Team', 'batsman_pca': 'Average Batter Rating'})\n",
    "\n",
    "ax =boundaries.plot(x = 'Team', y = 'Average Batter Rating', kind='bar', rot=0,\n",
    "                figsize=(10,4), # Figsize to make the plot larger\n",
    "            title='Average Batter Ratings 2022', # Adding a title to the top\n",
    "            xlabel=\"Teams\", # Adding a label on the xaxis\n",
    "            ylabel=\"Average Batter Rating\", # Adding a label on y axis\n",
    "            fontsize='medium')\n",
    "ax"
   ]
  },
  {
   "cell_type": "code",
   "execution_count": 83,
   "id": "1fcd8fad",
   "metadata": {},
   "outputs": [],
   "source": [
    "fig = ax.get_figure()\n",
    "fig.savefig('batsman_pca_2022.jpg',dpi=200,bbox_inches='tight')"
   ]
  },
  {
   "cell_type": "code",
   "execution_count": 28,
   "id": "8339f47d",
   "metadata": {},
   "outputs": [
    {
     "data": {
      "text/html": [
       "<div>\n",
       "<style scoped>\n",
       "    .dataframe tbody tr th:only-of-type {\n",
       "        vertical-align: middle;\n",
       "    }\n",
       "\n",
       "    .dataframe tbody tr th {\n",
       "        vertical-align: top;\n",
       "    }\n",
       "\n",
       "    .dataframe thead th {\n",
       "        text-align: right;\n",
       "    }\n",
       "</style>\n",
       "<table border=\"1\" class=\"dataframe\">\n",
       "  <thead>\n",
       "    <tr style=\"text-align: right;\">\n",
       "      <th></th>\n",
       "      <th>Team</th>\n",
       "      <th>Toss Win Percentage</th>\n",
       "      <th>matches</th>\n",
       "    </tr>\n",
       "  </thead>\n",
       "  <tbody>\n",
       "    <tr>\n",
       "      <th>0</th>\n",
       "      <td>Islamabad United</td>\n",
       "      <td>41.666667</td>\n",
       "      <td>12</td>\n",
       "    </tr>\n",
       "    <tr>\n",
       "      <th>1</th>\n",
       "      <td>Karachi Kings</td>\n",
       "      <td>50.000000</td>\n",
       "      <td>10</td>\n",
       "    </tr>\n",
       "    <tr>\n",
       "      <th>2</th>\n",
       "      <td>Lahore Qalandars</td>\n",
       "      <td>46.153846</td>\n",
       "      <td>13</td>\n",
       "    </tr>\n",
       "    <tr>\n",
       "      <th>3</th>\n",
       "      <td>Multan Sultans</td>\n",
       "      <td>33.333333</td>\n",
       "      <td>12</td>\n",
       "    </tr>\n",
       "    <tr>\n",
       "      <th>4</th>\n",
       "      <td>Peshawar Zalmi</td>\n",
       "      <td>72.727273</td>\n",
       "      <td>11</td>\n",
       "    </tr>\n",
       "    <tr>\n",
       "      <th>5</th>\n",
       "      <td>Quetta Gladiators</td>\n",
       "      <td>60.000000</td>\n",
       "      <td>10</td>\n",
       "    </tr>\n",
       "  </tbody>\n",
       "</table>\n",
       "</div>"
      ],
      "text/plain": [
       "                Team  Toss Win Percentage  matches\n",
       "0   Islamabad United            41.666667       12\n",
       "1      Karachi Kings            50.000000       10\n",
       "2   Lahore Qalandars            46.153846       13\n",
       "3     Multan Sultans            33.333333       12\n",
       "4     Peshawar Zalmi            72.727273       11\n",
       "5  Quetta Gladiators            60.000000       10"
      ]
     },
     "execution_count": 28,
     "metadata": {},
     "output_type": "execute_result"
    }
   ],
   "source": [
    "boundaries"
   ]
  },
  {
   "cell_type": "code",
   "execution_count": 27,
   "id": "bad4759e",
   "metadata": {},
   "outputs": [
    {
     "data": {
      "text/plain": [
       "<AxesSubplot:title={'center':'Toss Win Percentage 2022'}, xlabel='Teams', ylabel='Toss Win Percentage'>"
      ]
     },
     "execution_count": 27,
     "metadata": {},
     "output_type": "execute_result"
    },
    {
     "data": {
      "image/png": "[encoded data removed]",
      "text/plain": [
       "<Figure size 720x288 with 1 Axes>"
      ]
     },
     "metadata": {
      "needs_background": "light"
     },
     "output_type": "display_data"
    }
   ],
   "source": [
    "boundaries = pd.DataFrame()\n",
    "boundaries =df3.groupby(['team']).agg(\n",
    "    toss_win = ('toss_win','mean'),\n",
    "    matches = ('match_id','count')\n",
    "    \n",
    ")\n",
    "boundaries[\"toss_win\"] = boundaries[\"toss_win\"]*100\n",
    "boundaries = boundaries.reset_index() \n",
    "boundaries\n",
    "boundaries[\"team\"] = [\"Islamabad United\",\"Karachi Kings\",\"Lahore Qalandars\",\"Multan Sultans\",\"Peshawar Zalmi\",\"Quetta Gladiators\"]\n",
    "boundaries = boundaries.rename(columns={'team': 'Team', 'toss_win': 'Toss Win Percentage'})\n",
    "\n",
    "ax =boundaries.plot(x = 'Team', y = 'Toss Win Percentage', kind='bar', rot=0,\n",
    "                figsize=(10,4), # Figsize to make the plot larger\n",
    "            title='Toss Win Percentage 2022', # Adding a title to the top\n",
    "            xlabel=\"Teams\", # Adding a label on the xaxis\n",
    "            ylabel=\"Toss Win Percentage\", # Adding a label on y axis\n",
    "            fontsize='medium')\n",
    "ax"
   ]
  },
  {
   "cell_type": "code",
   "execution_count": 87,
   "id": "4a0c6ceb",
   "metadata": {},
   "outputs": [],
   "source": [
    "fig = ax.get_figure()\n",
    "fig.savefig('toss_win_2022.jpg',dpi=200,bbox_inches='tight')"
   ]
  },
  {
   "cell_type": "code",
   "execution_count": 89,
   "id": "34bcdd66",
   "metadata": {},
   "outputs": [
    {
     "data": {
      "text/plain": [
       "<AxesSubplot:title={'center':'Toss Win Percentage 2021'}, xlabel='Teams', ylabel='Toss Win Percentage'>"
      ]
     },
     "execution_count": 89,
     "metadata": {},
     "output_type": "execute_result"
    },
    {
     "data": {
      "image/png": "[encoded data removed]",
      "text/plain": [
       "<Figure size 720x288 with 1 Axes>"
      ]
     },
     "metadata": {},
     "output_type": "display_data"
    }
   ],
   "source": [
    "boundaries = pd.DataFrame()\n",
    "boundaries =df2.groupby(['team']).agg(\n",
    "    toss_win = ('toss_win','mean'),\n",
    "    matches = ('match_id','count')\n",
    "    \n",
    ")\n",
    "boundaries[\"toss_win\"] = boundaries[\"toss_win\"]*100\n",
    "boundaries = boundaries.reset_index() \n",
    "boundaries\n",
    "boundaries[\"team\"] = [\"Islamabad United\",\"Karachi Kings\",\"Lahore Qalandars\",\"Multan Sultans\",\"Peshawar Zalmi\",\"Quetta Gladiators\"]\n",
    "boundaries = boundaries.rename(columns={'team': 'Team', 'toss_win': 'Toss Win Percentage'})\n",
    "\n",
    "ax =boundaries.plot(x = 'Team', y = 'Toss Win Percentage', kind='bar', rot=0,\n",
    "                figsize=(10,4), # Figsize to make the plot larger\n",
    "            title='Toss Win Percentage 2021', # Adding a title to the top\n",
    "            xlabel=\"Teams\", # Adding a label on the xaxis\n",
    "            ylabel=\"Toss Win Percentage\", # Adding a label on y axis\n",
    "            fontsize='medium')\n",
    "ax"
   ]
  },
  {
   "cell_type": "code",
   "execution_count": 90,
   "id": "c6356bc9",
   "metadata": {},
   "outputs": [],
   "source": [
    "fig = ax.get_figure()\n",
    "fig.savefig('toss_win_2021.jpg',dpi=200,bbox_inches='tight')"
   ]
  },
  {
   "cell_type": "code",
   "execution_count": 91,
   "id": "342835da",
   "metadata": {},
   "outputs": [
    {
     "data": {
      "text/plain": [
       "<AxesSubplot:title={'center':'Toss Win Percentage 2020'}, xlabel='Teams', ylabel='Toss Win Percentage'>"
      ]
     },
     "execution_count": 91,
     "metadata": {},
     "output_type": "execute_result"
    },
    {
     "data": {
      "image/png": "[encoded data removed]",
      "text/plain": [
       "<Figure size 720x288 with 1 Axes>"
      ]
     },
     "metadata": {},
     "output_type": "display_data"
    }
   ],
   "source": [
    "boundaries = pd.DataFrame()\n",
    "boundaries =df1.groupby(['team']).agg(\n",
    "    toss_win = ('toss_win','mean'),\n",
    "    matches = ('match_id','count')\n",
    "    \n",
    ")\n",
    "boundaries[\"toss_win\"] = boundaries[\"toss_win\"]*100\n",
    "boundaries = boundaries.reset_index() \n",
    "boundaries\n",
    "boundaries[\"team\"] = [\"Islamabad United\",\"Karachi Kings\",\"Lahore Qalandars\",\"Multan Sultans\",\"Peshawar Zalmi\",\"Quetta Gladiators\"]\n",
    "boundaries = boundaries.rename(columns={'team': 'Team', 'toss_win': 'Toss Win Percentage'})\n",
    "\n",
    "ax =boundaries.plot(x = 'Team', y = 'Toss Win Percentage', kind='bar', rot=0,\n",
    "                figsize=(10,4), # Figsize to make the plot larger\n",
    "            title='Toss Win Percentage 2020', # Adding a title to the top\n",
    "            xlabel=\"Teams\", # Adding a label on the xaxis\n",
    "            ylabel=\"Toss Win Percentage\", # Adding a label on y axis\n",
    "            fontsize='medium')\n",
    "ax"
   ]
  },
  {
   "cell_type": "code",
   "execution_count": 92,
   "id": "95d99057",
   "metadata": {},
   "outputs": [],
   "source": [
    "fig = ax.get_figure()\n",
    "fig.savefig('toss_win_2020.jpg',dpi=200,bbox_inches='tight')"
   ]
  },
  {
   "cell_type": "code",
   "execution_count": 34,
   "id": "1acad1ea",
   "metadata": {},
   "outputs": [
    {
     "data": {
      "text/html": [
       "<div>\n",
       "<style scoped>\n",
       "    .dataframe tbody tr th:only-of-type {\n",
       "        vertical-align: middle;\n",
       "    }\n",
       "\n",
       "    .dataframe tbody tr th {\n",
       "        vertical-align: top;\n",
       "    }\n",
       "\n",
       "    .dataframe thead th {\n",
       "        text-align: right;\n",
       "    }\n",
       "</style>\n",
       "<table border=\"1\" class=\"dataframe\">\n",
       "  <thead>\n",
       "    <tr style=\"text-align: right;\">\n",
       "      <th></th>\n",
       "      <th>Team</th>\n",
       "      <th>Average Run Rate (Overs 1-6)</th>\n",
       "      <th>matches</th>\n",
       "    </tr>\n",
       "  </thead>\n",
       "  <tbody>\n",
       "    <tr>\n",
       "      <th>0</th>\n",
       "      <td>Islamabad United</td>\n",
       "      <td>9.500000</td>\n",
       "      <td>12</td>\n",
       "    </tr>\n",
       "    <tr>\n",
       "      <th>1</th>\n",
       "      <td>Karachi Kings</td>\n",
       "      <td>6.700000</td>\n",
       "      <td>10</td>\n",
       "    </tr>\n",
       "    <tr>\n",
       "      <th>2</th>\n",
       "      <td>Lahore Qalandars</td>\n",
       "      <td>8.076923</td>\n",
       "      <td>13</td>\n",
       "    </tr>\n",
       "    <tr>\n",
       "      <th>3</th>\n",
       "      <td>Multan Sultans</td>\n",
       "      <td>7.750000</td>\n",
       "      <td>12</td>\n",
       "    </tr>\n",
       "    <tr>\n",
       "      <th>4</th>\n",
       "      <td>Peshawar Zalmi</td>\n",
       "      <td>8.545455</td>\n",
       "      <td>11</td>\n",
       "    </tr>\n",
       "    <tr>\n",
       "      <th>5</th>\n",
       "      <td>Quetta Gladiators</td>\n",
       "      <td>9.200000</td>\n",
       "      <td>10</td>\n",
       "    </tr>\n",
       "  </tbody>\n",
       "</table>\n",
       "</div>"
      ],
      "text/plain": [
       "                Team  Average Run Rate (Overs 1-6)  matches\n",
       "0   Islamabad United                      9.500000       12\n",
       "1      Karachi Kings                      6.700000       10\n",
       "2   Lahore Qalandars                      8.076923       13\n",
       "3     Multan Sultans                      7.750000       12\n",
       "4     Peshawar Zalmi                      8.545455       11\n",
       "5  Quetta Gladiators                      9.200000       10"
      ]
     },
     "execution_count": 34,
     "metadata": {},
     "output_type": "execute_result"
    }
   ],
   "source": [
    "boundaries"
   ]
  },
  {
   "cell_type": "code",
   "execution_count": 29,
   "id": "2465575c",
   "metadata": {},
   "outputs": [
    {
     "data": {
      "text/plain": [
       "<AxesSubplot:title={'center':'Average Run Rate (Overs 1-6) 2020'}, xlabel='Teams', ylabel='Average Run Rate (Overs 1-6)'>"
      ]
     },
     "execution_count": 29,
     "metadata": {},
     "output_type": "execute_result"
    },
    {
     "data": {
      "image/png": "[encoded data removed]",
      "text/plain": [
       "<Figure size 720x288 with 1 Axes>"
      ]
     },
     "metadata": {
      "needs_background": "light"
     },
     "output_type": "display_data"
    }
   ],
   "source": [
    "boundaries = pd.DataFrame()\n",
    "boundaries =df1.groupby(['team']).agg(\n",
    "    runrate_first_six_over = ('runrate_first_six_over','mean'),\n",
    "    matches = ('match_id','count')\n",
    "    \n",
    ")\n",
    "boundaries = boundaries.reset_index() \n",
    "boundaries\n",
    "boundaries[\"team\"] = [\"Islamabad United\",\"Karachi Kings\",\"Lahore Qalandars\",\"Multan Sultans\",\"Peshawar Zalmi\",\"Quetta Gladiators\"]\n",
    "boundaries = boundaries.rename(columns={'team': 'Team', 'runrate_first_six_over': 'Average Run Rate (Overs 1-6)'})\n",
    "\n",
    "ax =boundaries.plot(x = 'Team', y = 'Average Run Rate (Overs 1-6)', kind='bar', rot=0,\n",
    "                figsize=(10,4), # Figsize to make the plot larger\n",
    "            title='Average Run Rate (Overs 1-6) 2020', # Adding a title to the top\n",
    "            xlabel=\"Teams\", # Adding a label on the xaxis\n",
    "            ylabel=\"Average Run Rate (Overs 1-6)\", # Adding a label on y axis\n",
    "            fontsize='medium')\n",
    "ax"
   ]
  },
  {
   "cell_type": "code",
   "execution_count": 97,
   "id": "a513a94e",
   "metadata": {},
   "outputs": [],
   "source": [
    "fig = ax.get_figure()\n",
    "fig.savefig('avg_runrate_2020.jpg',dpi=200,bbox_inches='tight')"
   ]
  },
  {
   "cell_type": "code",
   "execution_count": 31,
   "id": "1fd07294",
   "metadata": {},
   "outputs": [
    {
     "data": {
      "text/plain": [
       "<AxesSubplot:title={'center':'Average Run Rate (Overs 1-6) 2021'}, xlabel='Teams', ylabel='Average Run Rate (Overs 1-6)'>"
      ]
     },
     "execution_count": 31,
     "metadata": {},
     "output_type": "execute_result"
    },
    {
     "data": {
      "image/png": "[encoded data removed]",
      "text/plain": [
       "<Figure size 720x288 with 1 Axes>"
      ]
     },
     "metadata": {
      "needs_background": "light"
     },
     "output_type": "display_data"
    }
   ],
   "source": [
    "boundaries = pd.DataFrame()\n",
    "boundaries =df2.groupby(['team']).agg(\n",
    "    runrate_first_six_over = ('runrate_first_six_over','mean'),\n",
    "    matches = ('match_id','count')\n",
    "    \n",
    ")\n",
    "boundaries = boundaries.reset_index() \n",
    "boundaries\n",
    "boundaries[\"team\"] = [\"Islamabad United\",\"Karachi Kings\",\"Lahore Qalandars\",\"Multan Sultans\",\"Peshawar Zalmi\",\"Quetta Gladiators\"]\n",
    "boundaries = boundaries.rename(columns={'team': 'Team', 'runrate_first_six_over': 'Average Run Rate (Overs 1-6)'})\n",
    "\n",
    "ax =boundaries.plot(x = 'Team', y = 'Average Run Rate (Overs 1-6)', kind='bar', rot=0,\n",
    "                figsize=(10,4), # Figsize to make the plot larger\n",
    "            title='Average Run Rate (Overs 1-6) 2021', # Adding a title to the top\n",
    "            xlabel=\"Teams\", # Adding a label on the xaxis\n",
    "            ylabel=\"Average Run Rate (Overs 1-6)\", # Adding a label on y axis\n",
    "            fontsize='medium')\n",
    "ax"
   ]
  },
  {
   "cell_type": "code",
   "execution_count": 99,
   "id": "a08f5c54",
   "metadata": {},
   "outputs": [],
   "source": [
    "fig = ax.get_figure()\n",
    "fig.savefig('avg_runrate_2021.jpg',dpi=200,bbox_inches='tight')"
   ]
  },
  {
   "cell_type": "code",
   "execution_count": 33,
   "id": "87cdedb8",
   "metadata": {},
   "outputs": [
    {
     "data": {
      "text/plain": [
       "<AxesSubplot:title={'center':'Average Run Rate (Overs 1-6) 2022'}, xlabel='Teams', ylabel='Average Run Rate (Overs 1-6)'>"
      ]
     },
     "execution_count": 33,
     "metadata": {},
     "output_type": "execute_result"
    },
    {
     "data": {
      "image/png": "[encoded data removed]",
      "text/plain": [
       "<Figure size 720x288 with 1 Axes>"
      ]
     },
     "metadata": {
      "needs_background": "light"
     },
     "output_type": "display_data"
    }
   ],
   "source": [
    "boundaries = pd.DataFrame()\n",
    "boundaries =df3.groupby(['team']).agg(\n",
    "    runrate_first_six_over = ('runrate_first_six_over','mean'),\n",
    "    matches = ('match_id','count')\n",
    "    \n",
    ")\n",
    "boundaries = boundaries.reset_index() \n",
    "boundaries\n",
    "boundaries[\"team\"] = [\"Islamabad United\",\"Karachi Kings\",\"Lahore Qalandars\",\"Multan Sultans\",\"Peshawar Zalmi\",\"Quetta Gladiators\"]\n",
    "boundaries = boundaries.rename(columns={'team': 'Team', 'runrate_first_six_over': 'Average Run Rate (Overs 1-6)'})\n",
    "\n",
    "ax =boundaries.plot(x = 'Team', y = 'Average Run Rate (Overs 1-6)', kind='bar', rot=0,\n",
    "                figsize=(10,4), # Figsize to make the plot larger\n",
    "            title='Average Run Rate (Overs 1-6) 2022', # Adding a title to the top\n",
    "            xlabel=\"Teams\", # Adding a label on the xaxis\n",
    "            ylabel=\"Average Run Rate (Overs 1-6)\", # Adding a label on y axis\n",
    "            fontsize='medium')\n",
    "ax"
   ]
  },
  {
   "cell_type": "code",
   "execution_count": 101,
   "id": "bb012a48",
   "metadata": {},
   "outputs": [],
   "source": [
    "fig = ax.get_figure()\n",
    "fig.savefig('avg_runrate_2022.jpg',dpi=200,bbox_inches='tight')"
   ]
  },
  {
   "cell_type": "code",
   "execution_count": 40,
   "id": "23ae7b0f",
   "metadata": {},
   "outputs": [
    {
     "data": {
      "text/html": [
       "<div>\n",
       "<style scoped>\n",
       "    .dataframe tbody tr th:only-of-type {\n",
       "        vertical-align: middle;\n",
       "    }\n",
       "\n",
       "    .dataframe tbody tr th {\n",
       "        vertical-align: top;\n",
       "    }\n",
       "\n",
       "    .dataframe thead th {\n",
       "        text-align: right;\n",
       "    }\n",
       "</style>\n",
       "<table border=\"1\" class=\"dataframe\">\n",
       "  <thead>\n",
       "    <tr style=\"text-align: right;\">\n",
       "      <th></th>\n",
       "      <th>Team</th>\n",
       "      <th>Average Wickets Lost (Overs 1-6)</th>\n",
       "      <th>matches</th>\n",
       "    </tr>\n",
       "  </thead>\n",
       "  <tbody>\n",
       "    <tr>\n",
       "      <th>0</th>\n",
       "      <td>Islamabad United</td>\n",
       "      <td>1.583333</td>\n",
       "      <td>12</td>\n",
       "    </tr>\n",
       "    <tr>\n",
       "      <th>1</th>\n",
       "      <td>Karachi Kings</td>\n",
       "      <td>1.400000</td>\n",
       "      <td>10</td>\n",
       "    </tr>\n",
       "    <tr>\n",
       "      <th>2</th>\n",
       "      <td>Lahore Qalandars</td>\n",
       "      <td>1.384615</td>\n",
       "      <td>13</td>\n",
       "    </tr>\n",
       "    <tr>\n",
       "      <th>3</th>\n",
       "      <td>Multan Sultans</td>\n",
       "      <td>0.833333</td>\n",
       "      <td>12</td>\n",
       "    </tr>\n",
       "    <tr>\n",
       "      <th>4</th>\n",
       "      <td>Peshawar Zalmi</td>\n",
       "      <td>1.636364</td>\n",
       "      <td>11</td>\n",
       "    </tr>\n",
       "    <tr>\n",
       "      <th>5</th>\n",
       "      <td>Quetta Gladiators</td>\n",
       "      <td>1.400000</td>\n",
       "      <td>10</td>\n",
       "    </tr>\n",
       "  </tbody>\n",
       "</table>\n",
       "</div>"
      ],
      "text/plain": [
       "                Team  Average Wickets Lost (Overs 1-6)  matches\n",
       "0   Islamabad United                          1.583333       12\n",
       "1      Karachi Kings                          1.400000       10\n",
       "2   Lahore Qalandars                          1.384615       13\n",
       "3     Multan Sultans                          0.833333       12\n",
       "4     Peshawar Zalmi                          1.636364       11\n",
       "5  Quetta Gladiators                          1.400000       10"
      ]
     },
     "execution_count": 40,
     "metadata": {},
     "output_type": "execute_result"
    }
   ],
   "source": [
    "boundaries"
   ]
  },
  {
   "cell_type": "code",
   "execution_count": 39,
   "id": "bc3573f3",
   "metadata": {},
   "outputs": [
    {
     "data": {
      "text/plain": [
       "<AxesSubplot:title={'center':'Average Wickets Lost (Overs 1-6) 2020'}, xlabel='Teams', ylabel='Average Wickets Lost (Overs 1-6)'>"
      ]
     },
     "execution_count": 39,
     "metadata": {},
     "output_type": "execute_result"
    },
    {
     "data": {
      "image/png": "[encoded data removed]",
      "text/plain": [
       "<Figure size 720x288 with 1 Axes>"
      ]
     },
     "metadata": {
      "needs_background": "light"
     },
     "output_type": "display_data"
    }
   ],
   "source": [
    "boundaries = pd.DataFrame()\n",
    "boundaries =df3.groupby(['team']).agg(\n",
    "    wickets_lost_first_six = ('wickets_lost_first_six','mean'),\n",
    "    matches = ('match_id','count')\n",
    "    \n",
    ")\n",
    "boundaries = boundaries.reset_index() \n",
    "boundaries\n",
    "boundaries[\"team\"] = [\"Islamabad United\",\"Karachi Kings\",\"Lahore Qalandars\",\"Multan Sultans\",\"Peshawar Zalmi\",\"Quetta Gladiators\"]\n",
    "boundaries = boundaries.rename(columns={'team': 'Team', 'wickets_lost_first_six': 'Average Wickets Lost (Overs 1-6)'})\n",
    "\n",
    "ax =boundaries.plot(x = 'Team', y = 'Average Wickets Lost (Overs 1-6)', kind='bar', rot=0,\n",
    "                figsize=(10,4), # Figsize to make the plot larger\n",
    "            title='Average Wickets Lost (Overs 1-6) 2020', # Adding a title to the top\n",
    "            xlabel=\"Teams\", # Adding a label on the xaxis\n",
    "            ylabel=\"Average Wickets Lost (Overs 1-6)\", # Adding a label on y axis\n",
    "            fontsize='medium')\n",
    "ax"
   ]
  },
  {
   "cell_type": "code",
   "execution_count": 105,
   "id": "0649ff2c",
   "metadata": {},
   "outputs": [],
   "source": [
    "fig = ax.get_figure()\n",
    "fig.savefig('avg_wickets_firstsix_2020.jpg',dpi=200,bbox_inches='tight')"
   ]
  },
  {
   "cell_type": "code",
   "execution_count": 111,
   "id": "e90a0cc7",
   "metadata": {},
   "outputs": [
    {
     "data": {
      "text/plain": [
       "<AxesSubplot:title={'center':'Average Wickets Lost (Overs 1-6) 2021'}, xlabel='Teams', ylabel='Average Wickets Lost (Overs 1-6)'>"
      ]
     },
     "execution_count": 111,
     "metadata": {},
     "output_type": "execute_result"
    },
    {
     "data": {
      "image/png": "[encoded data removed]",
      "text/plain": [
       "<Figure size 720x288 with 1 Axes>"
      ]
     },
     "metadata": {},
     "output_type": "display_data"
    }
   ],
   "source": [
    "boundaries = pd.DataFrame()\n",
    "boundaries =df2.groupby(['team']).agg(\n",
    "    wickets_lost_first_six = ('wickets_lost_first_six','mean'),\n",
    "    matches = ('match_id','count')\n",
    "    \n",
    ")\n",
    "boundaries = boundaries.reset_index() \n",
    "boundaries\n",
    "boundaries[\"team\"] = [\"Islamabad United\",\"Karachi Kings\",\"Lahore Qalandars\",\"Multan Sultans\",\"Peshawar Zalmi\",\"Quetta Gladiators\"]\n",
    "boundaries = boundaries.rename(columns={'team': 'Team', 'wickets_lost_first_six': 'Average Wickets Lost (Overs 1-6)'})\n",
    "\n",
    "ax =boundaries.plot(x = 'Team', y = 'Average Wickets Lost (Overs 1-6)', kind='bar', rot=0,\n",
    "                figsize=(10,4), # Figsize to make the plot larger\n",
    "            title='Average Wickets Lost (Overs 1-6) 2021', # Adding a title to the top\n",
    "            xlabel=\"Teams\", # Adding a label on the xaxis\n",
    "            ylabel=\"Average Wickets Lost (Overs 1-6)\", # Adding a label on y axis\n",
    "            fontsize='medium')\n",
    "ax"
   ]
  },
  {
   "cell_type": "code",
   "execution_count": 112,
   "id": "7938b39a",
   "metadata": {},
   "outputs": [],
   "source": [
    "fig = ax.get_figure()\n",
    "fig.savefig('avg_wickets_firstsix_2021.jpg',dpi=200,bbox_inches='tight')"
   ]
  },
  {
   "cell_type": "code",
   "execution_count": 108,
   "id": "7893b526",
   "metadata": {},
   "outputs": [
    {
     "data": {
      "text/plain": [
       "<AxesSubplot:title={'center':'Average Wickets Lost (Overs 1-6) 2022'}, xlabel='Teams', ylabel='Average Wickets Lost (Overs 1-6)'>"
      ]
     },
     "execution_count": 108,
     "metadata": {},
     "output_type": "execute_result"
    },
    {
     "data": {
      "image/png": "[encoded data removed]",
      "text/plain": [
       "<Figure size 720x288 with 1 Axes>"
      ]
     },
     "metadata": {},
     "output_type": "display_data"
    }
   ],
   "source": [
    "boundaries = pd.DataFrame()\n",
    "boundaries =df3.groupby(['team']).agg(\n",
    "    wickets_lost_first_six = ('wickets_lost_first_six','mean'),\n",
    "    matches = ('match_id','count')\n",
    "    \n",
    ")\n",
    "boundaries = boundaries.reset_index() \n",
    "boundaries\n",
    "boundaries[\"team\"] = [\"Islamabad United\",\"Karachi Kings\",\"Lahore Qalandars\",\"Multan Sultans\",\"Peshawar Zalmi\",\"Quetta Gladiators\"]\n",
    "boundaries = boundaries.rename(columns={'team': 'Team', 'wickets_lost_first_six': 'Average Wickets Lost (Overs 1-6)'})\n",
    "\n",
    "ax =boundaries.plot(x = 'Team', y = 'Average Wickets Lost (Overs 1-6)', kind='bar', rot=0,\n",
    "                figsize=(10,4), # Figsize to make the plot larger\n",
    "            title='Average Wickets Lost (Overs 1-6) 2022', # Adding a title to the top\n",
    "            xlabel=\"Teams\", # Adding a label on the xaxis\n",
    "            ylabel=\"Average Wickets Lost (Overs 1-6)\", # Adding a label on y axis\n",
    "            fontsize='medium')\n",
    "ax"
   ]
  },
  {
   "cell_type": "code",
   "execution_count": 110,
   "id": "b41df4ad",
   "metadata": {},
   "outputs": [],
   "source": [
    "fig = ax.get_figure()\n",
    "fig.savefig('avg_wickets_firstsix_2022.jpg',dpi=200,bbox_inches='tight')"
   ]
  },
  {
   "cell_type": "code",
   "execution_count": 48,
   "id": "bb69123c",
   "metadata": {},
   "outputs": [
    {
     "data": {
      "text/html": [
       "<div>\n",
       "<style scoped>\n",
       "    .dataframe tbody tr th:only-of-type {\n",
       "        vertical-align: middle;\n",
       "    }\n",
       "\n",
       "    .dataframe tbody tr th {\n",
       "        vertical-align: top;\n",
       "    }\n",
       "\n",
       "    .dataframe thead th {\n",
       "        text-align: right;\n",
       "    }\n",
       "</style>\n",
       "<table border=\"1\" class=\"dataframe\">\n",
       "  <thead>\n",
       "    <tr style=\"text-align: right;\">\n",
       "      <th></th>\n",
       "      <th>Team</th>\n",
       "      <th>Average Wickets Lost (Overs 15-20)</th>\n",
       "      <th>matches</th>\n",
       "    </tr>\n",
       "  </thead>\n",
       "  <tbody>\n",
       "    <tr>\n",
       "      <th>0</th>\n",
       "      <td>Islamabad United</td>\n",
       "      <td>2.500000</td>\n",
       "      <td>12</td>\n",
       "    </tr>\n",
       "    <tr>\n",
       "      <th>1</th>\n",
       "      <td>Karachi Kings</td>\n",
       "      <td>3.100000</td>\n",
       "      <td>10</td>\n",
       "    </tr>\n",
       "    <tr>\n",
       "      <th>2</th>\n",
       "      <td>Lahore Qalandars</td>\n",
       "      <td>2.615385</td>\n",
       "      <td>13</td>\n",
       "    </tr>\n",
       "    <tr>\n",
       "      <th>3</th>\n",
       "      <td>Multan Sultans</td>\n",
       "      <td>2.583333</td>\n",
       "      <td>12</td>\n",
       "    </tr>\n",
       "    <tr>\n",
       "      <th>4</th>\n",
       "      <td>Peshawar Zalmi</td>\n",
       "      <td>3.272727</td>\n",
       "      <td>11</td>\n",
       "    </tr>\n",
       "    <tr>\n",
       "      <th>5</th>\n",
       "      <td>Quetta Gladiators</td>\n",
       "      <td>3.000000</td>\n",
       "      <td>10</td>\n",
       "    </tr>\n",
       "  </tbody>\n",
       "</table>\n",
       "</div>"
      ],
      "text/plain": [
       "                Team  Average Wickets Lost (Overs 15-20)  matches\n",
       "0   Islamabad United                            2.500000       12\n",
       "1      Karachi Kings                            3.100000       10\n",
       "2   Lahore Qalandars                            2.615385       13\n",
       "3     Multan Sultans                            2.583333       12\n",
       "4     Peshawar Zalmi                            3.272727       11\n",
       "5  Quetta Gladiators                            3.000000       10"
      ]
     },
     "execution_count": 48,
     "metadata": {},
     "output_type": "execute_result"
    }
   ],
   "source": [
    "boundaries"
   ]
  },
  {
   "cell_type": "code",
   "execution_count": 47,
   "id": "614e40f1",
   "metadata": {},
   "outputs": [
    {
     "data": {
      "text/plain": [
       "<AxesSubplot:title={'center':'Average Wickets Lost (Overs 15-20) 2020'}, xlabel='Teams', ylabel='Average Wickets Lost (Overs 15-20)'>"
      ]
     },
     "execution_count": 47,
     "metadata": {},
     "output_type": "execute_result"
    },
    {
     "data": {
      "image/png": "[encoded data removed]",
      "text/plain": [
       "<Figure size 720x288 with 1 Axes>"
      ]
     },
     "metadata": {
      "needs_background": "light"
     },
     "output_type": "display_data"
    }
   ],
   "source": [
    "boundaries = pd.DataFrame()\n",
    "boundaries =df3.groupby(['team']).agg(\n",
    "    wickets_lost_last_five = ('wickets_lost_last_five','mean'),\n",
    "    matches = ('match_id','count')\n",
    "    \n",
    ")\n",
    "boundaries = boundaries.reset_index() \n",
    "boundaries\n",
    "boundaries[\"team\"] = [\"Islamabad United\",\"Karachi Kings\",\"Lahore Qalandars\",\"Multan Sultans\",\"Peshawar Zalmi\",\"Quetta Gladiators\"]\n",
    "boundaries = boundaries.rename(columns={'team': 'Team', 'wickets_lost_last_five': 'Average Wickets Lost (Overs 15-20)'})\n",
    "\n",
    "ax =boundaries.plot(x = 'Team', y = 'Average Wickets Lost (Overs 15-20)', kind='bar', rot=0,\n",
    "                figsize=(10,4), # Figsize to make the plot larger\n",
    "            title='Average Wickets Lost (Overs 15-20) 2020', # Adding a title to the top\n",
    "            xlabel=\"Teams\", # Adding a label on the xaxis\n",
    "            ylabel=\"Average Wickets Lost (Overs 15-20)\", # Adding a label on y axis\n",
    "            fontsize='medium')\n",
    "ax"
   ]
  },
  {
   "cell_type": "code",
   "execution_count": 114,
   "id": "b4a71bf1",
   "metadata": {},
   "outputs": [],
   "source": [
    "fig = ax.get_figure()\n",
    "fig.savefig('avg_wickets_lastfive_2020.jpg',dpi=200,bbox_inches='tight')"
   ]
  },
  {
   "cell_type": "code",
   "execution_count": 115,
   "id": "623474bd",
   "metadata": {},
   "outputs": [
    {
     "data": {
      "text/plain": [
       "<AxesSubplot:title={'center':'Average Wickets Lost (Overs 15-20) 2021'}, xlabel='Teams', ylabel='Average Wickets Lost (Overs 15-20)'>"
      ]
     },
     "execution_count": 115,
     "metadata": {},
     "output_type": "execute_result"
    },
    {
     "data": {
      "image/png": "[encoded data removed]",
      "text/plain": [
       "<Figure size 720x288 with 1 Axes>"
      ]
     },
     "metadata": {},
     "output_type": "display_data"
    }
   ],
   "source": [
    "boundaries = pd.DataFrame()\n",
    "boundaries =df2.groupby(['team']).agg(\n",
    "    wickets_lost_last_five = ('wickets_lost_last_five','mean'),\n",
    "    matches = ('match_id','count')\n",
    "    \n",
    ")\n",
    "boundaries = boundaries.reset_index() \n",
    "boundaries\n",
    "boundaries[\"team\"] = [\"Islamabad United\",\"Karachi Kings\",\"Lahore Qalandars\",\"Multan Sultans\",\"Peshawar Zalmi\",\"Quetta Gladiators\"]\n",
    "boundaries = boundaries.rename(columns={'team': 'Team', 'wickets_lost_last_five': 'Average Wickets Lost (Overs 15-20)'})\n",
    "\n",
    "ax =boundaries.plot(x = 'Team', y = 'Average Wickets Lost (Overs 15-20)', kind='bar', rot=0,\n",
    "                figsize=(10,4), # Figsize to make the plot larger\n",
    "            title='Average Wickets Lost (Overs 15-20) 2021', # Adding a title to the top\n",
    "            xlabel=\"Teams\", # Adding a label on the xaxis\n",
    "            ylabel=\"Average Wickets Lost (Overs 15-20)\", # Adding a label on y axis\n",
    "            fontsize='medium')\n",
    "ax"
   ]
  },
  {
   "cell_type": "code",
   "execution_count": 116,
   "id": "84989c93",
   "metadata": {},
   "outputs": [],
   "source": [
    "fig = ax.get_figure()\n",
    "fig.savefig('avg_wickets_lastfive_2021.jpg',dpi=200,bbox_inches='tight')"
   ]
  },
  {
   "cell_type": "code",
   "execution_count": 117,
   "id": "d3d5dd16",
   "metadata": {},
   "outputs": [
    {
     "data": {
      "text/plain": [
       "<AxesSubplot:title={'center':'Average Wickets Lost (Overs 15-20) 2022'}, xlabel='Teams', ylabel='Average Wickets Lost (Overs 15-20)'>"
      ]
     },
     "execution_count": 117,
     "metadata": {},
     "output_type": "execute_result"
    },
    {
     "data": {
      "image/png": "[encoded data removed]",
      "text/plain": [
       "<Figure size 720x288 with 1 Axes>"
      ]
     },
     "metadata": {},
     "output_type": "display_data"
    }
   ],
   "source": [
    "boundaries = pd.DataFrame()\n",
    "boundaries =df3.groupby(['team']).agg(\n",
    "    wickets_lost_last_five = ('wickets_lost_last_five','mean'),\n",
    "    matches = ('match_id','count')\n",
    "    \n",
    ")\n",
    "boundaries = boundaries.reset_index() \n",
    "boundaries\n",
    "boundaries[\"team\"] = [\"Islamabad United\",\"Karachi Kings\",\"Lahore Qalandars\",\"Multan Sultans\",\"Peshawar Zalmi\",\"Quetta Gladiators\"]\n",
    "boundaries = boundaries.rename(columns={'team': 'Team', 'wickets_lost_last_five': 'Average Wickets Lost (Overs 15-20)'})\n",
    "\n",
    "ax =boundaries.plot(x = 'Team', y = 'Average Wickets Lost (Overs 15-20)', kind='bar', rot=0,\n",
    "                figsize=(10,4), # Figsize to make the plot larger\n",
    "            title='Average Wickets Lost (Overs 15-20) 2022', # Adding a title to the top\n",
    "            xlabel=\"Teams\", # Adding a label on the xaxis\n",
    "            ylabel=\"Average Wickets Lost (Overs 15-20)\", # Adding a label on y axis\n",
    "            fontsize='medium')\n",
    "ax"
   ]
  },
  {
   "cell_type": "code",
   "execution_count": 118,
   "id": "5b9bfbc9",
   "metadata": {},
   "outputs": [],
   "source": [
    "fig = ax.get_figure()\n",
    "fig.savefig('avg_wickets_lastfive_2022.jpg',dpi=200,bbox_inches='tight')"
   ]
  },
  {
   "cell_type": "code",
   "execution_count": 54,
   "id": "1389e89d",
   "metadata": {},
   "outputs": [
    {
     "data": {
      "text/html": [
       "<div>\n",
       "<style scoped>\n",
       "    .dataframe tbody tr th:only-of-type {\n",
       "        vertical-align: middle;\n",
       "    }\n",
       "\n",
       "    .dataframe tbody tr th {\n",
       "        vertical-align: top;\n",
       "    }\n",
       "\n",
       "    .dataframe thead th {\n",
       "        text-align: right;\n",
       "    }\n",
       "</style>\n",
       "<table border=\"1\" class=\"dataframe\">\n",
       "  <thead>\n",
       "    <tr style=\"text-align: right;\">\n",
       "      <th></th>\n",
       "      <th>Team</th>\n",
       "      <th>Average Run Rate (Overs 15-20)</th>\n",
       "      <th>matches</th>\n",
       "    </tr>\n",
       "  </thead>\n",
       "  <tbody>\n",
       "    <tr>\n",
       "      <th>0</th>\n",
       "      <td>Islamabad United</td>\n",
       "      <td>9.333333</td>\n",
       "      <td>12</td>\n",
       "    </tr>\n",
       "    <tr>\n",
       "      <th>1</th>\n",
       "      <td>Karachi Kings</td>\n",
       "      <td>8.700000</td>\n",
       "      <td>10</td>\n",
       "    </tr>\n",
       "    <tr>\n",
       "      <th>2</th>\n",
       "      <td>Lahore Qalandars</td>\n",
       "      <td>13.076923</td>\n",
       "      <td>13</td>\n",
       "    </tr>\n",
       "    <tr>\n",
       "      <th>3</th>\n",
       "      <td>Multan Sultans</td>\n",
       "      <td>11.833333</td>\n",
       "      <td>12</td>\n",
       "    </tr>\n",
       "    <tr>\n",
       "      <th>4</th>\n",
       "      <td>Peshawar Zalmi</td>\n",
       "      <td>12.454545</td>\n",
       "      <td>11</td>\n",
       "    </tr>\n",
       "    <tr>\n",
       "      <th>5</th>\n",
       "      <td>Quetta Gladiators</td>\n",
       "      <td>9.700000</td>\n",
       "      <td>10</td>\n",
       "    </tr>\n",
       "  </tbody>\n",
       "</table>\n",
       "</div>"
      ],
      "text/plain": [
       "                Team  Average Run Rate (Overs 15-20)  matches\n",
       "0   Islamabad United                        9.333333       12\n",
       "1      Karachi Kings                        8.700000       10\n",
       "2   Lahore Qalandars                       13.076923       13\n",
       "3     Multan Sultans                       11.833333       12\n",
       "4     Peshawar Zalmi                       12.454545       11\n",
       "5  Quetta Gladiators                        9.700000       10"
      ]
     },
     "execution_count": 54,
     "metadata": {},
     "output_type": "execute_result"
    }
   ],
   "source": [
    "boundaries"
   ]
  },
  {
   "cell_type": "code",
   "execution_count": 53,
   "id": "19742663",
   "metadata": {},
   "outputs": [
    {
     "data": {
      "text/plain": [
       "<AxesSubplot:title={'center':'Average Run Rate (Overs 15-20) 2020'}, xlabel='Teams', ylabel='Average Run Rate (Overs 15-20)'>"
      ]
     },
     "execution_count": 53,
     "metadata": {},
     "output_type": "execute_result"
    },
    {
     "data": {
      "image/png": "[encoded data removed]",
      "text/plain": [
       "<Figure size 720x288 with 1 Axes>"
      ]
     },
     "metadata": {
      "needs_background": "light"
     },
     "output_type": "display_data"
    }
   ],
   "source": [
    "boundaries = pd.DataFrame()\n",
    "boundaries =df3.groupby(['team']).agg(\n",
    "    runrate_last_five_over = ('runrate_last_five_over','mean'),\n",
    "    matches = ('match_id','count')\n",
    "    \n",
    ")\n",
    "boundaries = boundaries.reset_index() \n",
    "boundaries\n",
    "boundaries[\"team\"] = [\"Islamabad United\",\"Karachi Kings\",\"Lahore Qalandars\",\"Multan Sultans\",\"Peshawar Zalmi\",\"Quetta Gladiators\"]\n",
    "boundaries = boundaries.rename(columns={'team': 'Team', 'runrate_last_five_over': 'Average Run Rate (Overs 15-20)'})\n",
    "\n",
    "ax =boundaries.plot(x = 'Team', y = 'Average Run Rate (Overs 15-20)', kind='bar', rot=0,\n",
    "                figsize=(10,4), # Figsize to make the plot larger\n",
    "            title='Average Run Rate (Overs 15-20) 2020', # Adding a title to the top\n",
    "            xlabel=\"Teams\", # Adding a label on the xaxis\n",
    "            ylabel=\"Average Run Rate (Overs 15-20)\", # Adding a label on y axis\n",
    "            fontsize='medium')\n",
    "ax"
   ]
  },
  {
   "cell_type": "code",
   "execution_count": 120,
   "id": "07fa31ec",
   "metadata": {},
   "outputs": [],
   "source": [
    "fig = ax.get_figure()\n",
    "fig.savefig('avg_runrate_lastfive_2020.jpg',dpi=200,bbox_inches='tight')"
   ]
  },
  {
   "cell_type": "code",
   "execution_count": 121,
   "id": "fe0a4525",
   "metadata": {},
   "outputs": [
    {
     "data": {
      "text/plain": [
       "<AxesSubplot:title={'center':'Average Run Rate (Overs 15-20) 2021'}, xlabel='Teams', ylabel='Average Run Rate (Overs 15-20)'>"
      ]
     },
     "execution_count": 121,
     "metadata": {},
     "output_type": "execute_result"
    },
    {
     "data": {
      "image/png": "[encoded data removed]",
      "text/plain": [
       "<Figure size 720x288 with 1 Axes>"
      ]
     },
     "metadata": {},
     "output_type": "display_data"
    }
   ],
   "source": [
    "boundaries = pd.DataFrame()\n",
    "boundaries =df2.groupby(['team']).agg(\n",
    "    runrate_last_five_over = ('runrate_last_five_over','mean'),\n",
    "    matches = ('match_id','count')\n",
    "    \n",
    ")\n",
    "boundaries = boundaries.reset_index() \n",
    "boundaries\n",
    "boundaries[\"team\"] = [\"Islamabad United\",\"Karachi Kings\",\"Lahore Qalandars\",\"Multan Sultans\",\"Peshawar Zalmi\",\"Quetta Gladiators\"]\n",
    "boundaries = boundaries.rename(columns={'team': 'Team', 'runrate_last_five_over': 'Average Run Rate (Overs 15-20)'})\n",
    "\n",
    "ax =boundaries.plot(x = 'Team', y = 'Average Run Rate (Overs 15-20)', kind='bar', rot=0,\n",
    "                figsize=(10,4), # Figsize to make the plot larger\n",
    "            title='Average Run Rate (Overs 15-20) 2021', # Adding a title to the top\n",
    "            xlabel=\"Teams\", # Adding a label on the xaxis\n",
    "            ylabel=\"Average Run Rate (Overs 15-20)\", # Adding a label on y axis\n",
    "            fontsize='medium')\n",
    "ax"
   ]
  },
  {
   "cell_type": "code",
   "execution_count": 122,
   "id": "5fb8c05f",
   "metadata": {},
   "outputs": [],
   "source": [
    "fig = ax.get_figure()\n",
    "fig.savefig('avg_runrate_lastfive_2021.jpg',dpi=200,bbox_inches='tight')"
   ]
  },
  {
   "cell_type": "code",
   "execution_count": 123,
   "id": "05f0751f",
   "metadata": {},
   "outputs": [
    {
     "data": {
      "text/plain": [
       "<AxesSubplot:title={'center':'Average Run Rate (Overs 15-20) 2022'}, xlabel='Teams', ylabel='Average Run Rate (Overs 15-20)'>"
      ]
     },
     "execution_count": 123,
     "metadata": {},
     "output_type": "execute_result"
    },
    {
     "data": {
      "image/png": "[encoded data removed]",
      "text/plain": [
       "<Figure size 720x288 with 1 Axes>"
      ]
     },
     "metadata": {},
     "output_type": "display_data"
    }
   ],
   "source": [
    "boundaries = pd.DataFrame()\n",
    "boundaries =df3.groupby(['team']).agg(\n",
    "    runrate_last_five_over = ('runrate_last_five_over','mean'),\n",
    "    matches = ('match_id','count')\n",
    "    \n",
    ")\n",
    "boundaries = boundaries.reset_index() \n",
    "boundaries\n",
    "boundaries[\"team\"] = [\"Islamabad United\",\"Karachi Kings\",\"Lahore Qalandars\",\"Multan Sultans\",\"Peshawar Zalmi\",\"Quetta Gladiators\"]\n",
    "boundaries = boundaries.rename(columns={'team': 'Team', 'runrate_last_five_over': 'Average Run Rate (Overs 15-20)'})\n",
    "\n",
    "ax =boundaries.plot(x = 'Team', y = 'Average Run Rate (Overs 15-20)', kind='bar', rot=0,\n",
    "                figsize=(10,4), # Figsize to make the plot larger\n",
    "            title='Average Run Rate (Overs 15-20) 2022', # Adding a title to the top\n",
    "            xlabel=\"Teams\", # Adding a label on the xaxis\n",
    "            ylabel=\"Average Run Rate (Overs 15-20)\", # Adding a label on y axis\n",
    "            fontsize='medium')\n",
    "ax"
   ]
  },
  {
   "cell_type": "code",
   "execution_count": 124,
   "id": "93bab177",
   "metadata": {},
   "outputs": [],
   "source": [
    "fig = ax.get_figure()\n",
    "fig.savefig('avg_runrate_lastfive_2022.jpg',dpi=200,bbox_inches='tight')"
   ]
  },
  {
   "cell_type": "code",
   "execution_count": 60,
   "id": "9fece183",
   "metadata": {},
   "outputs": [
    {
     "data": {
      "text/html": [
       "<div>\n",
       "<style scoped>\n",
       "    .dataframe tbody tr th:only-of-type {\n",
       "        vertical-align: middle;\n",
       "    }\n",
       "\n",
       "    .dataframe tbody tr th {\n",
       "        vertical-align: top;\n",
       "    }\n",
       "\n",
       "    .dataframe thead th {\n",
       "        text-align: right;\n",
       "    }\n",
       "</style>\n",
       "<table border=\"1\" class=\"dataframe\">\n",
       "  <thead>\n",
       "    <tr style=\"text-align: right;\">\n",
       "      <th></th>\n",
       "      <th>Team</th>\n",
       "      <th>Average Batter Standard Deviation</th>\n",
       "      <th>matches</th>\n",
       "    </tr>\n",
       "  </thead>\n",
       "  <tbody>\n",
       "    <tr>\n",
       "      <th>0</th>\n",
       "      <td>Islamabad United</td>\n",
       "      <td>1.408599</td>\n",
       "      <td>12</td>\n",
       "    </tr>\n",
       "    <tr>\n",
       "      <th>1</th>\n",
       "      <td>Karachi Kings</td>\n",
       "      <td>1.332546</td>\n",
       "      <td>10</td>\n",
       "    </tr>\n",
       "    <tr>\n",
       "      <th>2</th>\n",
       "      <td>Lahore Qalandars</td>\n",
       "      <td>2.196646</td>\n",
       "      <td>13</td>\n",
       "    </tr>\n",
       "    <tr>\n",
       "      <th>3</th>\n",
       "      <td>Multan Sultans</td>\n",
       "      <td>2.204519</td>\n",
       "      <td>12</td>\n",
       "    </tr>\n",
       "    <tr>\n",
       "      <th>4</th>\n",
       "      <td>Peshawar Zalmi</td>\n",
       "      <td>1.550724</td>\n",
       "      <td>11</td>\n",
       "    </tr>\n",
       "    <tr>\n",
       "      <th>5</th>\n",
       "      <td>Quetta Gladiators</td>\n",
       "      <td>1.402268</td>\n",
       "      <td>10</td>\n",
       "    </tr>\n",
       "  </tbody>\n",
       "</table>\n",
       "</div>"
      ],
      "text/plain": [
       "                Team  Average Batter Standard Deviation  matches\n",
       "0   Islamabad United                           1.408599       12\n",
       "1      Karachi Kings                           1.332546       10\n",
       "2   Lahore Qalandars                           2.196646       13\n",
       "3     Multan Sultans                           2.204519       12\n",
       "4     Peshawar Zalmi                           1.550724       11\n",
       "5  Quetta Gladiators                           1.402268       10"
      ]
     },
     "execution_count": 60,
     "metadata": {},
     "output_type": "execute_result"
    }
   ],
   "source": [
    "boundaries"
   ]
  },
  {
   "cell_type": "code",
   "execution_count": 59,
   "id": "041da123",
   "metadata": {},
   "outputs": [
    {
     "data": {
      "text/plain": [
       "<AxesSubplot:title={'center':'Average Batter Standard Deviation 2020'}, xlabel='Teams', ylabel='Average Batter Standard Deviation'>"
      ]
     },
     "execution_count": 59,
     "metadata": {},
     "output_type": "execute_result"
    },
    {
     "data": {
      "image/png": "[encoded data removed]",
      "text/plain": [
       "<Figure size 720x288 with 1 Axes>"
      ]
     },
     "metadata": {
      "needs_background": "light"
     },
     "output_type": "display_data"
    }
   ],
   "source": [
    "boundaries = pd.DataFrame()\n",
    "boundaries =df3.groupby(['team']).agg(\n",
    "    stddev_batsman = ('stddev_batsman','mean'),\n",
    "    matches = ('match_id','count')\n",
    "    \n",
    ")\n",
    "boundaries = boundaries.reset_index() \n",
    "boundaries\n",
    "boundaries[\"team\"] = [\"Islamabad United\",\"Karachi Kings\",\"Lahore Qalandars\",\"Multan Sultans\",\"Peshawar Zalmi\",\"Quetta Gladiators\"]\n",
    "boundaries = boundaries.rename(columns={'team': 'Team', 'stddev_batsman': 'Average Batter Standard Deviation'})\n",
    "\n",
    "ax =boundaries.plot(x = 'Team', y = 'Average Batter Standard Deviation', kind='bar', rot=0,\n",
    "                figsize=(10,4), # Figsize to make the plot larger\n",
    "            title='Average Batter Standard Deviation 2020', # Adding a title to the top\n",
    "            xlabel=\"Teams\", # Adding a label on the xaxis\n",
    "            ylabel=\"Average Batter Standard Deviation\", # Adding a label on y axis\n",
    "            fontsize='medium')\n",
    "ax"
   ]
  },
  {
   "cell_type": "code",
   "execution_count": 126,
   "id": "f69850a1",
   "metadata": {},
   "outputs": [],
   "source": [
    "fig = ax.get_figure()\n",
    "fig.savefig('avg_stddev_batter_2020.jpg',dpi=200,bbox_inches='tight')"
   ]
  },
  {
   "cell_type": "code",
   "execution_count": 127,
   "id": "0c397eee",
   "metadata": {},
   "outputs": [
    {
     "data": {
      "text/plain": [
       "<AxesSubplot:title={'center':'Average Batter Standard Deviation 2021'}, xlabel='Teams', ylabel='Average Batter Standard Deviation'>"
      ]
     },
     "execution_count": 127,
     "metadata": {},
     "output_type": "execute_result"
    },
    {
     "data": {
      "image/png": "[encoded data removed]",
      "text/plain": [
       "<Figure size 720x288 with 1 Axes>"
      ]
     },
     "metadata": {},
     "output_type": "display_data"
    }
   ],
   "source": [
    "boundaries = pd.DataFrame()\n",
    "boundaries =df2.groupby(['team']).agg(\n",
    "    stddev_batsman = ('stddev_batsman','mean'),\n",
    "    matches = ('match_id','count')\n",
    "    \n",
    ")\n",
    "boundaries = boundaries.reset_index() \n",
    "boundaries\n",
    "boundaries[\"team\"] = [\"Islamabad United\",\"Karachi Kings\",\"Lahore Qalandars\",\"Multan Sultans\",\"Peshawar Zalmi\",\"Quetta Gladiators\"]\n",
    "boundaries = boundaries.rename(columns={'team': 'Team', 'stddev_batsman': 'Average Batter Standard Deviation'})\n",
    "\n",
    "ax =boundaries.plot(x = 'Team', y = 'Average Batter Standard Deviation', kind='bar', rot=0,\n",
    "                figsize=(10,4), # Figsize to make the plot larger\n",
    "            title='Average Batter Standard Deviation 2021', # Adding a title to the top\n",
    "            xlabel=\"Teams\", # Adding a label on the xaxis\n",
    "            ylabel=\"Average Batter Standard Deviation\", # Adding a label on y axis\n",
    "            fontsize='medium')\n",
    "ax"
   ]
  },
  {
   "cell_type": "code",
   "execution_count": 128,
   "id": "bb6b9bb8",
   "metadata": {},
   "outputs": [],
   "source": [
    "fig = ax.get_figure()\n",
    "fig.savefig('avg_stddev_batter_2021.jpg',dpi=200,bbox_inches='tight')"
   ]
  },
  {
   "cell_type": "code",
   "execution_count": 129,
   "id": "deb3fd8f",
   "metadata": {},
   "outputs": [
    {
     "data": {
      "text/plain": [
       "<AxesSubplot:title={'center':'Average Batter Standard Deviation 2022'}, xlabel='Teams', ylabel='Average Batter Standard Deviation'>"
      ]
     },
     "execution_count": 129,
     "metadata": {},
     "output_type": "execute_result"
    },
    {
     "data": {
      "image/png": "[encoded data removed]",
      "text/plain": [
       "<Figure size 720x288 with 1 Axes>"
      ]
     },
     "metadata": {},
     "output_type": "display_data"
    }
   ],
   "source": [
    "boundaries = pd.DataFrame()\n",
    "boundaries =df3.groupby(['team']).agg(\n",
    "    stddev_batsman = ('stddev_batsman','mean'),\n",
    "    matches = ('match_id','count')\n",
    "    \n",
    ")\n",
    "boundaries = boundaries.reset_index() \n",
    "boundaries\n",
    "boundaries[\"team\"] = [\"Islamabad United\",\"Karachi Kings\",\"Lahore Qalandars\",\"Multan Sultans\",\"Peshawar Zalmi\",\"Quetta Gladiators\"]\n",
    "boundaries = boundaries.rename(columns={'team': 'Team', 'stddev_batsman': 'Average Batter Standard Deviation'})\n",
    "\n",
    "ax =boundaries.plot(x = 'Team', y = 'Average Batter Standard Deviation', kind='bar', rot=0,\n",
    "                figsize=(10,4), # Figsize to make the plot larger\n",
    "            title='Average Batter Standard Deviation 2022', # Adding a title to the top\n",
    "            xlabel=\"Teams\", # Adding a label on the xaxis\n",
    "            ylabel=\"Average Batter Standard Deviation\", # Adding a label on y axis\n",
    "            fontsize='medium')\n",
    "ax"
   ]
  },
  {
   "cell_type": "code",
   "execution_count": 130,
   "id": "aef6a81a",
   "metadata": {},
   "outputs": [],
   "source": [
    "fig = ax.get_figure()\n",
    "fig.savefig('avg_stddev_batter_2022.jpg',dpi=200,bbox_inches='tight')"
   ]
  },
  {
   "cell_type": "code",
   "execution_count": 66,
   "id": "e12a39dd",
   "metadata": {},
   "outputs": [
    {
     "data": {
      "text/html": [
       "<div>\n",
       "<style scoped>\n",
       "    .dataframe tbody tr th:only-of-type {\n",
       "        vertical-align: middle;\n",
       "    }\n",
       "\n",
       "    .dataframe tbody tr th {\n",
       "        vertical-align: top;\n",
       "    }\n",
       "\n",
       "    .dataframe thead th {\n",
       "        text-align: right;\n",
       "    }\n",
       "</style>\n",
       "<table border=\"1\" class=\"dataframe\">\n",
       "  <thead>\n",
       "    <tr style=\"text-align: right;\">\n",
       "      <th></th>\n",
       "      <th>Team</th>\n",
       "      <th>Average Bowler Standard Deviation</th>\n",
       "      <th>matches</th>\n",
       "    </tr>\n",
       "  </thead>\n",
       "  <tbody>\n",
       "    <tr>\n",
       "      <th>0</th>\n",
       "      <td>Islamabad United</td>\n",
       "      <td>1.085925</td>\n",
       "      <td>12</td>\n",
       "    </tr>\n",
       "    <tr>\n",
       "      <th>1</th>\n",
       "      <td>Karachi Kings</td>\n",
       "      <td>0.948595</td>\n",
       "      <td>10</td>\n",
       "    </tr>\n",
       "    <tr>\n",
       "      <th>2</th>\n",
       "      <td>Lahore Qalandars</td>\n",
       "      <td>1.039852</td>\n",
       "      <td>13</td>\n",
       "    </tr>\n",
       "    <tr>\n",
       "      <th>3</th>\n",
       "      <td>Multan Sultans</td>\n",
       "      <td>1.545938</td>\n",
       "      <td>12</td>\n",
       "    </tr>\n",
       "    <tr>\n",
       "      <th>4</th>\n",
       "      <td>Peshawar Zalmi</td>\n",
       "      <td>1.274051</td>\n",
       "      <td>11</td>\n",
       "    </tr>\n",
       "    <tr>\n",
       "      <th>5</th>\n",
       "      <td>Quetta Gladiators</td>\n",
       "      <td>1.045317</td>\n",
       "      <td>10</td>\n",
       "    </tr>\n",
       "  </tbody>\n",
       "</table>\n",
       "</div>"
      ],
      "text/plain": [
       "                Team  Average Bowler Standard Deviation  matches\n",
       "0   Islamabad United                           1.085925       12\n",
       "1      Karachi Kings                           0.948595       10\n",
       "2   Lahore Qalandars                           1.039852       13\n",
       "3     Multan Sultans                           1.545938       12\n",
       "4     Peshawar Zalmi                           1.274051       11\n",
       "5  Quetta Gladiators                           1.045317       10"
      ]
     },
     "execution_count": 66,
     "metadata": {},
     "output_type": "execute_result"
    }
   ],
   "source": [
    "boundaries"
   ]
  },
  {
   "cell_type": "code",
   "execution_count": 65,
   "id": "95b4f713",
   "metadata": {},
   "outputs": [
    {
     "data": {
      "text/plain": [
       "<AxesSubplot:title={'center':'Average Bowler Standard Deviation 2020'}, xlabel='Teams', ylabel='Average Bowler Standard Deviation'>"
      ]
     },
     "execution_count": 65,
     "metadata": {},
     "output_type": "execute_result"
    },
    {
     "data": {
      "image/png": "[encoded data removed]",
      "text/plain": [
       "<Figure size 720x288 with 1 Axes>"
      ]
     },
     "metadata": {
      "needs_background": "light"
     },
     "output_type": "display_data"
    }
   ],
   "source": [
    "boundaries = pd.DataFrame()\n",
    "boundaries =df3.groupby(['team']).agg(\n",
    "    stddev_bowler = ('stddev_bowler','mean'),\n",
    "    matches = ('match_id','count')\n",
    "    \n",
    ")\n",
    "boundaries = boundaries.reset_index() \n",
    "boundaries\n",
    "boundaries[\"team\"] = [\"Islamabad United\",\"Karachi Kings\",\"Lahore Qalandars\",\"Multan Sultans\",\"Peshawar Zalmi\",\"Quetta Gladiators\"]\n",
    "boundaries = boundaries.rename(columns={'team': 'Team', 'stddev_bowler': 'Average Bowler Standard Deviation'})\n",
    "\n",
    "ax =boundaries.plot(x = 'Team', y = 'Average Bowler Standard Deviation', kind='bar', rot=0,\n",
    "                figsize=(10,4), # Figsize to make the plot larger\n",
    "            title='Average Bowler Standard Deviation 2020', # Adding a title to the top\n",
    "            xlabel=\"Teams\", # Adding a label on the xaxis\n",
    "            ylabel=\"Average Bowler Standard Deviation\", # Adding a label on y axis\n",
    "            fontsize='medium')\n",
    "ax"
   ]
  },
  {
   "cell_type": "code",
   "execution_count": 290,
   "id": "71cc7538",
   "metadata": {},
   "outputs": [],
   "source": [
    "fig = ax.get_figure()\n",
    "fig.savefig('avg_stddev_bowler_2020.jpg',dpi=200,bbox_inches='tight')"
   ]
  },
  {
   "cell_type": "code",
   "execution_count": 291,
   "id": "30703a1e",
   "metadata": {},
   "outputs": [
    {
     "data": {
      "text/plain": [
       "<AxesSubplot:title={'center':'Average Bowler Standard Deviation 2021'}, xlabel='Teams', ylabel='Average Bowler Standard Deviation'>"
      ]
     },
     "execution_count": 291,
     "metadata": {},
     "output_type": "execute_result"
    },
    {
     "data": {
      "image/png": "[encoded data removed]",
      "text/plain": [
       "<Figure size 720x288 with 1 Axes>"
      ]
     },
     "metadata": {},
     "output_type": "display_data"
    }
   ],
   "source": [
    "boundaries = pd.DataFrame()\n",
    "boundaries =df2.groupby(['team']).agg(\n",
    "    stddev_bowler = ('stddev_bowler','mean'),\n",
    "    matches = ('match_id','count')\n",
    "    \n",
    ")\n",
    "boundaries = boundaries.reset_index() \n",
    "boundaries\n",
    "boundaries[\"team\"] = [\"Islamabad United\",\"Karachi Kings\",\"Lahore Qalandars\",\"Multan Sultans\",\"Peshawar Zalmi\",\"Quetta Gladiators\"]\n",
    "boundaries = boundaries.rename(columns={'team': 'Team', 'stddev_bowler': 'Average Bowler Standard Deviation'})\n",
    "\n",
    "ax =boundaries.plot(x = 'Team', y = 'Average Bowler Standard Deviation', kind='bar', rot=0,\n",
    "                figsize=(10,4), # Figsize to make the plot larger\n",
    "            title='Average Bowler Standard Deviation 2021', # Adding a title to the top\n",
    "            xlabel=\"Teams\", # Adding a label on the xaxis\n",
    "            ylabel=\"Average Bowler Standard Deviation\", # Adding a label on y axis\n",
    "            fontsize='medium')\n",
    "ax"
   ]
  },
  {
   "cell_type": "code",
   "execution_count": 292,
   "id": "298d3658",
   "metadata": {},
   "outputs": [],
   "source": [
    "fig = ax.get_figure()\n",
    "fig.savefig('avg_stddev_bowler_2021.jpg',dpi=200,bbox_inches='tight')"
   ]
  },
  {
   "cell_type": "code",
   "execution_count": 293,
   "id": "51615c0b",
   "metadata": {},
   "outputs": [
    {
     "data": {
      "text/plain": [
       "<AxesSubplot:title={'center':'Average Bowler Standard Deviation 2022'}, xlabel='Teams', ylabel='Average Bowler Standard Deviation'>"
      ]
     },
     "execution_count": 293,
     "metadata": {},
     "output_type": "execute_result"
    },
    {
     "data": {
      "image/png": "[encoded data removed]",
      "text/plain": [
       "<Figure size 720x288 with 1 Axes>"
      ]
     },
     "metadata": {},
     "output_type": "display_data"
    }
   ],
   "source": [
    "boundaries = pd.DataFrame()\n",
    "boundaries =df3.groupby(['team']).agg(\n",
    "    stddev_bowler = ('stddev_bowler','mean'),\n",
    "    matches = ('match_id','count')\n",
    "    \n",
    ")\n",
    "boundaries = boundaries.reset_index() \n",
    "boundaries\n",
    "boundaries[\"team\"] = [\"Islamabad United\",\"Karachi Kings\",\"Lahore Qalandars\",\"Multan Sultans\",\"Peshawar Zalmi\",\"Quetta Gladiators\"]\n",
    "boundaries = boundaries.rename(columns={'team': 'Team', 'stddev_bowler': 'Average Bowler Standard Deviation'})\n",
    "\n",
    "ax =boundaries.plot(x = 'Team', y = 'Average Bowler Standard Deviation', kind='bar', rot=0,\n",
    "                figsize=(10,4), # Figsize to make the plot larger\n",
    "            title='Average Bowler Standard Deviation 2022', # Adding a title to the top\n",
    "            xlabel=\"Teams\", # Adding a label on the xaxis\n",
    "            ylabel=\"Average Bowler Standard Deviation\", # Adding a label on y axis\n",
    "            fontsize='medium')\n",
    "ax"
   ]
  },
  {
   "cell_type": "code",
   "execution_count": 294,
   "id": "14ffe214",
   "metadata": {},
   "outputs": [],
   "source": [
    "fig = ax.get_figure()\n",
    "fig.savefig('avg_stddev_bowler_2022.jpg',dpi=200,bbox_inches='tight')"
   ]
  },
  {
   "cell_type": "code",
   "execution_count": 70,
   "id": "41adc4b5",
   "metadata": {},
   "outputs": [
    {
     "name": "stdout",
     "output_type": "stream",
     "text": [
      "Optimization terminated successfully.\n",
      "         Current function value: 0.426466\n",
      "         Iterations 7\n",
      "Actual values [1.0, 0.0, 0.0, 1.0, 1.0, 0.0, 1.0, 1.0, 0.0, 1.0]\n",
      "Predictions : [0, 0, 0, 1, 1, 1, 1, 0, 0, 0]\n",
      "Confusion Matrix : \n",
      " [[3 1]\n",
      " [3 3]]\n",
      "Test accuracy =  0.6\n"
     ]
    }
   ],
   "source": [
    "df_vibes_test = df1[(df1['team'] != 'Karachi Kings') & (df1['team'] != 'Karachi Kings')]\n",
    "df_vibes_2 = df1[(df1['team'] == 'Karachi Kings') & (df1['team'] == 'Karachi Kings')]\n",
    "df_vibes_test = df_vibes_test.dropna()\n",
    "# defining the dependent and independent variables\n",
    "Xtrain = df_vibes_test[[\"runrate_first_six_over\",\"wickets_lost_first_six\",\"runrate_last_five_over\",\"wickets_lost_last_five\",\"batsman_PCA\",\"toss_win\",\"bowler_PCA\",\"stddev_batsman\",\"strike_rotation\",\"stddev_bowler\"]]\n",
    "ytrain = df_vibes_test[['match_win']]\n",
    "   \n",
    "# building the model and fitting the data\n",
    "log_reg = sm.Logit(ytrain, Xtrain).fit()\n",
    "\n",
    "  \n",
    "# defining the dependent and independent variables\n",
    "Xtest = df_vibes_2[[\"runrate_first_six_over\",\"wickets_lost_first_six\",\"runrate_last_five_over\",\"wickets_lost_last_five\",\"batsman_PCA\",\"toss_win\",\"bowler_PCA\",\"stddev_batsman\",\"strike_rotation\",\"stddev_bowler\"]]\n",
    "ytest = df_vibes_2['match_win']\n",
    "  \n",
    "# performing predictions on the test datdaset\n",
    "yhat = log_reg.predict(Xtest)\n",
    "prediction = list(map(round, yhat))\n",
    "  \n",
    "# comparing original and predicted values of y\n",
    "print('Actual values', list(ytest.values))\n",
    "print('Predictions :', prediction)\n",
    "\n",
    "\n",
    "from sklearn.metrics import (confusion_matrix, \n",
    "                           accuracy_score)\n",
    "  \n",
    "# confusion matrix\n",
    "cm = confusion_matrix(ytest, prediction) \n",
    "print (\"Confusion Matrix : \\n\", cm) \n",
    "  \n",
    "# accuracy score of the model\n",
    "print('Test accuracy = ', accuracy_score(ytest, prediction))"
   ]
  },
  {
   "cell_type": "code",
   "execution_count": null,
   "id": "93235e58",
   "metadata": {},
   "outputs": [],
   "source": []
  }
 ],
 "metadata": {
  "kernelspec": {
   "display_name": "Python 3 (ipykernel)",
   "language": "python",
   "name": "python3"
  },
  "language_info": {
   "codemirror_mode": {
    "name": "ipython",
    "version": 3
   },
   "file_extension": ".py",
   "mimetype": "text/x-python",
   "name": "python",
   "nbconvert_exporter": "python",
   "pygments_lexer": "ipython3",
   "version": "3.9.12"
  }
 },
 "nbformat": 4,
 "nbformat_minor": 5
}
