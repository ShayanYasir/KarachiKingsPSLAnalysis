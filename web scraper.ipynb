{
 "cells": [
  {
   "cell_type": "code",
   "execution_count": 4,
   "id": "3bf67fdf",
   "metadata": {},
   "outputs": [
    {
     "name": "stdout",
     "output_type": "stream",
     "text": [
      "Requirement already satisfied: linkchecker in /Users/39388/opt/anaconda3/lib/python3.9/site-packages (10.1.0)\n",
      "Requirement already satisfied: dnspython>=2.0 in /Users/39388/opt/anaconda3/lib/python3.9/site-packages (from linkchecker) (2.2.1)\n",
      "Requirement already satisfied: beautifulsoup4>=4.8.1 in /Users/39388/opt/anaconda3/lib/python3.9/site-packages (from linkchecker) (4.11.1)\n",
      "Requirement already satisfied: pyxdg in /Users/39388/opt/anaconda3/lib/python3.9/site-packages (from linkchecker) (0.28)\n",
      "Requirement already satisfied: requests>=2.4 in /Users/39388/opt/anaconda3/lib/python3.9/site-packages (from linkchecker) (2.27.1)\n",
      "Requirement already satisfied: soupsieve>1.2 in /Users/39388/opt/anaconda3/lib/python3.9/site-packages (from beautifulsoup4>=4.8.1->linkchecker) (2.3.1)\n",
      "Requirement already satisfied: urllib3<1.27,>=1.21.1 in /Users/39388/opt/anaconda3/lib/python3.9/site-packages (from requests>=2.4->linkchecker) (1.26.9)\n",
      "Requirement already satisfied: charset-normalizer~=2.0.0 in /Users/39388/opt/anaconda3/lib/python3.9/site-packages (from requests>=2.4->linkchecker) (2.0.4)\n",
      "Requirement already satisfied: idna<4,>=2.5 in /Users/39388/opt/anaconda3/lib/python3.9/site-packages (from requests>=2.4->linkchecker) (3.3)\n",
      "Requirement already satisfied: certifi>=2017.4.17 in /Users/39388/opt/anaconda3/lib/python3.9/site-packages (from requests>=2.4->linkchecker) (2021.10.8)\n"
     ]
    }
   ],
   "source": [
    "!pip install linkchecker\n"
   ]
  },
  {
   "cell_type": "code",
   "execution_count": 5,
   "id": "6407c0be",
   "metadata": {},
   "outputs": [
    {
     "ename": "ModuleNotFoundError",
     "evalue": "No module named 'linkchecker'",
     "output_type": "error",
     "traceback": [
      "\u001b[0;31m---------------------------------------------------------------------------\u001b[0m",
      "\u001b[0;31mModuleNotFoundError\u001b[0m                       Traceback (most recent call last)",
      "Input \u001b[0;32mIn [5]\u001b[0m, in \u001b[0;36m<cell line: 1>\u001b[0;34m()\u001b[0m\n\u001b[0;32m----> 1\u001b[0m \u001b[38;5;28;01mimport\u001b[39;00m \u001b[38;5;21;01mlinkchecker\u001b[39;00m\n",
      "\u001b[0;31mModuleNotFoundError\u001b[0m: No module named 'linkchecker'"
     ]
    }
   ],
   "source": [
    "import linkchecker"
   ]
  },
  {
   "cell_type": "code",
   "execution_count": 2,
   "id": "dc9936fa",
   "metadata": {},
   "outputs": [
    {
     "ename": "SyntaxError",
     "evalue": "invalid syntax (3911812536.py, line 1)",
     "output_type": "error",
     "traceback": [
      "\u001b[0;36m  Input \u001b[0;32mIn [2]\u001b[0;36m\u001b[0m\n\u001b[0;31m    linkchecker https://cathedralmathcompetition.com/\u001b[0m\n\u001b[0m                ^\u001b[0m\n\u001b[0;31mSyntaxError\u001b[0m\u001b[0;31m:\u001b[0m invalid syntax\n"
     ]
    }
   ],
   "source": [
    "linkchecker https://cathedralmathcompetition.com/"
   ]
  },
  {
   "cell_type": "code",
   "execution_count": null,
   "id": "48018056",
   "metadata": {},
   "outputs": [],
   "source": []
  }
 ],
 "metadata": {
  "kernelspec": {
   "display_name": "Python 3 (ipykernel)",
   "language": "python",
   "name": "python3"
  },
  "language_info": {
   "codemirror_mode": {
    "name": "ipython",
    "version": 3
   },
   "file_extension": ".py",
   "mimetype": "text/x-python",
   "name": "python",
   "nbconvert_exporter": "python",
   "pygments_lexer": "ipython3",
   "version": "3.9.12"
  }
 },
 "nbformat": 4,
 "nbformat_minor": 5
}
